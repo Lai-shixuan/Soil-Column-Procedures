{
 "cells": [
  {
   "cell_type": "markdown",
   "id": "31b853ac",
   "metadata": {},
   "source": [
    "# Imports"
   ]
  },
  {
   "cell_type": "code",
   "execution_count": 1,
   "id": "initial_id",
   "metadata": {
    "ExecuteTime": {
     "end_time": "2024-05-13T07:34:41.703961Z",
     "start_time": "2024-05-13T07:34:41.697447Z"
    },
    "collapsed": true
   },
   "outputs": [],
   "source": [
    "import API_functions.file_single as fs\n",
    "import API_functions.file_batch as fb\n",
    "import API_functions.file_info as fi\n",
    "import API_functions.pre_process as pp\n",
    "import API_functions.threshold_position_independent as tpi"
   ]
  },
  {
   "cell_type": "markdown",
   "id": "574488e68a1b5259",
   "metadata": {},
   "source": [
    "# A quick check about the method"
   ]
  },
  {
   "cell_type": "code",
   "execution_count": 4,
   "id": "a658c1863634af05",
   "metadata": {
    "ExecuteTime": {
     "end_time": "2024-05-13T07:34:04.408884Z",
     "start_time": "2024-05-13T07:34:04.207070Z"
    }
   },
   "outputs": [
    {
     "ename": "Exception",
     "evalue": "Error: Image not found",
     "output_type": "error",
     "traceback": [
      "\u001b[1;31m---------------------------------------------------------------------------\u001b[0m",
      "\u001b[1;31mException\u001b[0m                                 Traceback (most recent call last)",
      "Cell \u001b[1;32mIn[4], line 4\u001b[0m\n\u001b[0;32m      2\u001b[0m single_path \u001b[38;5;241m=\u001b[39m \u001b[38;5;124m\"\u001b[39m\u001b[38;5;124me:/3.Experimental_Data/Soil.column.2/0201/Reconstruct.Rename/\u001b[39m\u001b[38;5;124m\"\u001b[39m\n\u001b[0;32m      3\u001b[0m file_name \u001b[38;5;241m=\u001b[39m \u001b[38;5;124m\"\u001b[39m\u001b[38;5;124m0103_rec00003312.bmp\u001b[39m\u001b[38;5;124m\"\u001b[39m\n\u001b[1;32m----> 4\u001b[0m image \u001b[38;5;241m=\u001b[39m \u001b[43mfs\u001b[49m\u001b[38;5;241;43m.\u001b[39;49m\u001b[43mread_image_opencv\u001b[49m\u001b[43m(\u001b[49m\u001b[38;5;28;43mstr\u001b[39;49m\u001b[43m(\u001b[49m\u001b[43mos\u001b[49m\u001b[38;5;241;43m.\u001b[39;49m\u001b[43mpath\u001b[49m\u001b[38;5;241;43m.\u001b[39;49m\u001b[43mjoin\u001b[49m\u001b[43m(\u001b[49m\u001b[43msingle_path\u001b[49m\u001b[43m,\u001b[49m\u001b[43m \u001b[49m\u001b[43mfile_name\u001b[49m\u001b[43m)\u001b[49m\u001b[43m)\u001b[49m\u001b[43m)\u001b[49m\n\u001b[0;32m      5\u001b[0m fs\u001b[38;5;241m.\u001b[39mshow_image(image, \u001b[38;5;241m4\u001b[39m, (\u001b[38;5;241m2\u001b[39m, \u001b[38;5;241m2\u001b[39m, \u001b[38;5;241m1\u001b[39m))\n\u001b[0;32m      7\u001b[0m \u001b[38;5;66;03m# Get image info\u001b[39;00m\n",
      "File \u001b[1;32mc:\\Users\\laish\\1_Codes\\Image_processing_toolchain\\API_functions\\file_single.py:10\u001b[0m, in \u001b[0;36mread_image_opencv\u001b[1;34m(image_path)\u001b[0m\n\u001b[0;32m      8\u001b[0m img \u001b[38;5;241m=\u001b[39m cv2\u001b[38;5;241m.\u001b[39mimread(image_path, cv2\u001b[38;5;241m.\u001b[39mIMREAD_UNCHANGED)\n\u001b[0;32m      9\u001b[0m \u001b[38;5;28;01mif\u001b[39;00m img \u001b[38;5;129;01mis\u001b[39;00m \u001b[38;5;28;01mNone\u001b[39;00m:\n\u001b[1;32m---> 10\u001b[0m     \u001b[38;5;28;01mraise\u001b[39;00m \u001b[38;5;167;01mException\u001b[39;00m(\u001b[38;5;124m'\u001b[39m\u001b[38;5;124mError: Image not found\u001b[39m\u001b[38;5;124m'\u001b[39m)\n\u001b[0;32m     11\u001b[0m \u001b[38;5;66;03m# print(\"\\033[1;3mReading Completed!\\033[0m\")\u001b[39;00m\n\u001b[0;32m     12\u001b[0m \u001b[38;5;28;01mreturn\u001b[39;00m img\n",
      "\u001b[1;31mException\u001b[0m: Error: Image not found"
     ]
    }
   ],
   "source": [
    "# Read image\n",
    "single_path = \"e:/3.Experimental_Data/Soil.column.2/0201/Reconstruct.Rename/\"\n",
    "file_name = \"0103_rec00003312.bmp\"\n",
    "image = fs.read_image_opencv(str(os.path.join(single_path, file_name)))\n",
    "fs.show_image(image, 4, (2, 2, 1))\n",
    "\n",
    "# Get image info\n",
    "fi.get_info(image)\n",
    "hist = fi.calculate_hist(image)\n",
    "fi.plot_hist(hist, 4, (2, 2, 2))\n",
    "\n",
    "# Pre-process image\n",
    "image_prepropossed = pp.median(image, kernel_size=3)\n",
    "fs.show_image(image_prepropossed, 4, (2, 2, 3))\n",
    "\n",
    "# Threshold image\n",
    "image_threshold = tpi.user_threshold(image_prepropossed, 145)\n",
    "# image_threshold = tpi.kmeans_3d(image_prepropossed)\n",
    "fs.show_image(image_threshold, 4, (2, 2, 4))"
   ]
  },
  {
   "cell_type": "markdown",
   "id": "4393f4f31d826e04",
   "metadata": {},
   "source": [
    "# Work with the method above"
   ]
  },
  {
   "cell_type": "markdown",
   "id": "383b82c0",
   "metadata": {},
   "source": [
    "## 2.1 Get Image Lists"
   ]
  },
  {
   "cell_type": "code",
   "execution_count": 2,
   "id": "d2579258bd82da28",
   "metadata": {
    "ExecuteTime": {
     "end_time": "2024-05-13T07:34:04.705867Z",
     "start_time": "2024-05-13T07:34:04.691355Z"
    }
   },
   "outputs": [
    {
     "name": "stdout",
     "output_type": "stream",
     "text": [
      "Your image name format is: 1-2_rec00_XXXX\n",
      "3506 images have been found in e:/3.Experimental_Data/Soil.column.2/0202/Reconstruct/\n",
      "The first 3 images are:\n",
      "e:/3.Experimental_Data/Soil.column.2/0202/Reconstruct\\1-2_rec00000014.bmp\n",
      "e:/3.Experimental_Data/Soil.column.2/0202/Reconstruct\\1-2_rec00000015.bmp\n",
      "e:/3.Experimental_Data/Soil.column.2/0202/Reconstruct\\1-2_rec00000016.bmp\n",
      "\u001b[1;3mWarning\u001b[0m, your files are too large to read all.\n",
      "\u001b[1;3mGet names completely!\u001b[0m\n"
     ]
    }
   ],
   "source": [
    "name_to_read = fb.ImageName(prefix=\"1-2_rec00\", suffix=\"\")\n",
    "path_to_read = \"e:/3.Experimental_Data/Soil.column.2/0202/Reconstruct/\"\n",
    "# path_to_read = \"e:/3.Experimental_Data/Soil.column.2/0201/Threshold/\"\n",
    "list_to_read = fb.get_image_names(path_to_read, name_to_read, \"bmp\")"
   ]
  },
  {
   "cell_type": "markdown",
   "id": "6819e660",
   "metadata": {},
   "source": [
    "## 2.2 Rename and ROI select"
   ]
  },
  {
   "cell_type": "code",
   "execution_count": 3,
   "id": "7651954a",
   "metadata": {},
   "outputs": [
    {
     "name": "stdout",
     "output_type": "stream",
     "text": [
      "Your ROI is: x1=100, y1=300, width=800, height=1000, depth=16-50\n"
     ]
    }
   ],
   "source": [
    "roi = fb.roi_region(100, 300, 800, 1000, z1=16, z2=50)"
   ]
  },
  {
   "cell_type": "code",
   "execution_count": 14,
   "id": "4d30d707",
   "metadata": {},
   "outputs": [
    {
     "name": "stderr",
     "output_type": "stream",
     "text": [
      "100%|██████████| 35/35 [00:00<00:00, 43.77it/s]"
     ]
    },
    {
     "name": "stdout",
     "output_type": "stream",
     "text": [
      "The first 3 images are:\n",
      "e:/3.Experimental_Data/Soil.column.2/0202/ROI.Rename/1-2_rec00000016.png\n",
      "e:/3.Experimental_Data/Soil.column.2/0202/ROI.Rename/1-2_rec00000017.png\n",
      "e:/3.Experimental_Data/Soil.column.2/0202/ROI.Rename/1-2_rec00000018.png\n",
      "\u001b[1;3mROI Selected Completely!\u001b[0m\n"
     ]
    },
    {
     "name": "stderr",
     "output_type": "stream",
     "text": [
      "\n"
     ]
    }
   ],
   "source": [
    "path_roi_selected = \"e:/3.Experimental_Data/Soil.column.2/0202/ROI.Rename/\"\n",
    "list_roi_selected = fb.roi_select(list_to_read, path=path_roi_selected, roi=roi)"
   ]
  },
  {
   "cell_type": "code",
   "execution_count": 15,
   "id": "bf6766bf",
   "metadata": {},
   "outputs": [
    {
     "name": "stdout",
     "output_type": "stream",
     "text": [
      "Your image name format is: 002_ou_DongYing_XXXX_roi_selected\n"
     ]
    },
    {
     "name": "stderr",
     "output_type": "stream",
     "text": [
      "100%|██████████| 35/35 [00:00<00:00, 696.09it/s]"
     ]
    },
    {
     "name": "stdout",
     "output_type": "stream",
     "text": [
      "The first 3 images are:\n",
      "e:/3.Experimental_Data/Soil.column.2/0202/ROI.Rename\\002_ou_DongYing_03321_roi_selected.png\n",
      "e:/3.Experimental_Data/Soil.column.2/0202/ROI.Rename\\002_ou_DongYing_03322_roi_selected.png\n",
      "e:/3.Experimental_Data/Soil.column.2/0202/ROI.Rename\\002_ou_DongYing_03323_roi_selected.png\n",
      "\u001b[1;3mRename completely!\u001b[0m\n"
     ]
    },
    {
     "name": "stderr",
     "output_type": "stream",
     "text": [
      "\n"
     ]
    }
   ],
   "source": [
    "name_roi_selected = fb.ImageName(prefix=\"002_ou_DongYing\", suffix=\"roi_selected\")\n",
    "startid = 3321\n",
    "list_roi_selected.reverse()\n",
    "list_renamed = fb.rename(list_roi_selected, new_name=name_roi_selected, start_index=startid, overwrite=True)"
   ]
  },
  {
   "cell_type": "markdown",
   "id": "926b25f4",
   "metadata": {},
   "source": [
    "## 3.3 Pre-process and Get its Threshold"
   ]
  },
  {
   "cell_type": "code",
   "execution_count": 16,
   "id": "0c8e6afc",
   "metadata": {},
   "outputs": [],
   "source": [
    "import cv2\n",
    "import os\n",
    "from tqdm import tqdm"
   ]
  },
  {
   "cell_type": "code",
   "execution_count": 17,
   "id": "c51949a250997e38",
   "metadata": {
    "ExecuteTime": {
     "end_time": "2024-05-13T06:39:47.269942Z",
     "start_time": "2024-05-13T06:36:52.074605Z"
    }
   },
   "outputs": [],
   "source": [
    "def image_process(namelists: list, save_path: str, save_name: fb.ImageName):\n",
    "    \"\"\"\n",
    "    Only for gray scale image.\n",
    "    \"\"\"\n",
    "    \n",
    "    temp_list = []\n",
    "\n",
    "    for i, name in enumerate(tqdm(namelists)):\n",
    "        image = cv2.imread(name, cv2.IMREAD_GRAYSCALE)\n",
    "        # image = fs.read_image_opencv(str(os.path.join(batch_read_path, name)))\n",
    "        image_prepropossed = pp.median(image, 5)\n",
    "        image_threshold = tpi.user_threshold(image_prepropossed, 145)\n",
    "        image_invert = cv2.bitwise_not(image_threshold)     # invert image, make the pore space to be white\n",
    "\n",
    "        save = os.path.join(save_path, f'{save_name.prefix}{str(i).zfill(5)}{save_name.suffix}.png')\n",
    "        \n",
    "        cv2.imwrite(save, image_invert)\n",
    "        temp_list.append(save)\n",
    "\n",
    "    fb.show_image_names(temp_list)\n",
    "    return temp_list"
   ]
  },
  {
   "cell_type": "code",
   "execution_count": 18,
   "id": "5f1632dc",
   "metadata": {},
   "outputs": [
    {
     "name": "stdout",
     "output_type": "stream",
     "text": [
      "Your image name format is: 002_ou_DongYing_XXXX_processed\n"
     ]
    },
    {
     "name": "stderr",
     "output_type": "stream",
     "text": [
      "100%|██████████| 35/35 [00:00<00:00, 64.09it/s]"
     ]
    },
    {
     "name": "stdout",
     "output_type": "stream",
     "text": [
      "The first 3 images are:\n",
      "e:/3.Experimental_Data/Soil.column.2/0202/Threshold/002_ou_DongYing_00000_processed.png\n",
      "e:/3.Experimental_Data/Soil.column.2/0202/Threshold/002_ou_DongYing_00001_processed.png\n",
      "e:/3.Experimental_Data/Soil.column.2/0202/Threshold/002_ou_DongYing_00002_processed.png\n"
     ]
    },
    {
     "name": "stderr",
     "output_type": "stream",
     "text": [
      "\n"
     ]
    }
   ],
   "source": [
    "name_processed = fb.ImageName(prefix=\"002_ou_DongYing\", suffix=\"processed\")\n",
    "path_processed = \"e:/3.Experimental_Data/Soil.column.2/0202/Threshold/\"\n",
    "list_processed = image_process(list_renamed, save_name=name_processed, save_path=path_processed)"
   ]
  },
  {
   "cell_type": "markdown",
   "id": "743e6c82",
   "metadata": {},
   "source": [
    "## 3.4 Get nii File"
   ]
  },
  {
   "cell_type": "code",
   "execution_count": 19,
   "id": "dc6861a811b32ec1",
   "metadata": {
    "ExecuteTime": {
     "end_time": "2024-05-13T07:34:50.032559Z",
     "start_time": "2024-05-13T07:34:46.353715Z"
    }
   },
   "outputs": [
    {
     "name": "stderr",
     "output_type": "stream",
     "text": [
      "100%|██████████| 35/35 [00:00<00:00, 343.02it/s]"
     ]
    },
    {
     "name": "stdout",
     "output_type": "stream",
     "text": [
      "35 images have been read\n",
      "\u001b[1;3mReading completely!\u001b[0m\n"
     ]
    },
    {
     "name": "stderr",
     "output_type": "stream",
     "text": [
      "\n"
     ]
    },
    {
     "ename": "Exception",
     "evalue": "Error: The file has existed, please change the name.",
     "output_type": "error",
     "traceback": [
      "\u001b[1;31m---------------------------------------------------------------------------\u001b[0m",
      "\u001b[1;31mException\u001b[0m                                 Traceback (most recent call last)",
      "Cell \u001b[1;32mIn[19], line 3\u001b[0m\n\u001b[0;32m      1\u001b[0m name_nii \u001b[38;5;241m=\u001b[39m \u001b[38;5;124m\"\u001b[39m\u001b[38;5;124msoil_column_2_2\u001b[39m\u001b[38;5;124m'\u001b[39m\u001b[38;5;124m\"\u001b[39m\n\u001b[0;32m      2\u001b[0m path_nii \u001b[38;5;241m=\u001b[39m \u001b[38;5;124m\"\u001b[39m\u001b[38;5;124me:/3.Experimental_Data/Soil.column.2/\u001b[39m\u001b[38;5;124m\"\u001b[39m\n\u001b[1;32m----> 3\u001b[0m \u001b[43mfb\u001b[49m\u001b[38;5;241;43m.\u001b[39;49m\u001b[43mcreate_nifti\u001b[49m\u001b[43m(\u001b[49m\u001b[43mlist_processed\u001b[49m\u001b[43m,\u001b[49m\u001b[43m \u001b[49m\u001b[43mpath_nii\u001b[49m\u001b[43m,\u001b[49m\u001b[43m \u001b[49m\u001b[43mname_nii\u001b[49m\u001b[43m)\u001b[49m\n",
      "File \u001b[1;32mc:\\Users\\laish\\1_Codes\\Image_processing_toolchain\\API_functions\\file_batch.py:154\u001b[0m, in \u001b[0;36mcreate_nifti\u001b[1;34m(image_lists, output_folder, nifti_name)\u001b[0m\n\u001b[0;32m    152\u001b[0m \u001b[38;5;66;03m# Detect whether has a nib file in that path\u001b[39;00m\n\u001b[0;32m    153\u001b[0m \u001b[38;5;28;01mif\u001b[39;00m os\u001b[38;5;241m.\u001b[39mpath\u001b[38;5;241m.\u001b[39mexists(output_path):\n\u001b[1;32m--> 154\u001b[0m     \u001b[38;5;28;01mraise\u001b[39;00m \u001b[38;5;167;01mException\u001b[39;00m(\u001b[38;5;124m'\u001b[39m\u001b[38;5;124mError: The file has existed, please change the name.\u001b[39m\u001b[38;5;124m'\u001b[39m)\n\u001b[0;32m    156\u001b[0m nib\u001b[38;5;241m.\u001b[39msave(nifti_img, output_path)\n\u001b[0;32m    157\u001b[0m \u001b[38;5;28mprint\u001b[39m(\u001b[38;5;124m\"\u001b[39m\u001b[38;5;130;01m\\033\u001b[39;00m\u001b[38;5;124m[1;3mSave Done!\u001b[39m\u001b[38;5;130;01m\\033\u001b[39;00m\u001b[38;5;124m[0m\u001b[39m\u001b[38;5;124m\"\u001b[39m)\n",
      "\u001b[1;31mException\u001b[0m: Error: The file has existed, please change the name."
     ]
    }
   ],
   "source": [
    "name_nii = \"soil_column_2_2'\"\n",
    "path_nii = \"e:/3.Experimental_Data/Soil.column.2/\"\n",
    "fb.create_nifti(list_processed, path_nii, name_nii)"
   ]
  }
 ],
 "metadata": {
  "kernelspec": {
   "display_name": "Python 3",
   "language": "python",
   "name": "python3"
  },
  "language_info": {
   "codemirror_mode": {
    "name": "ipython",
    "version": 3
   },
   "file_extension": ".py",
   "mimetype": "text/x-python",
   "name": "python",
   "nbconvert_exporter": "python",
   "pygments_lexer": "ipython3",
   "version": "3.9.18"
  }
 },
 "nbformat": 4,
 "nbformat_minor": 5
}
