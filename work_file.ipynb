{
 "cells": [
  {
   "cell_type": "markdown",
   "id": "31b853ac",
   "metadata": {},
   "source": [
    "# Imports"
   ]
  },
  {
   "cell_type": "code",
   "execution_count": null,
   "id": "initial_id",
   "metadata": {
    "ExecuteTime": {
     "end_time": "2024-05-13T07:34:41.703961Z",
     "start_time": "2024-05-13T07:34:41.697447Z"
    },
    "collapsed": true
   },
   "outputs": [],
   "source": [
    "import API_functions.file_single as fs\n",
    "import API_functions.file_batch as fb\n",
    "import API_functions.file_info as fi\n",
    "import API_functions.pre_process as pp\n",
    "import API_functions.threshold_position_independent as tpi\n",
    "import API_functions.dying as dy"
   ]
  },
  {
   "cell_type": "code",
   "execution_count": null,
   "id": "8916b621",
   "metadata": {},
   "outputs": [],
   "source": [
    "import os\n",
    "import numpy as np"
   ]
  },
  {
   "cell_type": "markdown",
   "id": "574488e68a1b5259",
   "metadata": {},
   "source": [
    "# A quick check about the method"
   ]
  },
  {
   "cell_type": "code",
   "execution_count": null,
   "id": "a658c1863634af05",
   "metadata": {
    "ExecuteTime": {
     "end_time": "2024-05-13T07:34:04.408884Z",
     "start_time": "2024-05-13T07:34:04.207070Z"
    }
   },
   "outputs": [],
   "source": [
    "# Read image\n",
    "single_path = \"e:/3.Experimental_Data/Soil.column.2/0201/Reconstruct.Rename/\"\n",
    "file_name = \"0103_rec00003312.bmp\"\n",
    "image = fs.read_image_opencv(str(os.path.join(single_path, file_name)))\n",
    "fs.show_image(image, 4, (2, 2, 1))\n",
    "\n",
    "# Get image info\n",
    "fi.get_info(image)\n",
    "hist = fi.calculate_hist(image)\n",
    "fi.plot_hist(hist, 4, (2, 2, 2))\n",
    "\n",
    "# Pre-process image\n",
    "image_prepropossed = pp.median(image, kernel_size=3)\n",
    "fs.show_image(image_prepropossed, 4, (2, 2, 3))\n",
    "\n",
    "# Threshold image\n",
    "image_threshold = tpi.user_threshold(image_prepropossed, 145)\n",
    "# image_threshold = tpi.kmeans_3d(image_prepropossed)\n",
    "fs.show_image(image_threshold, 4, (2, 2, 4))"
   ]
  },
  {
   "cell_type": "markdown",
   "id": "4393f4f31d826e04",
   "metadata": {},
   "source": [
    "# Work with the method above"
   ]
  },
  {
   "cell_type": "markdown",
   "id": "383b82c0",
   "metadata": {},
   "source": [
    "## 3.1 Get Image Lists"
   ]
  },
  {
   "cell_type": "code",
   "execution_count": null,
   "id": "d2579258bd82da28",
   "metadata": {
    "ExecuteTime": {
     "end_time": "2024-05-13T07:34:04.705867Z",
     "start_time": "2024-05-13T07:34:04.691355Z"
    }
   },
   "outputs": [],
   "source": [
    "name_to_read = fb.ImageName(prefix=\"1-5_rec00\", suffix=\"\")\n",
    "path_to_read = \"e:/3.Experimental_Data/Soil.column.2/0205/2.Reconstruct/\"\n",
    "list_to_read = fb.get_image_names(path_to_read, name_to_read, \"bmp\")"
   ]
  },
  {
   "cell_type": "markdown",
   "id": "6819e660",
   "metadata": {},
   "source": [
    "## 3.2 ROI select"
   ]
  },
  {
   "cell_type": "code",
   "execution_count": null,
   "id": "4d30d707",
   "metadata": {},
   "outputs": [],
   "source": [
    "roi = fb.roi_region(504, 666, 800, 800, z1=200, z2=3451)\n",
    "path_roi_selected = \"e:/3.Experimental_Data/Soil.column.2/0205/3.ROI/\"\n",
    "list_roi_selected = fb.roi_select(list_to_read, path=path_roi_selected, roi=roi)"
   ]
  },
  {
   "cell_type": "markdown",
   "id": "b73ce48b",
   "metadata": {},
   "source": [
    "## 3.3 Rename"
   ]
  },
  {
   "cell_type": "code",
   "execution_count": null,
   "id": "bf6766bf",
   "metadata": {},
   "outputs": [],
   "source": [
    "name_renamed = fb.ImageName(prefix=\"002_ou_DongYing\", suffix=\"roi_selected\")\n",
    "path_renamed = \"e:/3.Experimental_Data/Soil.column.2/0205/4.Rename/\"\n",
    "startid = 12261\n",
    "\n",
    "# If the previous step meet an error\n",
    "# list_roi_selected = fb.get_image_names(\"e:/3.Experimental_Data/Soil.column.2/*/*/\", my_image_names=None, image_format=\"png\")\n",
    "list_roi_selected.reverse()\n",
    "list_renamed = fb.rename(list_roi_selected, new_path = path_renamed, new_name=name_renamed, start_index=startid, overwrite=True)"
   ]
  },
  {
   "cell_type": "markdown",
   "id": "926b25f4",
   "metadata": {},
   "source": [
    "## 3.4 Pre-process and Get its Threshold"
   ]
  },
  {
   "cell_type": "code",
   "execution_count": null,
   "id": "0c8e6afc",
   "metadata": {},
   "outputs": [],
   "source": [
    "import cv2\n",
    "import os\n",
    "from tqdm import tqdm"
   ]
  },
  {
   "cell_type": "code",
   "execution_count": null,
   "id": "c51949a250997e38",
   "metadata": {
    "ExecuteTime": {
     "end_time": "2024-05-13T06:39:47.269942Z",
     "start_time": "2024-05-13T06:36:52.074605Z"
    }
   },
   "outputs": [],
   "source": [
    "def image_process(namelists: list, save_path: str, save_name: fb.ImageName, start_index: int = 1):\n",
    "    \"\"\"\n",
    "    Only for gray scale image.\n",
    "    \"\"\"\n",
    "    \n",
    "    temp_list = []\n",
    "\n",
    "    for name in tqdm(namelists):\n",
    "        image = cv2.imread(name, cv2.IMREAD_GRAYSCALE)\n",
    "        # image = fs.read_image_opencv(str(os.path.join(batch_read_path, name)))\n",
    "        image_prepropossed = pp.median(image, 5)\n",
    "        image_threshold = tpi.user_threshold(image_prepropossed, 145)\n",
    "        image_invert = cv2.bitwise_not(image_threshold)     # invert image, make the pore space to be white\n",
    "\n",
    "        save = os.path.join(save_path, f'{save_name.prefix}{str(start_index).zfill(5)}{save_name.suffix}.png')\n",
    "        start_index += 1\n",
    "        \n",
    "        cv2.imwrite(save, image_invert)\n",
    "        temp_list.append(save)\n",
    "\n",
    "    fb.show_image_names(temp_list)\n",
    "    return temp_list"
   ]
  },
  {
   "cell_type": "code",
   "execution_count": null,
   "id": "5f1632dc",
   "metadata": {},
   "outputs": [],
   "source": [
    "# If the previous step meet an error\n",
    "# list_renamed = fb.get_image_names(\"e:/3.Experimental_Data/Soil.column.2/*/*/\", my_image_names=None, image_format=\"png\")\n",
    "\n",
    "name_processed = fb.ImageName(prefix=\"002_ou_DongYing\", suffix=\"processed\")\n",
    "path_processed = \"e:/3.Experimental_Data/Soil.column.2/0205/5.Threshold/\"\n",
    "list_processed = image_process(list_renamed, save_name=name_processed, save_path=path_processed, start_index=startid)"
   ]
  },
  {
   "cell_type": "markdown",
   "id": "743e6c82",
   "metadata": {},
   "source": [
    "## 3.5 Get nii File"
   ]
  },
  {
   "cell_type": "code",
   "execution_count": null,
   "id": "dc6861a811b32ec1",
   "metadata": {
    "ExecuteTime": {
     "end_time": "2024-05-13T07:34:50.032559Z",
     "start_time": "2024-05-13T07:34:46.353715Z"
    }
   },
   "outputs": [],
   "source": [
    "name_nii = \"soil_column_2\"\n",
    "listPart1 = fb.get_image_names(\"e:/3.Experimental_Data/Soil.column.2/0201/5.Threshold/\", my_image_names=None, image_format=\"png\")\n",
    "# listPart2 = fb.get_image_names(\"e:/3.Experimental_Data/Soil.column.2/0202/5.Threshold/\", my_image_names=None, image_format=\"png\")\n",
    "# listPart3 = fb.get_image_names(\"e:/3.Experimental_Data/Soil.column.2/0203/5.Threshold/\", my_image_names=None, image_format=\"png\")\n",
    "# listPart4 = fb.get_image_names(\"e:/3.Experimental_Data/Soil.column.2/0204/5.Threshold/\", my_image_names=None, image_format=\"png\")\n",
    "# listPart5 = fb.get_image_names(\"e:/3.Experimental_Data/Soil.column.2/0205/5.Threshold/\", my_image_names=None, image_format=\"png\")\n",
    "\n",
    "# combine_list = listPart1 + listPart2 + listPart3 + listPart4 + listPart5\n"
   ]
  },
  {
   "cell_type": "code",
   "execution_count": null,
   "id": "ad39674d",
   "metadata": {},
   "outputs": [],
   "source": [
    "for i in range(1, 6):\n",
    "    if i == 1:\n",
    "        path_nii = \"e:/3.Experimental_Data/Soil.column.2/\"\n",
    "        listPart = eval(f\"listPart{i}\")\n",
    "        name_nii = f\"soil_column_2__{i}\"\n",
    "        painted_volume, connection_part_list = dy.dying_color(listPart, 20, 5)\n",
    "        fb.create_nifti(painted_volume, path_nii, name_nii)"
   ]
  },
  {
   "cell_type": "code",
   "execution_count": null,
   "id": "7b09aede",
   "metadata": {},
   "outputs": [],
   "source": [
    "# import numpy as np\n",
    "# np.sum(painted_volume)\n",
    "# temp = painted_volume[:,:,51]\n",
    "connection_part_list"
   ]
  }
 ],
 "metadata": {
  "kernelspec": {
   "display_name": "Python 3",
   "language": "python",
   "name": "python3"
  },
  "language_info": {
   "codemirror_mode": {
    "name": "ipython",
    "version": 3
   },
   "file_extension": ".py",
   "mimetype": "text/x-python",
   "name": "python",
   "nbconvert_exporter": "python",
   "pygments_lexer": "ipython3",
   "version": "3.9.18"
  }
 },
 "nbformat": 4,
 "nbformat_minor": 5
}
