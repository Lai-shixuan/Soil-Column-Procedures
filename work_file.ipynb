{
 "cells": [
  {
   "cell_type": "markdown",
   "id": "31b853ac",
   "metadata": {},
   "source": [
    "# Imports"
   ]
  },
  {
   "cell_type": "code",
   "execution_count": 1,
   "id": "initial_id",
   "metadata": {
    "ExecuteTime": {
     "end_time": "2024-05-13T07:34:41.703961Z",
     "start_time": "2024-05-13T07:34:41.697447Z"
    },
    "collapsed": true
   },
   "outputs": [],
   "source": [
    "import API_functions.file_single as fs\n",
    "import API_functions.file_batch as fb\n",
    "import API_functions.file_info as fi\n",
    "import API_functions.pre_process as pp\n",
    "import API_functions.threshold_position_independent as tpi\n",
    "import API_functions.dying as dy"
   ]
  },
  {
   "cell_type": "code",
   "execution_count": 2,
   "id": "8916b621",
   "metadata": {},
   "outputs": [],
   "source": [
    "import os\n",
    "import numpy as np"
   ]
  },
  {
   "cell_type": "markdown",
   "id": "574488e68a1b5259",
   "metadata": {},
   "source": [
    "# A quick check about the method"
   ]
  },
  {
   "cell_type": "code",
   "execution_count": null,
   "id": "a658c1863634af05",
   "metadata": {
    "ExecuteTime": {
     "end_time": "2024-05-13T07:34:04.408884Z",
     "start_time": "2024-05-13T07:34:04.207070Z"
    }
   },
   "outputs": [],
   "source": [
    "# Read image\n",
    "single_path = \"e:/3.Experimental_Data/Soil.column.2/0201/Reconstruct.Rename/\"\n",
    "file_name = \"0103_rec00003312.bmp\"\n",
    "image = fs.read_image_opencv(str(os.path.join(single_path, file_name)))\n",
    "fs.show_image(image, 4, (2, 2, 1))\n",
    "\n",
    "# Get image info\n",
    "fi.get_info(image)\n",
    "hist = fi.calculate_hist(image)\n",
    "fi.plot_hist(hist, 4, (2, 2, 2))\n",
    "\n",
    "# Pre-process image\n",
    "image_prepropossed = pp.median(image, kernel_size=3)\n",
    "fs.show_image(image_prepropossed, 4, (2, 2, 3))\n",
    "\n",
    "# Threshold image\n",
    "image_threshold = tpi.user_threshold(image_prepropossed, 145)\n",
    "# image_threshold = tpi.kmeans_3d(image_prepropossed)\n",
    "fs.show_image(image_threshold, 4, (2, 2, 4))"
   ]
  },
  {
   "cell_type": "markdown",
   "id": "4393f4f31d826e04",
   "metadata": {},
   "source": [
    "# Work with the method above"
   ]
  },
  {
   "cell_type": "markdown",
   "id": "383b82c0",
   "metadata": {},
   "source": [
    "## 3.1 Get Image Lists"
   ]
  },
  {
   "cell_type": "code",
   "execution_count": null,
   "id": "d2579258bd82da28",
   "metadata": {
    "ExecuteTime": {
     "end_time": "2024-05-13T07:34:04.705867Z",
     "start_time": "2024-05-13T07:34:04.691355Z"
    }
   },
   "outputs": [],
   "source": [
    "name_to_read = fb.ImageName(prefix=\"1-5_rec00\", suffix=\"\")\n",
    "path_to_read = \"e:/3.Experimental_Data/Soil.column.2/0205/2.Reconstruct/\"\n",
    "list_to_read = fb.get_image_names(path_to_read, name_to_read, \"bmp\")"
   ]
  },
  {
   "cell_type": "markdown",
   "id": "6819e660",
   "metadata": {},
   "source": [
    "## 3.2 ROI select"
   ]
  },
  {
   "cell_type": "code",
   "execution_count": null,
   "id": "4d30d707",
   "metadata": {},
   "outputs": [],
   "source": [
    "roi = fb.roi_region(504, 666, 800, 800, z1=200, z2=3451)\n",
    "path_roi_selected = \"e:/3.Experimental_Data/Soil.column.2/0205/3.ROI/\"\n",
    "list_roi_selected = fb.roi_select(list_to_read, path=path_roi_selected, roi=roi)"
   ]
  },
  {
   "cell_type": "markdown",
   "id": "b73ce48b",
   "metadata": {},
   "source": [
    "## 3.3 Rename"
   ]
  },
  {
   "cell_type": "code",
   "execution_count": null,
   "id": "bf6766bf",
   "metadata": {},
   "outputs": [],
   "source": [
    "name_renamed = fb.ImageName(prefix=\"002_ou_DongYing\", suffix=\"roi_selected\")\n",
    "path_renamed = \"e:/3.Experimental_Data/Soil.column.2/0205/4.Rename/\"\n",
    "startid = 12261\n",
    "\n",
    "# If the previous step meet an error\n",
    "# list_roi_selected = fb.get_image_names(\"e:/3.Experimental_Data/Soil.column.2/*/*/\", my_image_names=None, image_format=\"png\")\n",
    "list_roi_selected.reverse()\n",
    "list_renamed = fb.rename(list_roi_selected, new_path = path_renamed, new_name=name_renamed, start_index=startid, overwrite=True)"
   ]
  },
  {
   "cell_type": "markdown",
   "id": "926b25f4",
   "metadata": {},
   "source": [
    "## 3.4 Pre-process and Get its Threshold"
   ]
  },
  {
   "cell_type": "code",
   "execution_count": null,
   "id": "0c8e6afc",
   "metadata": {},
   "outputs": [],
   "source": [
    "import cv2\n",
    "import os\n",
    "from tqdm import tqdm"
   ]
  },
  {
   "cell_type": "code",
   "execution_count": null,
   "id": "c51949a250997e38",
   "metadata": {
    "ExecuteTime": {
     "end_time": "2024-05-13T06:39:47.269942Z",
     "start_time": "2024-05-13T06:36:52.074605Z"
    }
   },
   "outputs": [],
   "source": [
    "def image_process(namelists: list, save_path: str, save_name: fb.ImageName, start_index: int = 1):\n",
    "    \"\"\"\n",
    "    Only for gray scale image.\n",
    "    \"\"\"\n",
    "    \n",
    "    temp_list = []\n",
    "\n",
    "    for name in tqdm(namelists):\n",
    "        image = cv2.imread(name, cv2.IMREAD_GRAYSCALE)\n",
    "        # image = fs.read_image_opencv(str(os.path.join(batch_read_path, name)))\n",
    "        image_prepropossed = pp.median(image, 5)\n",
    "        image_threshold = tpi.user_threshold(image_prepropossed, 145)\n",
    "        image_invert = cv2.bitwise_not(image_threshold)     # invert image, make the pore space to be white\n",
    "\n",
    "        save = os.path.join(save_path, f'{save_name.prefix}{str(start_index).zfill(5)}{save_name.suffix}.png')\n",
    "        start_index += 1\n",
    "        \n",
    "        cv2.imwrite(save, image_invert)\n",
    "        temp_list.append(save)\n",
    "\n",
    "    fb.show_image_names(temp_list)\n",
    "    return temp_list"
   ]
  },
  {
   "cell_type": "code",
   "execution_count": null,
   "id": "5f1632dc",
   "metadata": {},
   "outputs": [],
   "source": [
    "# If the previous step meet an error\n",
    "# list_renamed = fb.get_image_names(\"e:/3.Experimental_Data/Soil.column.2/*/*/\", my_image_names=None, image_format=\"png\")\n",
    "\n",
    "name_processed = fb.ImageName(prefix=\"002_ou_DongYing\", suffix=\"processed\")\n",
    "path_processed = \"e:/3.Experimental_Data/Soil.column.2/0205/5.Threshold/\"\n",
    "list_processed = image_process(list_renamed, save_name=name_processed, save_path=path_processed, start_index=startid)"
   ]
  },
  {
   "cell_type": "markdown",
   "id": "743e6c82",
   "metadata": {},
   "source": [
    "## 3.5 Get nii File"
   ]
  },
  {
   "cell_type": "code",
   "execution_count": 3,
   "id": "dc6861a811b32ec1",
   "metadata": {
    "ExecuteTime": {
     "end_time": "2024-05-13T07:34:50.032559Z",
     "start_time": "2024-05-13T07:34:46.353715Z"
    }
   },
   "outputs": [
    {
     "name": "stdout",
     "output_type": "stream",
     "text": [
      "2581 images have been found in e:/3.Experimental_Data/Soil.column.2/0201/5.Threshold/\n",
      "The first 3 images are:\n",
      "e:/3.Experimental_Data/Soil.column.2/0201/5.Threshold\\002_ou_DongYing_00001_processed.png\n",
      "e:/3.Experimental_Data/Soil.column.2/0201/5.Threshold\\002_ou_DongYing_00002_processed.png\n",
      "e:/3.Experimental_Data/Soil.column.2/0201/5.Threshold\\002_ou_DongYing_00003_processed.png\n",
      "\u001b[1;3mWarning\u001b[0m, your files are too large to read all.\n",
      "\u001b[1;3mGet names completely!\u001b[0m\n"
     ]
    }
   ],
   "source": [
    "name_nii = \"soil_column_2\"\n",
    "listPart1 = fb.get_image_names(\"e:/3.Experimental_Data/Soil.column.2/0201/5.Threshold/\", my_image_names=None, image_format=\"png\")\n",
    "# listPart2 = fb.get_image_names(\"e:/3.Experimental_Data/Soil.column.2/0202/5.Threshold/\", my_image_names=None, image_format=\"png\")\n",
    "# listPart3 = fb.get_image_names(\"e:/3.Experimental_Data/Soil.column.2/0203/5.Threshold/\", my_image_names=None, image_format=\"png\")\n",
    "# listPart4 = fb.get_image_names(\"e:/3.Experimental_Data/Soil.column.2/0204/5.Threshold/\", my_image_names=None, image_format=\"png\")\n",
    "# listPart5 = fb.get_image_names(\"e:/3.Experimental_Data/Soil.column.2/0205/5.Threshold/\", my_image_names=None, image_format=\"png\")\n",
    "\n",
    "# combine_list = listPart1 + listPart2 + listPart3 + listPart4 + listPart5\n"
   ]
  },
  {
   "cell_type": "code",
   "execution_count": 4,
   "id": "ad39674d",
   "metadata": {},
   "outputs": [
    {
     "name": "stderr",
     "output_type": "stream",
     "text": [
      "100%|██████████| 2581/2581 [00:14<00:00, 183.08it/s]\n"
     ]
    },
    {
     "name": "stdout",
     "output_type": "stream",
     "text": [
      "2581 images have been read\n",
      "\u001b[1;3mReading completely!\u001b[0m\n",
      "Number of features: 79771\n"
     ]
    },
    {
     "name": "stderr",
     "output_type": "stream",
     "text": [
      "100%|██████████| 79771/79771 [04:39<00:00, 285.76it/s]\n"
     ]
    },
    {
     "name": "stdout",
     "output_type": "stream",
     "text": [
      "\u001b[1;3mSave Done!\u001b[0m\n"
     ]
    }
   ],
   "source": [
    "for i in range(1, 6):\n",
    "    if i == 1:\n",
    "        path_nii = \"e:/3.Experimental_Data/Soil.column.2/\"\n",
    "        listPart = eval(f\"listPart{i}\")\n",
    "        name_nii = f\"soil_column_2___{i}\"\n",
    "        painted_volume, connection_part_list = dy.dying_color(listPart, 20, 5)\n",
    "        fb.create_nifti(painted_volume, path_nii, name_nii)"
   ]
  },
  {
   "cell_type": "code",
   "execution_count": 13,
   "id": "7b09aede",
   "metadata": {},
   "outputs": [
    {
     "data": {
      "text/plain": [
       "[[1, 176624366, 1],\n",
       " [2, 4365, 2],\n",
       " [3, 1220, 3],\n",
       " [4, 1, 0],\n",
       " [5, 13, 0],\n",
       " [6, 1566, 4],\n",
       " [7, 5815, 1],\n",
       " [8, 1177, 2],\n",
       " [9, 1460, 3],\n",
       " [10, 18312, 4],\n",
       " [11, 14893, 1],\n",
       " [12, 2398, 2],\n",
       " [13, 136, 3],\n",
       " [14, 4, 0],\n",
       " [15, 2, 0],\n",
       " [16, 36, 4],\n",
       " [17, 118, 1],\n",
       " [18, 6, 0],\n",
       " [19, 4, 0],\n",
       " [20, 221, 2],\n",
       " [21, 1685, 3],\n",
       " [22, 13, 0],\n",
       " [23, 6, 0],\n",
       " [24, 5770, 4],\n",
       " [25, 5, 0],\n",
       " [26, 2, 0],\n",
       " [27, 1533, 1],\n",
       " [28, 1569, 2],\n",
       " [29, 865, 3],\n",
       " [30, 16, 0],\n",
       " [31, 39, 4],\n",
       " [32, 14, 0],\n",
       " [33, 37, 1],\n",
       " [34, 24, 2],\n",
       " [35, 9, 0],\n",
       " [36, 3669, 3],\n",
       " [37, 49, 4],\n",
       " [38, 6, 0],\n",
       " [39, 5, 0],\n",
       " [40, 3, 0],\n",
       " [41, 227, 1],\n",
       " [42, 462, 2],\n",
       " [43, 5, 0],\n",
       " [44, 6, 0],\n",
       " [45, 8, 0],\n",
       " [46, 3, 0],\n",
       " [47, 5, 0],\n",
       " [48, 18, 0],\n",
       " [49, 12, 0],\n",
       " [50, 25, 3],\n",
       " [51, 77, 4],\n",
       " [52, 5, 0],\n",
       " [53, 125, 1],\n",
       " [54, 71, 2],\n",
       " [55, 22, 3],\n",
       " [56, 17, 0],\n",
       " [57, 14, 0],\n",
       " [58, 3, 0],\n",
       " [59, 16, 0],\n",
       " [60, 25, 4],\n",
       " [61, 41, 1],\n",
       " [62, 34, 2],\n",
       " [63, 16, 0],\n",
       " [64, 18, 0],\n",
       " [65, 13, 0],\n",
       " [66, 32, 3],\n",
       " [67, 61, 4],\n",
       " [68, 15, 0],\n",
       " [69, 111, 1],\n",
       " [70, 2, 0],\n",
       " [71, 3836, 2],\n",
       " [72, 25, 3],\n",
       " [73, 8, 0],\n",
       " [74, 1004, 4],\n",
       " [75, 10, 0],\n",
       " [76, 5, 0],\n",
       " [77, 3, 0],\n",
       " [78, 6, 0],\n",
       " [79, 786, 1]]"
      ]
     },
     "execution_count": 13,
     "metadata": {},
     "output_type": "execute_result"
    }
   ],
   "source": [
    "# import numpy as np\n",
    "# np.sum(painted_volume)\n",
    "# temp = painted_volume[:,:,51]\n",
    "connection_part_list"
   ]
  }
 ],
 "metadata": {
  "kernelspec": {
   "display_name": "Python 3",
   "language": "python",
   "name": "python3"
  },
  "language_info": {
   "codemirror_mode": {
    "name": "ipython",
    "version": 3
   },
   "file_extension": ".py",
   "mimetype": "text/x-python",
   "name": "python",
   "nbconvert_exporter": "python",
   "pygments_lexer": "ipython3",
   "version": "3.9.18"
  }
 },
 "nbformat": 4,
 "nbformat_minor": 5
}
