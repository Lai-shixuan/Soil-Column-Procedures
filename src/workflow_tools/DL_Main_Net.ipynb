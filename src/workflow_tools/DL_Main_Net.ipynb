{
 "cells": [
  {
   "cell_type": "code",
   "execution_count": 1,
   "metadata": {},
   "outputs": [
    {
     "name": "stdout",
     "output_type": "stream",
     "text": [
      "env: CUBLAS_WORKSPACE_CONFIG=:4096:8\n"
     ]
    }
   ],
   "source": [
    "# %env ALL_PROXY=http://127.0.0.1:33001\n",
    "# %env HTTP_PROXY=http://127.0.0.1:33001\n",
    "# %env HTTPS_PROXY=http://127.0.0.1:33001\n",
    "%env CUBLAS_WORKSPACE_CONFIG=:4096:8"
   ]
  },
  {
   "cell_type": "code",
   "execution_count": 2,
   "metadata": {},
   "outputs": [],
   "source": [
    "# !curl google.com"
   ]
  },
  {
   "cell_type": "markdown",
   "metadata": {},
   "source": [
    "# Import"
   ]
  },
  {
   "cell_type": "markdown",
   "metadata": {},
   "source": [
    "If change the model, in training step, you need to \n",
    "1. change the log chapter\n",
    "2. change the model code"
   ]
  },
  {
   "cell_type": "code",
   "execution_count": 3,
   "metadata": {},
   "outputs": [
    {
     "name": "stderr",
     "output_type": "stream",
     "text": [
      "c:\\Users\\laish\\miniconda3\\envs\\dpln310\\lib\\site-packages\\albumentations\\__init__.py:24: UserWarning: A new version of Albumentations is available: 1.4.22 (you have 1.4.21). Upgrade using: pip install -U albumentations. To disable automatic update checks, set the environment variable NO_ALBUMENTATIONS_UPDATE to 1.\n",
      "  check_for_updates()\n"
     ]
    }
   ],
   "source": [
    "import cv2\n",
    "import numpy as np\n",
    "import torch\n",
    "import torch.nn as nn\n",
    "import albumentations as A\n",
    "import segmentation_models_pytorch as smp\n",
    "\n",
    "from tqdm import tqdm\n",
    "from torch.utils.data import DataLoader\n",
    "from albumentations.pytorch import ToTensorV2\n",
    "from sklearn.model_selection import KFold, train_test_split\n",
    "\n",
    "import wandb"
   ]
  },
  {
   "cell_type": "code",
   "execution_count": 4,
   "metadata": {},
   "outputs": [],
   "source": [
    "import sys\n",
    "# sys.path.insert(0, \"/root/Soil-Column-Procedures\")\n",
    "sys.path.insert(0, \"c:/Users/laish/1_Codes/Image_processing_toolchain/\")\n",
    "\n",
    "from src.API_functions.DL import load_data, log, seed, evaluate\n",
    "from src.API_functions.Images import file_batch as fb\n",
    "from src.API_functions.Soils import pre_process\n",
    "from src.workflow_tools.model_online import fr_unet"
   ]
  },
  {
   "cell_type": "markdown",
   "metadata": {},
   "source": [
    "# Hyperparameter and log"
   ]
  },
  {
   "cell_type": "code",
   "execution_count": 5,
   "metadata": {},
   "outputs": [],
   "source": [
    "my_parameters = {\n",
    "    'seed': 888,\n",
    "\n",
    "    'Kfold': None,\n",
    "    'ratio': 0.25,\n",
    "\n",
    "    'model': 'DeepLabv3+',   # model = 'U-Net', 'DeepLabv3+', 'PSPNet'\n",
    "    'optimizer': 'adam',\n",
    "    'learning_rate': 0.001,  # Initial learning rate\n",
    "    'scheduler': 'reduce_on_plateau',  # Type of scheduler\n",
    "    'scheduler_patience': 10,  # Number of epochs to wait before reducing LR\n",
    "    'scheduler_factor': 0.5,  # Factor by which to reduce LR\n",
    "    'scheduler_min_lr': 1e-6,  # Minimum learning rate\n",
    "    'batch_size': 8,\n",
    "    'loss_function': 'cross_entropy',\n",
    "\n",
    "    'n_epochs': 1000,\n",
    "    'patience': 50,\n",
    "\n",
    "    'wandb': '28.using_fr_unet'\n",
    "}\n",
    "\n",
    "device = 'cuda'\n",
    "mylogger = log.DataLogger('wandb')  # 'wandb' or 'all'\n",
    "\n",
    "seed.stablize_seed(my_parameters['seed'])"
   ]
  },
  {
   "cell_type": "markdown",
   "metadata": {},
   "source": [
    "# Transform"
   ]
  },
  {
   "cell_type": "code",
   "execution_count": 6,
   "metadata": {},
   "outputs": [],
   "source": [
    "# For training data\n",
    "transform_train = A.Compose([\n",
    "    A.HorizontalFlip(p=0.5),\n",
    "    A.VerticalFlip(p=0.5),\n",
    "    A.Rotate(limit=90, p=0.5),\n",
    "    A.GaussNoise(p=0.5),\n",
    "    # A.OpticalDistortion(p=0.5),\n",
    "    ToTensorV2(),\n",
    "], seed=my_parameters['seed'])\n",
    "\n",
    "# For validation and test data\n",
    "transform_val = A.Compose([\n",
    "    A.HorizontalFlip(p=0.5),\n",
    "    A.VerticalFlip(p=0.5),\n",
    "    A.Rotate(limit=90, p=0.5),\n",
    "    A.GaussNoise(p=0.5),\n",
    "    ToTensorV2(),\n",
    "], seed=my_parameters['seed'])"
   ]
  },
  {
   "cell_type": "markdown",
   "metadata": {},
   "source": [
    "# Model"
   ]
  },
  {
   "cell_type": "code",
   "execution_count": 7,
   "metadata": {},
   "outputs": [],
   "source": [
    "# model = smp.PSPNet(\n",
    "#     encoder_name=\"resnet34\",        # choose encoder, e.g. mobilenet_v2 or efficientnet-b7\n",
    "#     encoder_weights=\"imagenet\",     # use `imagenet` pre-trained weights for encoder initialization\n",
    "#     in_channels=1,                  # model input channels (1 for gray-scale images, 3 for RGB, etc.)\n",
    "#     classes=1,                      # model output channels (number of classes in your dataset)\n",
    "# )\n",
    "# model = model.to(device)"
   ]
  },
  {
   "cell_type": "code",
   "execution_count": 8,
   "metadata": {},
   "outputs": [],
   "source": [
    "# model = smp.Unet(\n",
    "#     encoder_name=\"efficientnet-b0\",        # choose encoder, e.g. mobilenet_v2 or efficientnet-b7\n",
    "#     encoder_weights=\"imagenet\",     # use `imagenet` pre-trained weights for encoder initialization\n",
    "#     in_channels=1,                  # model input channels (1 for gray-scale images, 3 for RGB, etc.)\n",
    "#     classes=1,                      # model output channels (number of classes in your dataset)\n",
    "# )\n",
    "# model = model.to(device)"
   ]
  },
  {
   "cell_type": "code",
   "execution_count": 9,
   "metadata": {},
   "outputs": [],
   "source": [
    "# model = smp.DeepLabV3Plus(\n",
    "#     encoder_name=\"resnet34\",        # choose encoder, e.g. mobilenet_v2 or efficientnet-b7\n",
    "#     encoder_weights=\"imagenet\",     # use `imagenet` pre-trained weights for encoder initialization\n",
    "#     in_channels=1,                  # model input channels (1 for gray-scale images, 3 for RGB, etc.)\n",
    "#     classes=1,                      # model output channels (number of classes in your dataset)\n",
    "# )\n",
    "\n",
    "# model.load_state_dict(torch.load(f\"c:/Users/laish/1_Codes/Image_processing_toolchain/src/workflow_tools/model_DeepLabv3+_23.drive_again.pth\", weights_only=True))"
   ]
  },
  {
   "cell_type": "code",
   "execution_count": 10,
   "metadata": {},
   "outputs": [],
   "source": [
    "model = fr_unet.FR_UNet(num_channels=1, num_classes=1, feature_scale=2, dropout=0.2, fuse=True, out_ave=True)\n",
    "model = model.to(device)"
   ]
  },
  {
   "cell_type": "code",
   "execution_count": 11,
   "metadata": {},
   "outputs": [],
   "source": [
    "\n",
    "# Freeze encoder parameters\n",
    "# for param in model.encoder.parameters():\n",
    "    # param.requires_grad = False\n",
    "\n",
    "# model = model.to(device)"
   ]
  },
  {
   "cell_type": "code",
   "execution_count": 12,
   "metadata": {},
   "outputs": [],
   "source": [
    "optimizer = torch.optim.Adam(model.parameters(), lr=my_parameters['learning_rate'])\n",
    "scheduler = torch.optim.lr_scheduler.ReduceLROnPlateau(\n",
    "    optimizer,\n",
    "    mode='min',\n",
    "    factor=my_parameters['scheduler_factor'],\n",
    "    patience=my_parameters['scheduler_patience'],\n",
    "    min_lr=my_parameters['scheduler_min_lr']\n",
    ")\n",
    "criterion = evaluate.DiceBCELoss()"
   ]
  },
  {
   "cell_type": "markdown",
   "metadata": {},
   "source": [
    "# Train"
   ]
  },
  {
   "cell_type": "markdown",
   "metadata": {},
   "source": [
    "The codes below are only for training.\n",
    "\n",
    "In test step, you need to proceed the codes above and the test chapter code."
   ]
  },
  {
   "cell_type": "markdown",
   "metadata": {},
   "source": [
    "## Wandb"
   ]
  },
  {
   "cell_type": "code",
   "execution_count": 13,
   "metadata": {},
   "outputs": [
    {
     "name": "stderr",
     "output_type": "stream",
     "text": [
      "wandb: Using wandb-core as the SDK backend.  Please refer to https://wandb.me/wandb-core for more information.\n",
      "wandb: Currently logged in as: laishixuan123 (laishixuan123-china-agricultural-university). Use `wandb login --relogin` to force relogin\n"
     ]
    },
    {
     "data": {
      "text/html": [
       "Tracking run with wandb version 0.18.7"
      ],
      "text/plain": [
       "<IPython.core.display.HTML object>"
      ]
     },
     "metadata": {},
     "output_type": "display_data"
    },
    {
     "data": {
      "text/html": [
       "Run data is saved locally in <code>c:\\Users\\laish\\1_Codes\\Image_processing_toolchain\\src\\workflow_tools\\wandb\\run-20241212_191828-3drvadma</code>"
      ],
      "text/plain": [
       "<IPython.core.display.HTML object>"
      ]
     },
     "metadata": {},
     "output_type": "display_data"
    },
    {
     "data": {
      "text/html": [
       "Syncing run <strong><a href='https://wandb.ai/laishixuan123-china-agricultural-university/U-Net/runs/3drvadma' target=\"_blank\">28.using_fr_unet</a></strong> to <a href='https://wandb.ai/laishixuan123-china-agricultural-university/U-Net' target=\"_blank\">Weights & Biases</a> (<a href='https://wandb.me/developer-guide' target=\"_blank\">docs</a>)<br/>"
      ],
      "text/plain": [
       "<IPython.core.display.HTML object>"
      ]
     },
     "metadata": {},
     "output_type": "display_data"
    },
    {
     "data": {
      "text/html": [
       " View project at <a href='https://wandb.ai/laishixuan123-china-agricultural-university/U-Net' target=\"_blank\">https://wandb.ai/laishixuan123-china-agricultural-university/U-Net</a>"
      ],
      "text/plain": [
       "<IPython.core.display.HTML object>"
      ]
     },
     "metadata": {},
     "output_type": "display_data"
    },
    {
     "data": {
      "text/html": [
       " View run at <a href='https://wandb.ai/laishixuan123-china-agricultural-university/U-Net/runs/3drvadma' target=\"_blank\">https://wandb.ai/laishixuan123-china-agricultural-university/U-Net/runs/3drvadma</a>"
      ],
      "text/plain": [
       "<IPython.core.display.HTML object>"
      ]
     },
     "metadata": {},
     "output_type": "display_data"
    },
    {
     "data": {
      "text/html": [
       "<button onClick=\"this.nextSibling.style.display='block';this.style.display='none';\">Display W&B run</button><iframe src='https://wandb.ai/laishixuan123-china-agricultural-university/U-Net/runs/3drvadma?jupyter=true' style='border:none;width:100%;height:420px;display:none;'></iframe>"
      ],
      "text/plain": [
       "<wandb.sdk.wandb_run.Run at 0x1de9186d6f0>"
      ]
     },
     "execution_count": 13,
     "metadata": {},
     "output_type": "execute_result"
    }
   ],
   "source": [
    "wandb.init(\n",
    "    project=\"U-Net\",\n",
    "    name=my_parameters['wandb'],\n",
    "    config=my_parameters,\n",
    ")"
   ]
  },
  {
   "cell_type": "markdown",
   "metadata": {},
   "source": [
    "## Load_data"
   ]
  },
  {
   "cell_type": "code",
   "execution_count": 13,
   "metadata": {},
   "outputs": [],
   "source": [
    "# data_paths = fb.get_image_names(r'f:\\3.Experimental_Data\\Core_datasets\\Batches\\5.Precheck\\image', None, 'tif')\n",
    "# labels_paths = fb.get_image_names(r'f:\\3.Experimental_Data\\Core_datasets\\Batches\\5.Precheck\\label', None, 'tif')\n",
    "\n",
    "# data = fb.read_images(data_paths, 'gray', read_all=True)\n",
    "# labels = fb.read_images(labels_paths, 'gray', read_all=True)"
   ]
  },
  {
   "cell_type": "code",
   "execution_count": 14,
   "metadata": {},
   "outputs": [],
   "source": [
    "# def histogram_equalization_float32(image):\n",
    "#     \"\"\"\n",
    "#     Perform histogram equalization on a float32 image with values in the range [0, 1],\n",
    "#     ignoring pixels with values exactly 0 or 1.\n",
    "\n",
    "#     Parameters:\n",
    "#         image (numpy.ndarray): Input float32 image with values in [0, 1].\n",
    "\n",
    "#     Returns:\n",
    "#         numpy.ndarray: Histogram-equalized image with values in [0, 1].\n",
    "#     \"\"\"\n",
    "#     if not (image.dtype == np.float32 and image.min() >= 0.0 and image.max() <= 1.0):\n",
    "#         raise ValueError(\"Input image must be a float32 array with values in the range [0, 1].\")\n",
    "\n",
    "#     # Create a mask to exclude pixels with values 0 or 1\n",
    "#     mask = (image > 0) & (image < 1)\n",
    "#     valid_pixels = image[mask]\n",
    "\n",
    "#     # Compute histogram and cumulative distribution function (CDF) for valid pixels\n",
    "#     hist, bin_edges = np.histogram(valid_pixels, bins=65536, range=(0, 1), density=False)\n",
    "#     cdf = hist.cumsum()\n",
    "#     cdf_normalized = cdf / cdf[-1]  # Normalize to range [0, 1]\n",
    "\n",
    "#     # Use linear interpolation to map original pixel values to equalized values\n",
    "#     equalized = np.zeros_like(image, dtype=np.float32)\n",
    "#     equalized[mask] = np.interp(valid_pixels, bin_edges[:-1], cdf_normalized)\n",
    "\n",
    "#     return equalized"
   ]
  },
  {
   "cell_type": "code",
   "execution_count": 14,
   "metadata": {},
   "outputs": [
    {
     "name": "stdout",
     "output_type": "stream",
     "text": [
      "57 images have been found in g:\\DL_Data_raw\\version4-classes\\5.precheck_train_val\\image\n",
      "The first 3 images are:\n",
      "g:\\DL_Data_raw\\version4-classes\\5.precheck_train_val\\image\\0003-02130-patch-00000.tif\n",
      "g:\\DL_Data_raw\\version4-classes\\5.precheck_train_val\\image\\0003-02130-patch-00001.tif\n",
      "g:\\DL_Data_raw\\version4-classes\\5.precheck_train_val\\image\\0003-02130-patch-00002.tif\n",
      "Get names completely!\n",
      "57 images have been found in g:\\DL_Data_raw\\version4-classes\\5.precheck_train_val\\label\n",
      "The first 3 images are:\n",
      "g:\\DL_Data_raw\\version4-classes\\5.precheck_train_val\\label\\0003-02130-patch-00000.tif\n",
      "g:\\DL_Data_raw\\version4-classes\\5.precheck_train_val\\label\\0003-02130-patch-00001.tif\n",
      "g:\\DL_Data_raw\\version4-classes\\5.precheck_train_val\\label\\0003-02130-patch-00002.tif\n",
      "Get names completely!\n"
     ]
    },
    {
     "name": "stderr",
     "output_type": "stream",
     "text": [
      "100%|██████████| 57/57 [00:00<00:00, 585.29it/s]\n"
     ]
    },
    {
     "name": "stdout",
     "output_type": "stream",
     "text": [
      "57 images have been read\n",
      "Reading completely!\n"
     ]
    },
    {
     "name": "stderr",
     "output_type": "stream",
     "text": [
      "100%|██████████| 57/57 [00:00<00:00, 833.52it/s]\n"
     ]
    },
    {
     "name": "stdout",
     "output_type": "stream",
     "text": [
      "57 images have been read\n",
      "Reading completely!\n"
     ]
    },
    {
     "data": {
      "text/plain": [
       "<matplotlib.image.AxesImage at 0x1dea0043e80>"
      ]
     },
     "execution_count": 14,
     "metadata": {},
     "output_type": "execute_result"
    },
    {
     "data": {
      "image/png": "[encoded data removed]",
      "text/plain": [
       "<Figure size 640x480 with 1 Axes>"
      ]
     },
     "metadata": {},
     "output_type": "display_data"
    }
   ],
   "source": [
    "data_paths = fb.get_image_names(r'g:\\DL_Data_raw\\version4-classes\\5.precheck_train_val\\image', None, 'tif')\n",
    "labels_paths = fb.get_image_names(r'g:\\DL_Data_raw\\version4-classes\\5.precheck_train_val\\label', None, 'tif')\n",
    "# data_paths = fb.get_image_names('/mnt/images/', None, 'tif')\n",
    "# labels_paths = fb.get_image_names('/mnt/labels/', None, 'tif')\n",
    "\n",
    "data = fb.read_images(data_paths, 'gray', read_all=True)\n",
    "labels = fb.read_images(labels_paths, 'gray', read_all=True)\n",
    "\n",
    "for i in range(len(data)):\n",
    "    data[i] = pre_process.median(data[i], kernel_size=3)\n",
    "    data[i] = pre_process.histogram_equalization_float32(data[i])\n",
    "\n",
    "# Using plt to show the first img in gray\n",
    "import matplotlib.pyplot as plt\n",
    "plt.imshow(data[30], cmap='gray', vmin=0, vmax=1)\n"
   ]
  },
  {
   "cell_type": "code",
   "execution_count": 15,
   "metadata": {},
   "outputs": [
    {
     "name": "stdout",
     "output_type": "stream",
     "text": [
      "len of train_data: 42, len of val_data: 15\n"
     ]
    }
   ],
   "source": [
    "train_data, val_data, train_labels, val_labels = train_test_split(data, labels, test_size=my_parameters['ratio'], random_state=my_parameters['seed'])\n",
    "\n",
    "\n",
    "train_dataset = load_data.my_Dataset(train_data, train_labels, transform=transform_train)\n",
    "val_dataset = load_data.my_Dataset(val_data, val_labels, transform=transform_val)\n",
    "\n",
    "\n",
    "train_loader = DataLoader(train_dataset, batch_size=my_parameters['batch_size'], shuffle=True)\n",
    "val_loader = DataLoader(val_dataset, batch_size=my_parameters['batch_size'], shuffle=False)\n",
    "\n",
    "\n",
    "print(f'len of train_data: {len(train_data)}, len of val_data: {len(val_data)}')"
   ]
  },
  {
   "cell_type": "markdown",
   "metadata": {},
   "source": [
    "## Train"
   ]
  },
  {
   "cell_type": "code",
   "execution_count": null,
   "metadata": {},
   "outputs": [
    {
     "name": "stderr",
     "output_type": "stream",
     "text": [
      "  0%|          | 0/6 [00:00<?, ?it/s]c:\\Users/laish/1_Codes/Image_processing_toolchain\\src\\API_functions\\DL\\load_data.py:25: UserWarning: To copy construct from a tensor, it is recommended to use sourceTensor.clone().detach() or sourceTensor.clone().detach().requires_grad_(True), rather than torch.tensor(sourceTensor).\n",
      "  img = torch.tensor(img, dtype=torch.float32)\n",
      "c:\\Users/laish/1_Codes/Image_processing_toolchain\\src\\API_functions\\DL\\load_data.py:26: UserWarning: To copy construct from a tensor, it is recommended to use sourceTensor.clone().detach() or sourceTensor.clone().detach().requires_grad_(True), rather than torch.tensor(sourceTensor).\n",
      "  label = torch.tensor(label, dtype=torch.float32)\n"
     ]
    },
    {
     "name": "stdout",
     "output_type": "stream",
     "text": [
      "outputs.size(): torch.Size([8, 512, 512]), labels.size(): torch.Size([8, 512, 512])\n",
      "outputs.min: -1.440513253211975, outputs.max: 0.9538716673851013\n",
      "images.min: 0.0, images.max: 1.0\n",
      "labels.min: 0.0, labels.max: 1.0\n",
      "count of label 0: 2024702, count of label 1:72450\n",
      "\n"
     ]
    },
    {
     "name": "stderr",
     "output_type": "stream",
     "text": [
      "100%|██████████| 6/6 [07:49<00:00, 78.18s/it] \n"
     ]
    },
    {
     "name": "stdout",
     "output_type": "stream",
     "text": [
      "Model saved at epoch 0.000, val_loss: 0.714\n"
     ]
    },
    {
     "name": "stderr",
     "output_type": "stream",
     "text": [
      "100%|██████████| 6/6 [06:47<00:00, 67.90s/it]\n"
     ]
    },
    {
     "name": "stdout",
     "output_type": "stream",
     "text": [
      "Model saved at epoch 1.000, val_loss: 0.633\n"
     ]
    },
    {
     "name": "stderr",
     "output_type": "stream",
     "text": [
      "100%|██████████| 6/6 [06:46<00:00, 67.82s/it]\n",
      "100%|██████████| 6/6 [06:47<00:00, 67.97s/it]\n",
      "100%|██████████| 6/6 [06:50<00:00, 68.39s/it]\n",
      "100%|██████████| 6/6 [06:53<00:00, 68.85s/it]\n"
     ]
    },
    {
     "name": "stdout",
     "output_type": "stream",
     "text": [
      "Model saved at epoch 5.000, val_loss: 0.604\n"
     ]
    },
    {
     "name": "stderr",
     "output_type": "stream",
     "text": [
      " 50%|█████     | 3/6 [04:38<04:39, 93.10s/it]"
     ]
    }
   ],
   "source": [
    "val_loss_best = 100000\n",
    "proceed_once = True  # Add a flag\n",
    "\n",
    "for epoch in range(my_parameters['n_epochs']):\n",
    "    model.train()\n",
    "    train_loss = 0.0\n",
    "\n",
    "    for images, labels in tqdm(train_loader):\n",
    "        images = images.to(device)\n",
    "        labels = labels.to(device)\n",
    "        \n",
    "        # Forward pass\n",
    "        outputs = model(images)\n",
    "\n",
    "        # Checking the dimension of the outputs and labels\n",
    "        if outputs.dim() == 4 and outputs.size(1) == 1:\n",
    "            outputs = outputs.squeeze(1)\n",
    "        \n",
    "        # Only proceed once:\n",
    "        if proceed_once:\n",
    "            print(f'outputs.size(): {outputs.size()}, labels.size(): {labels.size()}')\n",
    "            print(f'outputs.min: {outputs.min()}, outputs.max: {outputs.max()}')\n",
    "            print(f'images.min: {images.min()}, images.max: {images.max()}')\n",
    "            print(f'labels.min: {labels.min()}, labels.max: {labels.max()}')\n",
    "            print(f'count of label 0: {(labels == 0).sum()}, count of label 1:{(labels == 1).sum()}')\n",
    "            print('')\n",
    "            proceed_once = False  # Set the flag to False after proceeding once\n",
    "        \n",
    "        loss = criterion(outputs, labels)\n",
    "        \n",
    "        # Backward and optimize\n",
    "        optimizer.zero_grad()\n",
    "        loss.backward()\n",
    "        optimizer.step()\n",
    "        \n",
    "        train_loss += loss.item() * images.size(0)\n",
    "    \n",
    "    train_loss_mean = train_loss / len(train_loader.dataset)\n",
    "\n",
    "\n",
    "    model.eval()\n",
    "    val_loss = 0\n",
    "\n",
    "    with torch.no_grad():\n",
    "        for images, labels in val_loader:\n",
    "            images = images.to(device)\n",
    "            labels = labels.to(device)\n",
    "            \n",
    "            outputs = model(images)\n",
    "            if outputs.dim() == 4 and outputs.size(1) == 1:\n",
    "                outputs = outputs.squeeze(1)\n",
    "            loss = criterion(outputs, labels)\n",
    "            \n",
    "            val_loss += loss.item() * images.size(0)\n",
    "\n",
    "    val_loss_mean = val_loss / len(val_loader.dataset)\n",
    "    current_lr = optimizer.param_groups[0]['lr']\n",
    "    dict = {\n",
    "        'train_loss': train_loss_mean,\n",
    "        'epoch': epoch,\n",
    "        'val_loss': val_loss_mean,\n",
    "        'learning_rate': current_lr\n",
    "    }\n",
    "    mylogger.log(dict)\n",
    "\n",
    "    # Step the scheduler\n",
    "    scheduler.step(val_loss_mean)\n",
    "\n",
    "    if val_loss_mean < val_loss_best:\n",
    "        val_loss_best = val_loss_mean\n",
    "        torch.save(model.state_dict(), f\"model_{my_parameters['model']}_{my_parameters['wandb']}.pth\")\n",
    "        print(f'Model saved at epoch {epoch:.3f}, val_loss: {val_loss_mean:.3f}')"
   ]
  },
  {
   "cell_type": "code",
   "execution_count": null,
   "metadata": {},
   "outputs": [],
   "source": [
    "wandb.finish()"
   ]
  },
  {
   "cell_type": "markdown",
   "metadata": {},
   "source": [
    "# Test"
   ]
  },
  {
   "cell_type": "markdown",
   "metadata": {},
   "source": [
    "**Code below do not been used anymore!**"
   ]
  },
  {
   "cell_type": "markdown",
   "metadata": {},
   "source": [
    "If changes the model\n",
    "1. Test inference6, 7, 8 are for U-Net, DeeplabV3+, PSPNet. Remember to change the path.\n",
    "2. Do change the 'model' chapter in train step."
   ]
  },
  {
   "cell_type": "markdown",
   "metadata": {},
   "source": [
    "If changes the data\n",
    "1. Test inference path\n",
    "2. Dataloader"
   ]
  },
  {
   "cell_type": "markdown",
   "metadata": {},
   "source": [
    "## Test model"
   ]
  },
  {
   "cell_type": "code",
   "execution_count": null,
   "metadata": {},
   "outputs": [],
   "source": [
    "def test_model(model, test_loader, test_names, device='cuda'):\n",
    "    model.eval()  # Set the model to evaluation mode\n",
    "    with torch.no_grad():  # Turn off gradients to speed up this part\n",
    "        loss = []\n",
    "        dice = []\n",
    "        soft_dice = []\n",
    "        bce_loss = []\n",
    "        iou = []\n",
    "        f1_score = []\n",
    "\n",
    "        proceed_once = True  # Add a flag\n",
    "\n",
    "        for i, (images, labels) in enumerate(test_loader):\n",
    "            images = images.to(device)\n",
    "            labels = labels.to(device)\n",
    "\n",
    "            # Forward pass\n",
    "            outputs = model(images)\n",
    "\n",
    "            # Checking the dimension of the outputs and labels\n",
    "            if outputs.dim() == 4 and outputs.size(1) == 1:\n",
    "                outputs = outputs.squeeze(1)\n",
    "\n",
    "            # Only proceed once:\n",
    "            if proceed_once:\n",
    "                print(f'outputs.size(): {outputs.size()}, labels.size(): {labels.size()}')\n",
    "                print(f'outputs.min: {outputs.min()}, outputs.max: {outputs.max()}')\n",
    "                print(f'labels.min: {labels.min()}, labels.max: {labels.max()}')\n",
    "                print(f'count of label 0: {(labels == 0).sum()}, count of label 1:{(labels == 1).sum()}')\n",
    "                print('')\n",
    "                proceed_once = False\n",
    "\n",
    "            # Calculate loss indexes \n",
    "            # 1.bce and dice loss, because the criterion function is used in train process, so it has a sigmoid function inside, should be put before sigmoid\n",
    "            loss.append(criterion(outputs, labels).item())\n",
    "\n",
    "            # 2.Calculate dice, soft_dice, bce_loss \n",
    "            outputs = torch.sigmoid(outputs)  # Apply sigmoid to get values between 0 and 1\n",
    "\n",
    "            dice.append(evaluate.dice_coefficient(outputs, labels))\n",
    "            soft_dice.append(evaluate.soft_dice_coefficient(labels, outputs))\n",
    "            calculate_bce = nn.BCELoss()\n",
    "            bce_loss.append(calculate_bce(outputs, labels))\n",
    "            iou.append(evaluate.iou(pred=outputs, target=labels, n_classes=2))\n",
    "            f1_score.append(evaluate.f1_score(pred=outputs, gt=labels))\n",
    "\n",
    "            # Save output images\n",
    "            outputs = outputs > 0.5  # Threshold the probabilities to create a binary mask\n",
    "            for j, img in enumerate(outputs):\n",
    "                save_path = f'/root/Soil-Column-Procedures/data/version1/inference/1/'\n",
    "                save_path = save_path + test_names[j]\n",
    "                output_np = img.cpu().numpy().astype(np.uint8) * 255  # Convert to numpy array and scale to 0-255\n",
    "                cv2.imwrite(save_path, output_np)\n",
    "\n",
    "            print(f'Processed batch {i+1}/{len(test_loader)}')\n",
    "        \n",
    "        loss_avg = sum(loss) / len(test_loader)\n",
    "        dice_avg = sum(dice) / len(test_loader)\n",
    "        soft_dice_avg = sum(soft_dice) / len(test_loader)\n",
    "        bce_loss_avg = sum(bce_loss) / len(test_loader)\n",
    "        iou_avg = sum(iou) / len(test_loader)\n",
    "        f1_score_avg = sum(f1_score) / len(test_loader)\n",
    "        print(f'Loss: {loss_avg:.3f}, Dice: {dice_avg:.3f}, soft_dice: {soft_dice_avg:.3f}, BCE Loss: {bce_loss_avg:.3f}, IOU: {iou_avg:.3f}, f1_score: {f1_score_avg:.3f}')\n"
   ]
  },
  {
   "cell_type": "code",
   "execution_count": null,
   "metadata": {},
   "outputs": [],
   "source": [
    "# Test the model, using the model define before\n",
    "\n",
    "model.load_state_dict(torch.load(f\"model_{my_parameters['model']}_{my_parameters['wandb']}.pth\", weights_only=True))\n",
    "\n",
    "model = model.to(device)"
   ]
  },
  {
   "cell_type": "markdown",
   "metadata": {},
   "source": [
    "## Test data loader"
   ]
  },
  {
   "cell_type": "code",
   "execution_count": null,
   "metadata": {},
   "outputs": [],
   "source": [
    "test_paths = fb.get_image_names('/root/Soil-Column-Procedures/data/version1/test_images/', None, 'png')\n",
    "test_labels_paths = fb.get_image_names('/root/Soil-Column-Procedures/data/version1/test_labels/', None, 'png')\n",
    "tests = [cv2.imread(p, cv2.IMREAD_UNCHANGED) for p in test_paths]\n",
    "test_labels = [cv2.imread(p, cv2.IMREAD_UNCHANGED) for p in test_labels_paths]\n",
    "\n",
    "test_dict = precheck.precheck(tests, test_labels)\n",
    "\n",
    "test_dataset = load_data.my_Dataset(test_dict['patches'], test_dict['patch_labels'], transform=transform_val)\n",
    "test_loader = DataLoader(test_dataset, batch_size=my_parameters['batch_size'], shuffle=False)\n",
    "\n",
    "print(f'len of test_data: {len(tests)}')\n",
    "\n",
    "test_names = [p.split('/')[-1] for p in test_paths]"
   ]
  },
  {
   "cell_type": "code",
   "execution_count": null,
   "metadata": {},
   "outputs": [],
   "source": [
    "test_dict['patches'][0]"
   ]
  },
  {
   "cell_type": "markdown",
   "metadata": {},
   "source": [
    "## Test"
   ]
  },
  {
   "cell_type": "code",
   "execution_count": null,
   "metadata": {},
   "outputs": [],
   "source": [
    "test_model(model, test_loader, test_names)"
   ]
  },
  {
   "cell_type": "markdown",
   "metadata": {},
   "source": [
    "# Visualize"
   ]
  },
  {
   "cell_type": "code",
   "execution_count": null,
   "metadata": {},
   "outputs": [],
   "source": [
    "from API_functions.Visual import file_compare as fc\n",
    "# %matplotlib qt\n",
    "\n",
    "db = fc.ImageDatabase()\n",
    "# image_processor.add_result('pre_processed', tpi.user_threshold(image_processor.image, 160))\n",
    "zoom = fc.ZoomRegion(200, 400, 100, 200)\n",
    "db.add_additional_folder('/root/Soil-Column-Procedures/data/version1/test_images/', 'test_images')\n",
    "db.add_additional_folder('/root/Soil-Column-Procedures/data/version1/test_labels/', 'test_labels')\n",
    "db.add_additional_folder('/root/Soil-Column-Procedures/data/version1/inference/1/', 'test_inference')\n",
    "image_processor = db.get_image_processor('0028.386.png')\n",
    "image_processor.show_images('test_images', 'test_inference', 'test_labels', zoom_region=zoom)"
   ]
  }
 ],
 "metadata": {
  "kernelspec": {
   "display_name": "dpln310",
   "language": "python",
   "name": "python3"
  },
  "language_info": {
   "codemirror_mode": {
    "name": "ipython",
    "version": 3
   },
   "file_extension": ".py",
   "mimetype": "text/x-python",
   "name": "python",
   "nbconvert_exporter": "python",
   "pygments_lexer": "ipython3",
   "version": "3.10.15"
  }
 },
 "nbformat": 4,
 "nbformat_minor": 2
}
