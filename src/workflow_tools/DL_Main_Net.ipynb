{
 "cells": [
  {
   "cell_type": "code",
   "execution_count": 1,
   "metadata": {},
   "outputs": [
    {
     "name": "stdout",
     "output_type": "stream",
     "text": [
      "env: CUBLAS_WORKSPACE_CONFIG=:4096:8\n"
     ]
    }
   ],
   "source": [
    "# %env ALL_PROXY=http://127.0.0.1:33001\n",
    "# %env HTTP_PROXY=http://127.0.0.1:33001\n",
    "# %env HTTPS_PROXY=http://127.0.0.1:33001\n",
    "%env CUBLAS_WORKSPACE_CONFIG=:4096:8"
   ]
  },
  {
   "cell_type": "code",
   "execution_count": 2,
   "metadata": {},
   "outputs": [],
   "source": [
    "# !curl google.com"
   ]
  },
  {
   "cell_type": "markdown",
   "metadata": {},
   "source": [
    "# Import"
   ]
  },
  {
   "cell_type": "markdown",
   "metadata": {},
   "source": [
    "If change the model, in training step, you need to \n",
    "1. change the log chapter\n",
    "2. change the relative model, loss function, encoder etc."
   ]
  },
  {
   "cell_type": "code",
   "execution_count": 3,
   "metadata": {},
   "outputs": [
    {
     "name": "stderr",
     "output_type": "stream",
     "text": [
      "c:\\Users\\laish\\miniconda3\\envs\\dpln310\\lib\\site-packages\\albumentations\\__init__.py:24: UserWarning: A new version of Albumentations is available: 1.4.22 (you have 1.4.21). Upgrade using: pip install -U albumentations. To disable automatic update checks, set the environment variable NO_ALBUMENTATIONS_UPDATE to 1.\n",
      "  check_for_updates()\n"
     ]
    }
   ],
   "source": [
    "import cv2\n",
    "import sys\n",
    "import numpy as np\n",
    "import torch\n",
    "import torch.nn as nn\n",
    "import albumentations as A\n",
    "import segmentation_models_pytorch as smp\n",
    "\n",
    "# sys.path.insert(0, \"/root/Soil-Column-Procedures\")\n",
    "sys.path.insert(0, \"c:/Users/laish/1_Codes/Image_processing_toolchain/\")\n",
    "\n",
    "from tqdm import tqdm\n",
    "from torch.utils.data import DataLoader\n",
    "from albumentations.pytorch import ToTensorV2\n",
    "from sklearn.model_selection import KFold, train_test_split\n",
    "from src.API_functions.DL import load_data, log, seed, evaluate\n",
    "from src.API_functions.Images import file_batch as fb\n",
    "from src.workflow_tools.model_online import fr_unet\n",
    "\n",
    "import wandb"
   ]
  },
  {
   "cell_type": "markdown",
   "metadata": {},
   "source": [
    "# Hyperparameter and log"
   ]
  },
  {
   "cell_type": "code",
   "execution_count": 4,
   "metadata": {},
   "outputs": [],
   "source": [
    "my_parameters = {\n",
    "    'seed': 3407,\n",
    "\n",
    "    'Kfold': None,\n",
    "    'ratio': 0.25,\n",
    "    'n_epochs': 1000,\n",
    "    'patience': 50,\n",
    "\n",
    "    'model': 'U-Net',      # model = 'U-Net', 'DeepLabv3+', 'PSPNet'\n",
    "    'encoder': 'efficientnet-b2',\n",
    "    'optimizer': 'adam',\n",
    "    'loss_function': 'cross_entropy',\n",
    "    'learning_rate': 0.001,     # Initial learning rate\n",
    "    'batch_size': 8,\n",
    "\n",
    "    'scheduler': 'reduce_on_plateau',   # Type of scheduler\n",
    "    'scheduler_patience': 10,   # Number of epochs to wait before reducing LR\n",
    "    'scheduler_factor': 0.5,    # Factor by which to reduce LR\n",
    "    'scheduler_min_lr': 1e-6,   # Minimum learning rate\n",
    "\n",
    "    'wandb': '34.diceloss_weight_up',  # Name of the wandb run\n",
    "}\n",
    "\n",
    "device = 'cuda'\n",
    "mylogger = log.DataLogger('wandb')  # 'wandb' or 'all'\n",
    "\n",
    "seed.stablize_seed(my_parameters['seed'])"
   ]
  },
  {
   "cell_type": "markdown",
   "metadata": {},
   "source": [
    "# Transform"
   ]
  },
  {
   "cell_type": "code",
   "execution_count": 5,
   "metadata": {},
   "outputs": [],
   "source": [
    "# For training data\n",
    "transform_train = A.Compose([\n",
    "    A.HorizontalFlip(p=0.5),\n",
    "    A.VerticalFlip(p=0.5),\n",
    "    A.Rotate(limit=90, p=0.5),\n",
    "    A.GaussNoise(p=0.5),\n",
    "    # A.OpticalDistortion(p=0.5),\n",
    "    ToTensorV2(),\n",
    "], seed=my_parameters['seed'])\n",
    "\n",
    "# For validation and test data\n",
    "transform_val = A.Compose([\n",
    "    # A.HorizontalFlip(p=0.5),\n",
    "    # A.VerticalFlip(p=0.5),\n",
    "    # A.Rotate(limit=90, p=0.5),\n",
    "    # A.GaussNoise(p=0.5),\n",
    "    ToTensorV2(),\n",
    "], seed=my_parameters['seed'])"
   ]
  },
  {
   "cell_type": "markdown",
   "metadata": {},
   "source": [
    "# Model"
   ]
  },
  {
   "cell_type": "code",
   "execution_count": 6,
   "metadata": {},
   "outputs": [],
   "source": [
    "# model = smp.PSPNet(\n",
    "#     encoder_name=\"resnet34\",        # choose encoder, e.g. mobilenet_v2 or efficientnet-b7\n",
    "#     encoder_weights=\"imagenet\",     # use `imagenet` pre-trained weights for encoder initialization\n",
    "#     in_channels=1,                  # model input channels (1 for gray-scale images, 3 for RGB, etc.)\n",
    "#     classes=1,                      # model output channels (number of classes in your dataset)\n",
    "# )\n",
    "# model = model.to(device)"
   ]
  },
  {
   "cell_type": "code",
   "execution_count": 7,
   "metadata": {},
   "outputs": [],
   "source": [
    "model = smp.Unet(\n",
    "    encoder_name=\"efficientnet-b2\",        # choose encoder, e.g. mobilenet_v2 or efficientnet-b7\n",
    "    encoder_weights=\"imagenet\",     # use `imagenet` pre-trained weights for encoder initialization\n",
    "    in_channels=1,                  # model input channels (1 for gray-scale images, 3 for RGB, etc.)\n",
    "    classes=1,                      # model output channels (number of classes in your dataset)\n",
    ")\n",
    "model = model.to(device)"
   ]
  },
  {
   "cell_type": "code",
   "execution_count": 8,
   "metadata": {},
   "outputs": [],
   "source": [
    "# model = smp.DeepLabV3Plus(\n",
    "#     encoder_name=\"resnet34\",        # choose encoder, e.g. mobilenet_v2 or efficientnet-b7\n",
    "#     encoder_weights=\"imagenet\",     # use `imagenet` pre-trained weights for encoder initialization\n",
    "#     in_channels=1,                  # model input channels (1 for gray-scale images, 3 for RGB, etc.)\n",
    "#     classes=1,                      # model output channels (number of classes in your dataset)\n",
    "# )\n",
    "\n",
    "# model.load_state_dict(torch.load(f\"c:/Users/laish/1_Codes/Image_processing_toolchain/src/workflow_tools/model_DeepLabv3+_23.drive_again.pth\", weights_only=True))\n",
    "# model = model.to(device)"
   ]
  },
  {
   "cell_type": "code",
   "execution_count": 9,
   "metadata": {},
   "outputs": [],
   "source": [
    "# model = fr_unet.FR_UNet(num_channels=1, num_classes=1, feature_scale=2, dropout=0.2, fuse=True, out_ave=True)\n",
    "# model = model.to(device)"
   ]
  },
  {
   "cell_type": "code",
   "execution_count": 10,
   "metadata": {},
   "outputs": [],
   "source": [
    "\n",
    "# Freeze encoder parameters\n",
    "# for param in model.encoder.parameters():\n",
    "    # param.requires_grad = False\n",
    "\n",
    "# model = model.to(device)"
   ]
  },
  {
   "cell_type": "code",
   "execution_count": 11,
   "metadata": {},
   "outputs": [],
   "source": [
    "optimizer = torch.optim.Adam(model.parameters(), lr=my_parameters['learning_rate'])\n",
    "scheduler = torch.optim.lr_scheduler.ReduceLROnPlateau(\n",
    "    optimizer,\n",
    "    mode='min',\n",
    "    factor=my_parameters['scheduler_factor'],\n",
    "    patience=my_parameters['scheduler_patience'],\n",
    "    min_lr=my_parameters['scheduler_min_lr']\n",
    ")\n",
    "criterion = evaluate.DiceBCELoss()"
   ]
  },
  {
   "cell_type": "markdown",
   "metadata": {},
   "source": [
    "# Train"
   ]
  },
  {
   "cell_type": "markdown",
   "metadata": {},
   "source": [
    "The codes below are only for training.\n",
    "\n",
    "In test step, you need to proceed the codes above and the test chapter code."
   ]
  },
  {
   "cell_type": "markdown",
   "metadata": {},
   "source": [
    "## Wandb"
   ]
  },
  {
   "cell_type": "code",
   "execution_count": 12,
   "metadata": {},
   "outputs": [
    {
     "name": "stderr",
     "output_type": "stream",
     "text": [
      "wandb: Using wandb-core as the SDK backend.  Please refer to https://wandb.me/wandb-core for more information.\n",
      "wandb: Currently logged in as: laishixuan123 (laishixuan123-china-agricultural-university). Use `wandb login --relogin` to force relogin\n"
     ]
    },
    {
     "data": {
      "text/html": [
       "Tracking run with wandb version 0.18.7"
      ],
      "text/plain": [
       "<IPython.core.display.HTML object>"
      ]
     },
     "metadata": {},
     "output_type": "display_data"
    },
    {
     "data": {
      "text/html": [
       "Run data is saved locally in <code>c:\\Users\\laish\\1_Codes\\Image_processing_toolchain\\src\\workflow_tools\\wandb\\run-20241214_191928-bdx57kl8</code>"
      ],
      "text/plain": [
       "<IPython.core.display.HTML object>"
      ]
     },
     "metadata": {},
     "output_type": "display_data"
    },
    {
     "data": {
      "text/html": [
       "Syncing run <strong><a href='https://wandb.ai/laishixuan123-china-agricultural-university/U-Net/runs/bdx57kl8' target=\"_blank\">34.diceloss_weight_up</a></strong> to <a href='https://wandb.ai/laishixuan123-china-agricultural-university/U-Net' target=\"_blank\">Weights & Biases</a> (<a href='https://wandb.me/developer-guide' target=\"_blank\">docs</a>)<br/>"
      ],
      "text/plain": [
       "<IPython.core.display.HTML object>"
      ]
     },
     "metadata": {},
     "output_type": "display_data"
    },
    {
     "data": {
      "text/html": [
       " View project at <a href='https://wandb.ai/laishixuan123-china-agricultural-university/U-Net' target=\"_blank\">https://wandb.ai/laishixuan123-china-agricultural-university/U-Net</a>"
      ],
      "text/plain": [
       "<IPython.core.display.HTML object>"
      ]
     },
     "metadata": {},
     "output_type": "display_data"
    },
    {
     "data": {
      "text/html": [
       " View run at <a href='https://wandb.ai/laishixuan123-china-agricultural-university/U-Net/runs/bdx57kl8' target=\"_blank\">https://wandb.ai/laishixuan123-china-agricultural-university/U-Net/runs/bdx57kl8</a>"
      ],
      "text/plain": [
       "<IPython.core.display.HTML object>"
      ]
     },
     "metadata": {},
     "output_type": "display_data"
    },
    {
     "data": {
      "text/html": [
       "<button onClick=\"this.nextSibling.style.display='block';this.style.display='none';\">Display W&B run</button><iframe src='https://wandb.ai/laishixuan123-china-agricultural-university/U-Net/runs/bdx57kl8?jupyter=true' style='border:none;width:100%;height:420px;display:none;'></iframe>"
      ],
      "text/plain": [
       "<wandb.sdk.wandb_run.Run at 0x1c5a232a500>"
      ]
     },
     "execution_count": 12,
     "metadata": {},
     "output_type": "execute_result"
    }
   ],
   "source": [
    "wandb.init(\n",
    "    project=\"U-Net\",\n",
    "    name=my_parameters['wandb'],\n",
    "    config=my_parameters,\n",
    ")"
   ]
  },
  {
   "cell_type": "markdown",
   "metadata": {},
   "source": [
    "## Load_data"
   ]
  },
  {
   "cell_type": "code",
   "execution_count": 13,
   "metadata": {},
   "outputs": [
    {
     "name": "stdout",
     "output_type": "stream",
     "text": [
      "57 images have been found in g:\\DL_Data_raw\\version4-classes\\7.Final_dataset\\train_val_image\n",
      "The first 3 images are:\n",
      "g:\\DL_Data_raw\\version4-classes\\7.Final_dataset\\train_val_image\\0003-02130-patch-00009.tif\n",
      "g:\\DL_Data_raw\\version4-classes\\7.Final_dataset\\train_val_image\\0003-02130-patch-00010.tif\n",
      "g:\\DL_Data_raw\\version4-classes\\7.Final_dataset\\train_val_image\\0003-02130-patch-00011.tif\n",
      "Get names completely!\n",
      "57 images have been found in g:\\DL_Data_raw\\version4-classes\\7.Final_dataset\\train_val_label\n",
      "The first 3 images are:\n",
      "g:\\DL_Data_raw\\version4-classes\\7.Final_dataset\\train_val_label\\0003-02130-patch-00009.tif\n",
      "g:\\DL_Data_raw\\version4-classes\\7.Final_dataset\\train_val_label\\0003-02130-patch-00010.tif\n",
      "g:\\DL_Data_raw\\version4-classes\\7.Final_dataset\\train_val_label\\0003-02130-patch-00011.tif\n",
      "Get names completely!\n"
     ]
    },
    {
     "name": "stderr",
     "output_type": "stream",
     "text": [
      "100%|██████████| 57/57 [00:00<00:00, 314.04it/s]\n"
     ]
    },
    {
     "name": "stdout",
     "output_type": "stream",
     "text": [
      "57 images have been read\n",
      "Reading completely!\n"
     ]
    },
    {
     "name": "stderr",
     "output_type": "stream",
     "text": [
      "100%|██████████| 57/57 [00:00<00:00, 530.19it/s]\n"
     ]
    },
    {
     "name": "stdout",
     "output_type": "stream",
     "text": [
      "57 images have been read\n",
      "Reading completely!\n",
      "len of train_data: 42, len of val_data: 15\n"
     ]
    }
   ],
   "source": [
    "data_paths = fb.get_image_names(r'g:\\DL_Data_raw\\version4-classes\\7.Final_dataset\\train_val_image', None, 'tif')\n",
    "labels_paths = fb.get_image_names(r'g:\\DL_Data_raw\\version4-classes\\7.Final_dataset\\train_val_label', None, 'tif')\n",
    "\n",
    "data = fb.read_images(data_paths, 'gray', read_all=True)\n",
    "labels = fb.read_images(labels_paths, 'gray', read_all=True)\n",
    "\n",
    "# Preprocessing is now handled in the Dataset class\n",
    "train_data, val_data, train_labels, val_labels = train_test_split(data, labels, test_size=my_parameters['ratio'], random_state=my_parameters['seed'])\n",
    "\n",
    "train_dataset = load_data.my_Dataset(train_data, train_labels, transform=transform_train)\n",
    "val_dataset = load_data.my_Dataset(val_data, val_labels, transform=transform_val)\n",
    "\n",
    "train_loader = DataLoader(train_dataset, batch_size=my_parameters['batch_size'], shuffle=True)\n",
    "val_loader = DataLoader(val_dataset, batch_size=my_parameters['batch_size'], shuffle=False)\n",
    "\n",
    "print(f'len of train_data: {len(train_data)}, len of val_data: {len(val_data)}')"
   ]
  },
  {
   "cell_type": "markdown",
   "metadata": {},
   "source": [
    "## Train"
   ]
  },
  {
   "cell_type": "code",
   "execution_count": 14,
   "metadata": {},
   "outputs": [
    {
     "name": "stderr",
     "output_type": "stream",
     "text": [
      "  0%|          | 0/6 [00:00<?, ?it/s]"
     ]
    },
    {
     "name": "stdout",
     "output_type": "stream",
     "text": [
      "outputs.size(): torch.Size([8, 512, 512]), labels.size(): torch.Size([8, 512, 512])\n",
      "outputs.min: -8.037663459777832, outputs.max: 5.503569602966309\n",
      "images.min: -0.2830659747123718, images.max: 1.0\n",
      "labels.min: 0.0, labels.max: 1.0\n",
      "count of label 0: 2032433, count of label 1:64719\n",
      "\n"
     ]
    },
    {
     "name": "stderr",
     "output_type": "stream",
     "text": [
      "100%|██████████| 6/6 [00:03<00:00,  1.65it/s]\n"
     ]
    },
    {
     "name": "stdout",
     "output_type": "stream",
     "text": [
      "Model saved at epoch 0.000, val_loss: 0.810\n"
     ]
    },
    {
     "name": "stderr",
     "output_type": "stream",
     "text": [
      "100%|██████████| 6/6 [00:02<00:00,  2.25it/s]\n"
     ]
    },
    {
     "name": "stdout",
     "output_type": "stream",
     "text": [
      "Model saved at epoch 1.000, val_loss: 0.756\n"
     ]
    },
    {
     "name": "stderr",
     "output_type": "stream",
     "text": [
      "100%|██████████| 6/6 [00:02<00:00,  2.27it/s]\n"
     ]
    },
    {
     "name": "stdout",
     "output_type": "stream",
     "text": [
      "Model saved at epoch 2.000, val_loss: 0.694\n"
     ]
    },
    {
     "name": "stderr",
     "output_type": "stream",
     "text": [
      "100%|██████████| 6/6 [00:02<00:00,  2.27it/s]\n"
     ]
    },
    {
     "name": "stdout",
     "output_type": "stream",
     "text": [
      "Model saved at epoch 3.000, val_loss: 0.675\n"
     ]
    },
    {
     "name": "stderr",
     "output_type": "stream",
     "text": [
      "100%|██████████| 6/6 [00:02<00:00,  2.31it/s]\n",
      "100%|██████████| 6/6 [00:02<00:00,  2.45it/s]\n",
      "100%|██████████| 6/6 [00:02<00:00,  2.34it/s]\n",
      "100%|██████████| 6/6 [00:02<00:00,  2.33it/s]\n",
      "100%|██████████| 6/6 [00:02<00:00,  2.38it/s]\n",
      "100%|██████████| 6/6 [00:02<00:00,  2.42it/s]\n",
      "100%|██████████| 6/6 [00:02<00:00,  2.48it/s]\n",
      "100%|██████████| 6/6 [00:02<00:00,  2.36it/s]\n",
      "100%|██████████| 6/6 [00:02<00:00,  2.31it/s]\n",
      "100%|██████████| 6/6 [00:02<00:00,  2.38it/s]\n",
      "100%|██████████| 6/6 [00:02<00:00,  2.27it/s]\n",
      "100%|██████████| 6/6 [00:02<00:00,  2.31it/s]\n",
      "100%|██████████| 6/6 [00:02<00:00,  2.18it/s]\n",
      "100%|██████████| 6/6 [00:02<00:00,  2.37it/s]\n",
      "100%|██████████| 6/6 [00:02<00:00,  2.32it/s]\n",
      "100%|██████████| 6/6 [00:02<00:00,  2.37it/s]\n",
      "100%|██████████| 6/6 [00:02<00:00,  2.36it/s]\n",
      "100%|██████████| 6/6 [00:02<00:00,  2.23it/s]\n",
      "100%|██████████| 6/6 [00:02<00:00,  2.32it/s]\n",
      "100%|██████████| 6/6 [00:02<00:00,  2.37it/s]\n",
      "100%|██████████| 6/6 [00:02<00:00,  2.30it/s]\n",
      "100%|██████████| 6/6 [00:02<00:00,  2.30it/s]\n",
      "100%|██████████| 6/6 [00:02<00:00,  2.38it/s]\n",
      "100%|██████████| 6/6 [00:02<00:00,  2.39it/s]\n",
      "100%|██████████| 6/6 [00:02<00:00,  2.36it/s]\n",
      "100%|██████████| 6/6 [00:02<00:00,  2.28it/s]\n",
      "100%|██████████| 6/6 [00:02<00:00,  2.37it/s]\n",
      "100%|██████████| 6/6 [00:02<00:00,  2.34it/s]\n",
      "100%|██████████| 6/6 [00:02<00:00,  2.35it/s]\n",
      "100%|██████████| 6/6 [00:02<00:00,  2.31it/s]\n",
      "100%|██████████| 6/6 [00:02<00:00,  2.35it/s]\n",
      "100%|██████████| 6/6 [00:02<00:00,  2.25it/s]\n",
      "100%|██████████| 6/6 [00:02<00:00,  2.27it/s]\n"
     ]
    },
    {
     "name": "stdout",
     "output_type": "stream",
     "text": [
      "Model saved at epoch 36.000, val_loss: 0.674\n"
     ]
    },
    {
     "name": "stderr",
     "output_type": "stream",
     "text": [
      "100%|██████████| 6/6 [00:02<00:00,  2.23it/s]\n",
      "100%|██████████| 6/6 [00:02<00:00,  2.32it/s]\n",
      "100%|██████████| 6/6 [00:02<00:00,  2.35it/s]\n"
     ]
    },
    {
     "name": "stdout",
     "output_type": "stream",
     "text": [
      "Model saved at epoch 39.000, val_loss: 0.667\n"
     ]
    },
    {
     "name": "stderr",
     "output_type": "stream",
     "text": [
      "100%|██████████| 6/6 [00:02<00:00,  2.23it/s]\n"
     ]
    },
    {
     "name": "stdout",
     "output_type": "stream",
     "text": [
      "Model saved at epoch 40.000, val_loss: 0.655\n"
     ]
    },
    {
     "name": "stderr",
     "output_type": "stream",
     "text": [
      "100%|██████████| 6/6 [00:02<00:00,  2.21it/s]\n"
     ]
    },
    {
     "name": "stdout",
     "output_type": "stream",
     "text": [
      "Model saved at epoch 41.000, val_loss: 0.623\n"
     ]
    },
    {
     "name": "stderr",
     "output_type": "stream",
     "text": [
      "100%|██████████| 6/6 [00:02<00:00,  2.37it/s]\n"
     ]
    },
    {
     "name": "stdout",
     "output_type": "stream",
     "text": [
      "Model saved at epoch 42.000, val_loss: 0.612\n"
     ]
    },
    {
     "name": "stderr",
     "output_type": "stream",
     "text": [
      "100%|██████████| 6/6 [00:02<00:00,  2.37it/s]\n",
      "100%|██████████| 6/6 [00:02<00:00,  2.27it/s]\n",
      "100%|██████████| 6/6 [00:02<00:00,  2.32it/s]\n"
     ]
    },
    {
     "name": "stdout",
     "output_type": "stream",
     "text": [
      "Model saved at epoch 45.000, val_loss: 0.606\n"
     ]
    },
    {
     "name": "stderr",
     "output_type": "stream",
     "text": [
      "100%|██████████| 6/6 [00:02<00:00,  2.44it/s]\n"
     ]
    },
    {
     "name": "stdout",
     "output_type": "stream",
     "text": [
      "Model saved at epoch 46.000, val_loss: 0.593\n"
     ]
    },
    {
     "name": "stderr",
     "output_type": "stream",
     "text": [
      "100%|██████████| 6/6 [00:02<00:00,  2.44it/s]\n",
      "100%|██████████| 6/6 [00:02<00:00,  2.38it/s]\n",
      "100%|██████████| 6/6 [00:02<00:00,  2.43it/s]\n"
     ]
    },
    {
     "name": "stdout",
     "output_type": "stream",
     "text": [
      "Model saved at epoch 49.000, val_loss: 0.561\n"
     ]
    },
    {
     "name": "stderr",
     "output_type": "stream",
     "text": [
      "100%|██████████| 6/6 [00:02<00:00,  2.37it/s]\n",
      "100%|██████████| 6/6 [00:02<00:00,  2.34it/s]\n",
      "100%|██████████| 6/6 [00:02<00:00,  2.18it/s]\n",
      "100%|██████████| 6/6 [00:02<00:00,  2.38it/s]\n",
      "100%|██████████| 6/6 [00:02<00:00,  2.31it/s]\n",
      "100%|██████████| 6/6 [00:02<00:00,  2.27it/s]\n"
     ]
    },
    {
     "name": "stdout",
     "output_type": "stream",
     "text": [
      "Model saved at epoch 55.000, val_loss: 0.504\n"
     ]
    },
    {
     "name": "stderr",
     "output_type": "stream",
     "text": [
      "100%|██████████| 6/6 [00:02<00:00,  2.48it/s]\n"
     ]
    },
    {
     "name": "stdout",
     "output_type": "stream",
     "text": [
      "Model saved at epoch 56.000, val_loss: 0.456\n"
     ]
    },
    {
     "name": "stderr",
     "output_type": "stream",
     "text": [
      "100%|██████████| 6/6 [00:02<00:00,  2.46it/s]\n",
      "100%|██████████| 6/6 [00:02<00:00,  2.47it/s]\n",
      "100%|██████████| 6/6 [00:02<00:00,  2.46it/s]\n",
      "100%|██████████| 6/6 [00:02<00:00,  2.52it/s]\n",
      "100%|██████████| 6/6 [00:02<00:00,  2.43it/s]\n",
      "100%|██████████| 6/6 [00:02<00:00,  2.36it/s]\n",
      "100%|██████████| 6/6 [00:02<00:00,  2.32it/s]\n",
      "100%|██████████| 6/6 [00:02<00:00,  2.28it/s]\n",
      "100%|██████████| 6/6 [00:02<00:00,  2.22it/s]\n"
     ]
    },
    {
     "name": "stdout",
     "output_type": "stream",
     "text": [
      "Model saved at epoch 65.000, val_loss: 0.455\n"
     ]
    },
    {
     "name": "stderr",
     "output_type": "stream",
     "text": [
      "100%|██████████| 6/6 [00:02<00:00,  2.29it/s]\n"
     ]
    },
    {
     "name": "stdout",
     "output_type": "stream",
     "text": [
      "Model saved at epoch 66.000, val_loss: 0.415\n"
     ]
    },
    {
     "name": "stderr",
     "output_type": "stream",
     "text": [
      "100%|██████████| 6/6 [00:02<00:00,  2.17it/s]\n",
      "100%|██████████| 6/6 [00:02<00:00,  2.26it/s]\n",
      "100%|██████████| 6/6 [00:02<00:00,  2.25it/s]\n",
      "100%|██████████| 6/6 [00:02<00:00,  2.24it/s]\n"
     ]
    },
    {
     "name": "stdout",
     "output_type": "stream",
     "text": [
      "Model saved at epoch 70.000, val_loss: 0.353\n"
     ]
    },
    {
     "name": "stderr",
     "output_type": "stream",
     "text": [
      "100%|██████████| 6/6 [00:02<00:00,  2.05it/s]\n"
     ]
    },
    {
     "name": "stdout",
     "output_type": "stream",
     "text": [
      "Model saved at epoch 71.000, val_loss: 0.326\n"
     ]
    },
    {
     "name": "stderr",
     "output_type": "stream",
     "text": [
      "100%|██████████| 6/6 [00:02<00:00,  2.22it/s]\n",
      "100%|██████████| 6/6 [00:02<00:00,  2.37it/s]\n"
     ]
    },
    {
     "name": "stdout",
     "output_type": "stream",
     "text": [
      "Model saved at epoch 73.000, val_loss: 0.281\n"
     ]
    },
    {
     "name": "stderr",
     "output_type": "stream",
     "text": [
      "100%|██████████| 6/6 [00:02<00:00,  2.15it/s]\n",
      "100%|██████████| 6/6 [00:02<00:00,  2.30it/s]\n",
      "100%|██████████| 6/6 [00:02<00:00,  2.40it/s]\n",
      "100%|██████████| 6/6 [00:02<00:00,  2.38it/s]\n",
      "100%|██████████| 6/6 [00:02<00:00,  2.17it/s]\n",
      "100%|██████████| 6/6 [00:02<00:00,  2.32it/s]\n",
      "100%|██████████| 6/6 [00:02<00:00,  2.37it/s]\n",
      "100%|██████████| 6/6 [00:02<00:00,  2.38it/s]\n",
      "100%|██████████| 6/6 [00:02<00:00,  2.40it/s]\n",
      "100%|██████████| 6/6 [00:02<00:00,  2.34it/s]\n",
      "100%|██████████| 6/6 [00:02<00:00,  2.41it/s]\n",
      "100%|██████████| 6/6 [00:02<00:00,  2.37it/s]\n",
      "100%|██████████| 6/6 [00:02<00:00,  2.25it/s]\n",
      "100%|██████████| 6/6 [00:02<00:00,  2.39it/s]\n",
      "100%|██████████| 6/6 [00:02<00:00,  2.22it/s]\n",
      "100%|██████████| 6/6 [00:02<00:00,  2.29it/s]\n",
      "100%|██████████| 6/6 [00:02<00:00,  2.32it/s]\n",
      "100%|██████████| 6/6 [00:02<00:00,  2.30it/s]\n",
      "100%|██████████| 6/6 [00:02<00:00,  2.35it/s]\n",
      "100%|██████████| 6/6 [00:02<00:00,  2.20it/s]\n",
      "100%|██████████| 6/6 [00:02<00:00,  2.35it/s]\n",
      "100%|██████████| 6/6 [00:02<00:00,  2.40it/s]\n",
      "100%|██████████| 6/6 [00:02<00:00,  2.38it/s]\n",
      "100%|██████████| 6/6 [00:02<00:00,  2.30it/s]\n",
      "100%|██████████| 6/6 [00:02<00:00,  2.36it/s]\n",
      "100%|██████████| 6/6 [00:02<00:00,  2.36it/s]\n",
      "100%|██████████| 6/6 [00:02<00:00,  2.33it/s]\n",
      "100%|██████████| 6/6 [00:02<00:00,  2.29it/s]\n",
      "100%|██████████| 6/6 [00:02<00:00,  2.39it/s]\n",
      "100%|██████████| 6/6 [00:02<00:00,  2.50it/s]\n",
      "100%|██████████| 6/6 [00:02<00:00,  2.51it/s]\n"
     ]
    },
    {
     "name": "stdout",
     "output_type": "stream",
     "text": [
      "Model saved at epoch 104.000, val_loss: 0.280\n"
     ]
    },
    {
     "name": "stderr",
     "output_type": "stream",
     "text": [
      "100%|██████████| 6/6 [00:02<00:00,  2.42it/s]\n"
     ]
    },
    {
     "name": "stdout",
     "output_type": "stream",
     "text": [
      "Model saved at epoch 105.000, val_loss: 0.275\n"
     ]
    },
    {
     "name": "stderr",
     "output_type": "stream",
     "text": [
      "100%|██████████| 6/6 [00:02<00:00,  2.37it/s]\n",
      "100%|██████████| 6/6 [00:02<00:00,  2.51it/s]\n"
     ]
    },
    {
     "name": "stdout",
     "output_type": "stream",
     "text": [
      "Model saved at epoch 107.000, val_loss: 0.251\n"
     ]
    },
    {
     "name": "stderr",
     "output_type": "stream",
     "text": [
      "100%|██████████| 6/6 [00:02<00:00,  2.45it/s]\n"
     ]
    },
    {
     "name": "stdout",
     "output_type": "stream",
     "text": [
      "Model saved at epoch 108.000, val_loss: 0.246\n"
     ]
    },
    {
     "name": "stderr",
     "output_type": "stream",
     "text": [
      "100%|██████████| 6/6 [00:02<00:00,  2.48it/s]\n",
      "100%|██████████| 6/6 [00:02<00:00,  2.45it/s]\n"
     ]
    },
    {
     "name": "stdout",
     "output_type": "stream",
     "text": [
      "Model saved at epoch 110.000, val_loss: 0.228\n"
     ]
    },
    {
     "name": "stderr",
     "output_type": "stream",
     "text": [
      "100%|██████████| 6/6 [00:02<00:00,  2.45it/s]\n",
      "100%|██████████| 6/6 [00:02<00:00,  2.54it/s]\n",
      "100%|██████████| 6/6 [00:02<00:00,  2.53it/s]\n",
      "100%|██████████| 6/6 [00:02<00:00,  2.26it/s]\n",
      "100%|██████████| 6/6 [00:02<00:00,  2.37it/s]\n"
     ]
    },
    {
     "name": "stdout",
     "output_type": "stream",
     "text": [
      "Model saved at epoch 115.000, val_loss: 0.217\n"
     ]
    },
    {
     "name": "stderr",
     "output_type": "stream",
     "text": [
      "100%|██████████| 6/6 [00:02<00:00,  2.38it/s]\n"
     ]
    },
    {
     "name": "stdout",
     "output_type": "stream",
     "text": [
      "Model saved at epoch 116.000, val_loss: 0.201\n"
     ]
    },
    {
     "name": "stderr",
     "output_type": "stream",
     "text": [
      "100%|██████████| 6/6 [00:02<00:00,  2.36it/s]\n",
      "100%|██████████| 6/6 [00:02<00:00,  2.27it/s]\n",
      "100%|██████████| 6/6 [00:02<00:00,  2.31it/s]\n",
      "100%|██████████| 6/6 [00:02<00:00,  2.34it/s]\n",
      "100%|██████████| 6/6 [00:02<00:00,  2.22it/s]\n",
      "100%|██████████| 6/6 [00:02<00:00,  2.34it/s]\n",
      "100%|██████████| 6/6 [00:02<00:00,  2.35it/s]\n",
      "100%|██████████| 6/6 [00:02<00:00,  2.35it/s]\n",
      "100%|██████████| 6/6 [00:02<00:00,  2.30it/s]\n"
     ]
    },
    {
     "name": "stdout",
     "output_type": "stream",
     "text": [
      "Model saved at epoch 125.000, val_loss: 0.198\n"
     ]
    },
    {
     "name": "stderr",
     "output_type": "stream",
     "text": [
      "100%|██████████| 6/6 [00:02<00:00,  2.35it/s]\n"
     ]
    },
    {
     "name": "stdout",
     "output_type": "stream",
     "text": [
      "Model saved at epoch 126.000, val_loss: 0.193\n"
     ]
    },
    {
     "name": "stderr",
     "output_type": "stream",
     "text": [
      "100%|██████████| 6/6 [00:02<00:00,  2.35it/s]\n"
     ]
    },
    {
     "name": "stdout",
     "output_type": "stream",
     "text": [
      "Model saved at epoch 127.000, val_loss: 0.174\n"
     ]
    },
    {
     "name": "stderr",
     "output_type": "stream",
     "text": [
      "100%|██████████| 6/6 [00:02<00:00,  2.34it/s]\n",
      "100%|██████████| 6/6 [00:02<00:00,  2.35it/s]\n",
      "100%|██████████| 6/6 [00:02<00:00,  2.37it/s]\n",
      "100%|██████████| 6/6 [00:02<00:00,  2.30it/s]\n",
      "100%|██████████| 6/6 [00:02<00:00,  2.34it/s]\n"
     ]
    },
    {
     "name": "stdout",
     "output_type": "stream",
     "text": [
      "Model saved at epoch 132.000, val_loss: 0.169\n"
     ]
    },
    {
     "name": "stderr",
     "output_type": "stream",
     "text": [
      "100%|██████████| 6/6 [00:02<00:00,  2.30it/s]\n"
     ]
    },
    {
     "name": "stdout",
     "output_type": "stream",
     "text": [
      "Model saved at epoch 133.000, val_loss: 0.162\n"
     ]
    },
    {
     "name": "stderr",
     "output_type": "stream",
     "text": [
      "100%|██████████| 6/6 [00:02<00:00,  2.39it/s]\n"
     ]
    },
    {
     "name": "stdout",
     "output_type": "stream",
     "text": [
      "Model saved at epoch 134.000, val_loss: 0.159\n"
     ]
    },
    {
     "name": "stderr",
     "output_type": "stream",
     "text": [
      "100%|██████████| 6/6 [00:02<00:00,  2.35it/s]\n",
      "100%|██████████| 6/6 [00:02<00:00,  2.30it/s]\n",
      "100%|██████████| 6/6 [00:02<00:00,  2.31it/s]\n"
     ]
    },
    {
     "name": "stdout",
     "output_type": "stream",
     "text": [
      "Model saved at epoch 137.000, val_loss: 0.158\n"
     ]
    },
    {
     "name": "stderr",
     "output_type": "stream",
     "text": [
      "100%|██████████| 6/6 [00:02<00:00,  2.35it/s]\n"
     ]
    },
    {
     "name": "stdout",
     "output_type": "stream",
     "text": [
      "Model saved at epoch 138.000, val_loss: 0.154\n"
     ]
    },
    {
     "name": "stderr",
     "output_type": "stream",
     "text": [
      "100%|██████████| 6/6 [00:02<00:00,  2.21it/s]\n",
      "100%|██████████| 6/6 [00:02<00:00,  2.37it/s]\n",
      "100%|██████████| 6/6 [00:02<00:00,  2.31it/s]\n",
      "100%|██████████| 6/6 [00:02<00:00,  2.35it/s]\n",
      "100%|██████████| 6/6 [00:02<00:00,  2.37it/s]\n",
      "100%|██████████| 6/6 [00:02<00:00,  2.28it/s]\n"
     ]
    },
    {
     "name": "stdout",
     "output_type": "stream",
     "text": [
      "Model saved at epoch 144.000, val_loss: 0.142\n"
     ]
    },
    {
     "name": "stderr",
     "output_type": "stream",
     "text": [
      "100%|██████████| 6/6 [00:02<00:00,  2.31it/s]\n"
     ]
    },
    {
     "name": "stdout",
     "output_type": "stream",
     "text": [
      "Model saved at epoch 145.000, val_loss: 0.138\n"
     ]
    },
    {
     "name": "stderr",
     "output_type": "stream",
     "text": [
      "100%|██████████| 6/6 [00:02<00:00,  2.39it/s]\n"
     ]
    },
    {
     "name": "stdout",
     "output_type": "stream",
     "text": [
      "Model saved at epoch 146.000, val_loss: 0.135\n"
     ]
    },
    {
     "name": "stderr",
     "output_type": "stream",
     "text": [
      "100%|██████████| 6/6 [00:02<00:00,  2.24it/s]\n",
      "100%|██████████| 6/6 [00:02<00:00,  2.31it/s]\n",
      "100%|██████████| 6/6 [00:02<00:00,  2.35it/s]\n",
      "100%|██████████| 6/6 [00:02<00:00,  2.33it/s]\n",
      "100%|██████████| 6/6 [00:02<00:00,  2.37it/s]\n",
      "100%|██████████| 6/6 [00:02<00:00,  2.38it/s]\n"
     ]
    },
    {
     "name": "stdout",
     "output_type": "stream",
     "text": [
      "Model saved at epoch 152.000, val_loss: 0.132\n"
     ]
    },
    {
     "name": "stderr",
     "output_type": "stream",
     "text": [
      "100%|██████████| 6/6 [00:02<00:00,  2.29it/s]\n"
     ]
    },
    {
     "name": "stdout",
     "output_type": "stream",
     "text": [
      "Model saved at epoch 153.000, val_loss: 0.128\n"
     ]
    },
    {
     "name": "stderr",
     "output_type": "stream",
     "text": [
      "100%|██████████| 6/6 [00:02<00:00,  2.34it/s]\n",
      "100%|██████████| 6/6 [00:02<00:00,  2.29it/s]\n",
      "100%|██████████| 6/6 [00:02<00:00,  2.31it/s]\n",
      "100%|██████████| 6/6 [00:02<00:00,  2.29it/s]\n",
      "100%|██████████| 6/6 [00:02<00:00,  2.26it/s]\n",
      "100%|██████████| 6/6 [00:02<00:00,  2.37it/s]\n",
      "100%|██████████| 6/6 [00:02<00:00,  2.39it/s]\n",
      "100%|██████████| 6/6 [00:02<00:00,  2.29it/s]\n",
      "100%|██████████| 6/6 [00:02<00:00,  2.33it/s]\n",
      "100%|██████████| 6/6 [00:02<00:00,  2.31it/s]\n",
      "100%|██████████| 6/6 [00:02<00:00,  2.29it/s]\n",
      "100%|██████████| 6/6 [00:02<00:00,  2.07it/s]\n",
      "100%|██████████| 6/6 [00:02<00:00,  2.22it/s]\n",
      "100%|██████████| 6/6 [00:02<00:00,  2.35it/s]\n",
      "100%|██████████| 6/6 [00:02<00:00,  2.34it/s]\n",
      "100%|██████████| 6/6 [00:02<00:00,  2.33it/s]\n",
      "100%|██████████| 6/6 [00:02<00:00,  2.22it/s]\n"
     ]
    },
    {
     "name": "stdout",
     "output_type": "stream",
     "text": [
      "Model saved at epoch 170.000, val_loss: 0.125\n"
     ]
    },
    {
     "name": "stderr",
     "output_type": "stream",
     "text": [
      "100%|██████████| 6/6 [00:02<00:00,  2.29it/s]\n"
     ]
    },
    {
     "name": "stdout",
     "output_type": "stream",
     "text": [
      "Model saved at epoch 171.000, val_loss: 0.123\n"
     ]
    },
    {
     "name": "stderr",
     "output_type": "stream",
     "text": [
      "100%|██████████| 6/6 [00:02<00:00,  2.25it/s]\n",
      "100%|██████████| 6/6 [00:02<00:00,  2.16it/s]\n",
      "100%|██████████| 6/6 [00:02<00:00,  2.43it/s]\n",
      "100%|██████████| 6/6 [00:02<00:00,  2.51it/s]\n",
      "100%|██████████| 6/6 [00:02<00:00,  2.51it/s]\n",
      "100%|██████████| 6/6 [00:02<00:00,  2.48it/s]\n",
      "100%|██████████| 6/6 [00:02<00:00,  2.46it/s]\n"
     ]
    },
    {
     "name": "stdout",
     "output_type": "stream",
     "text": [
      "Model saved at epoch 178.000, val_loss: 0.121\n"
     ]
    },
    {
     "name": "stderr",
     "output_type": "stream",
     "text": [
      "100%|██████████| 6/6 [00:02<00:00,  2.27it/s]\n",
      "100%|██████████| 6/6 [00:02<00:00,  2.26it/s]\n",
      "100%|██████████| 6/6 [00:02<00:00,  2.28it/s]\n"
     ]
    },
    {
     "name": "stdout",
     "output_type": "stream",
     "text": [
      "Model saved at epoch 181.000, val_loss: 0.119\n"
     ]
    },
    {
     "name": "stderr",
     "output_type": "stream",
     "text": [
      "100%|██████████| 6/6 [00:02<00:00,  2.31it/s]\n"
     ]
    },
    {
     "name": "stdout",
     "output_type": "stream",
     "text": [
      "Model saved at epoch 182.000, val_loss: 0.118\n"
     ]
    },
    {
     "name": "stderr",
     "output_type": "stream",
     "text": [
      "100%|██████████| 6/6 [00:02<00:00,  2.35it/s]\n"
     ]
    },
    {
     "name": "stdout",
     "output_type": "stream",
     "text": [
      "Model saved at epoch 183.000, val_loss: 0.117\n"
     ]
    },
    {
     "name": "stderr",
     "output_type": "stream",
     "text": [
      "100%|██████████| 6/6 [00:02<00:00,  2.34it/s]\n"
     ]
    },
    {
     "name": "stdout",
     "output_type": "stream",
     "text": [
      "Model saved at epoch 184.000, val_loss: 0.117\n"
     ]
    },
    {
     "name": "stderr",
     "output_type": "stream",
     "text": [
      "100%|██████████| 6/6 [00:02<00:00,  2.38it/s]\n",
      "100%|██████████| 6/6 [00:02<00:00,  2.43it/s]\n"
     ]
    },
    {
     "name": "stdout",
     "output_type": "stream",
     "text": [
      "Model saved at epoch 186.000, val_loss: 0.117\n"
     ]
    },
    {
     "name": "stderr",
     "output_type": "stream",
     "text": [
      "100%|██████████| 6/6 [00:02<00:00,  2.26it/s]\n",
      "100%|██████████| 6/6 [00:02<00:00,  2.43it/s]\n",
      "100%|██████████| 6/6 [00:02<00:00,  2.44it/s]\n",
      "100%|██████████| 6/6 [00:02<00:00,  2.46it/s]\n",
      "100%|██████████| 6/6 [00:02<00:00,  2.50it/s]\n",
      "100%|██████████| 6/6 [00:02<00:00,  2.47it/s]\n",
      "100%|██████████| 6/6 [00:02<00:00,  2.48it/s]\n",
      "100%|██████████| 6/6 [00:02<00:00,  2.43it/s]\n",
      "100%|██████████| 6/6 [00:02<00:00,  2.51it/s]\n",
      "100%|██████████| 6/6 [00:02<00:00,  2.49it/s]\n",
      "100%|██████████| 6/6 [00:02<00:00,  2.49it/s]\n"
     ]
    },
    {
     "name": "stdout",
     "output_type": "stream",
     "text": [
      "Model saved at epoch 197.000, val_loss: 0.115\n"
     ]
    },
    {
     "name": "stderr",
     "output_type": "stream",
     "text": [
      "100%|██████████| 6/6 [00:02<00:00,  2.48it/s]\n",
      "100%|██████████| 6/6 [00:02<00:00,  2.50it/s]\n",
      "100%|██████████| 6/6 [00:02<00:00,  2.38it/s]\n",
      "100%|██████████| 6/6 [00:02<00:00,  2.38it/s]\n",
      "100%|██████████| 6/6 [00:02<00:00,  2.41it/s]\n",
      "100%|██████████| 6/6 [00:02<00:00,  2.53it/s]\n",
      "100%|██████████| 6/6 [00:02<00:00,  2.51it/s]\n",
      "100%|██████████| 6/6 [00:02<00:00,  2.47it/s]\n",
      "100%|██████████| 6/6 [00:02<00:00,  2.44it/s]\n",
      "100%|██████████| 6/6 [00:02<00:00,  2.56it/s]\n",
      "100%|██████████| 6/6 [00:02<00:00,  2.54it/s]\n",
      "100%|██████████| 6/6 [00:02<00:00,  2.45it/s]\n",
      "100%|██████████| 6/6 [00:02<00:00,  2.53it/s]\n",
      "100%|██████████| 6/6 [00:02<00:00,  2.55it/s]\n",
      "100%|██████████| 6/6 [00:02<00:00,  2.53it/s]\n",
      "100%|██████████| 6/6 [00:02<00:00,  2.44it/s]\n",
      "100%|██████████| 6/6 [00:02<00:00,  2.44it/s]\n",
      "100%|██████████| 6/6 [00:02<00:00,  2.57it/s]\n",
      "100%|██████████| 6/6 [00:02<00:00,  2.46it/s]\n",
      "100%|██████████| 6/6 [00:02<00:00,  2.45it/s]\n",
      "100%|██████████| 6/6 [00:02<00:00,  2.36it/s]\n",
      "100%|██████████| 6/6 [00:02<00:00,  2.40it/s]\n",
      "100%|██████████| 6/6 [00:02<00:00,  2.34it/s]\n",
      "100%|██████████| 6/6 [00:02<00:00,  2.31it/s]\n",
      "100%|██████████| 6/6 [00:02<00:00,  2.29it/s]\n",
      "100%|██████████| 6/6 [00:02<00:00,  2.35it/s]\n",
      "100%|██████████| 6/6 [00:02<00:00,  2.31it/s]\n",
      "100%|██████████| 6/6 [00:02<00:00,  2.30it/s]\n",
      "100%|██████████| 6/6 [00:02<00:00,  2.22it/s]\n",
      "100%|██████████| 6/6 [00:02<00:00,  2.35it/s]\n",
      "100%|██████████| 6/6 [00:02<00:00,  2.42it/s]\n",
      "100%|██████████| 6/6 [00:02<00:00,  2.30it/s]\n",
      "100%|██████████| 6/6 [00:02<00:00,  2.39it/s]\n",
      "100%|██████████| 6/6 [00:02<00:00,  2.27it/s]\n",
      "100%|██████████| 6/6 [00:02<00:00,  2.35it/s]\n",
      "100%|██████████| 6/6 [00:02<00:00,  2.27it/s]\n",
      "100%|██████████| 6/6 [00:02<00:00,  2.38it/s]\n",
      "100%|██████████| 6/6 [00:02<00:00,  2.36it/s]\n",
      "100%|██████████| 6/6 [00:02<00:00,  2.33it/s]\n",
      "100%|██████████| 6/6 [00:02<00:00,  2.34it/s]\n",
      "100%|██████████| 6/6 [00:02<00:00,  2.25it/s]\n",
      "100%|██████████| 6/6 [00:02<00:00,  2.40it/s]\n",
      "100%|██████████| 6/6 [00:02<00:00,  2.34it/s]\n",
      "100%|██████████| 6/6 [00:02<00:00,  2.23it/s]\n",
      "100%|██████████| 6/6 [00:02<00:00,  2.29it/s]\n",
      "100%|██████████| 6/6 [00:02<00:00,  2.37it/s]\n",
      "100%|██████████| 6/6 [00:02<00:00,  2.25it/s]\n",
      "100%|██████████| 6/6 [00:02<00:00,  2.30it/s]\n",
      "100%|██████████| 6/6 [00:02<00:00,  2.31it/s]\n",
      "100%|██████████| 6/6 [00:02<00:00,  2.36it/s]\n",
      "100%|██████████| 6/6 [00:02<00:00,  2.30it/s]\n",
      "100%|██████████| 6/6 [00:02<00:00,  2.39it/s]\n",
      "100%|██████████| 6/6 [00:02<00:00,  2.27it/s]\n",
      "100%|██████████| 6/6 [00:02<00:00,  2.23it/s]\n",
      "100%|██████████| 6/6 [00:02<00:00,  2.35it/s]\n",
      "100%|██████████| 6/6 [00:02<00:00,  2.35it/s]\n",
      "100%|██████████| 6/6 [00:02<00:00,  2.39it/s]\n",
      "100%|██████████| 6/6 [00:02<00:00,  2.20it/s]\n",
      "100%|██████████| 6/6 [00:02<00:00,  2.37it/s]\n",
      "100%|██████████| 6/6 [00:02<00:00,  2.41it/s]\n",
      "100%|██████████| 6/6 [00:02<00:00,  2.44it/s]\n",
      "100%|██████████| 6/6 [00:02<00:00,  2.38it/s]\n",
      "100%|██████████| 6/6 [00:02<00:00,  2.22it/s]\n",
      "100%|██████████| 6/6 [00:02<00:00,  2.35it/s]\n",
      "100%|██████████| 6/6 [00:02<00:00,  2.36it/s]\n",
      "100%|██████████| 6/6 [00:02<00:00,  2.31it/s]\n",
      "100%|██████████| 6/6 [00:02<00:00,  2.37it/s]\n",
      "100%|██████████| 6/6 [00:02<00:00,  2.27it/s]\n",
      "100%|██████████| 6/6 [00:02<00:00,  2.39it/s]\n",
      "100%|██████████| 6/6 [00:02<00:00,  2.36it/s]\n",
      "100%|██████████| 6/6 [00:02<00:00,  2.28it/s]\n",
      "100%|██████████| 6/6 [00:02<00:00,  2.38it/s]\n",
      "100%|██████████| 6/6 [00:02<00:00,  2.40it/s]\n",
      "100%|██████████| 6/6 [00:02<00:00,  2.33it/s]\n",
      "100%|██████████| 6/6 [00:02<00:00,  2.39it/s]\n",
      "100%|██████████| 6/6 [00:02<00:00,  2.38it/s]\n",
      "100%|██████████| 6/6 [00:02<00:00,  2.39it/s]\n",
      "100%|██████████| 6/6 [00:02<00:00,  2.37it/s]\n",
      "100%|██████████| 6/6 [00:02<00:00,  2.43it/s]\n",
      "100%|██████████| 6/6 [00:02<00:00,  2.31it/s]\n",
      "100%|██████████| 6/6 [00:02<00:00,  2.34it/s]\n",
      "100%|██████████| 6/6 [00:02<00:00,  2.31it/s]\n",
      "100%|██████████| 6/6 [00:02<00:00,  2.39it/s]\n",
      "100%|██████████| 6/6 [00:02<00:00,  2.40it/s]\n",
      "100%|██████████| 6/6 [00:02<00:00,  2.39it/s]\n",
      "100%|██████████| 6/6 [00:02<00:00,  2.25it/s]\n",
      "100%|██████████| 6/6 [00:02<00:00,  2.34it/s]\n",
      "100%|██████████| 6/6 [00:02<00:00,  2.33it/s]\n",
      "100%|██████████| 6/6 [00:02<00:00,  2.33it/s]\n",
      "100%|██████████| 6/6 [00:02<00:00,  2.45it/s]\n",
      "100%|██████████| 6/6 [00:02<00:00,  2.37it/s]\n",
      "100%|██████████| 6/6 [00:02<00:00,  2.34it/s]\n",
      "100%|██████████| 6/6 [00:02<00:00,  2.32it/s]\n",
      "100%|██████████| 6/6 [00:02<00:00,  2.33it/s]\n",
      "100%|██████████| 6/6 [00:02<00:00,  2.33it/s]\n",
      "100%|██████████| 6/6 [00:02<00:00,  2.23it/s]\n",
      "100%|██████████| 6/6 [00:02<00:00,  2.32it/s]\n",
      "100%|██████████| 6/6 [00:02<00:00,  2.33it/s]\n",
      "100%|██████████| 6/6 [00:02<00:00,  2.38it/s]\n",
      "100%|██████████| 6/6 [00:02<00:00,  2.32it/s]\n",
      "100%|██████████| 6/6 [00:02<00:00,  2.37it/s]\n",
      "100%|██████████| 6/6 [00:02<00:00,  2.34it/s]\n",
      "100%|██████████| 6/6 [00:02<00:00,  2.39it/s]\n",
      "100%|██████████| 6/6 [00:02<00:00,  2.36it/s]\n",
      "100%|██████████| 6/6 [00:02<00:00,  2.26it/s]\n",
      "100%|██████████| 6/6 [00:02<00:00,  2.32it/s]\n",
      "100%|██████████| 6/6 [00:02<00:00,  2.35it/s]\n",
      "100%|██████████| 6/6 [00:02<00:00,  2.36it/s]\n",
      "100%|██████████| 6/6 [00:02<00:00,  2.40it/s]\n",
      "100%|██████████| 6/6 [00:02<00:00,  2.32it/s]\n",
      "100%|██████████| 6/6 [00:02<00:00,  2.36it/s]\n",
      "100%|██████████| 6/6 [00:02<00:00,  2.31it/s]\n",
      "100%|██████████| 6/6 [00:02<00:00,  2.35it/s]\n",
      "100%|██████████| 6/6 [00:02<00:00,  2.37it/s]\n",
      "100%|██████████| 6/6 [00:02<00:00,  2.27it/s]\n",
      "100%|██████████| 6/6 [00:02<00:00,  2.32it/s]\n",
      "100%|██████████| 6/6 [00:02<00:00,  2.34it/s]\n",
      "100%|██████████| 6/6 [00:02<00:00,  2.40it/s]\n",
      "100%|██████████| 6/6 [00:02<00:00,  2.34it/s]\n",
      "100%|██████████| 6/6 [00:02<00:00,  2.35it/s]\n",
      "100%|██████████| 6/6 [00:02<00:00,  2.33it/s]\n",
      "100%|██████████| 6/6 [00:02<00:00,  2.27it/s]\n",
      "100%|██████████| 6/6 [00:02<00:00,  2.38it/s]\n",
      "100%|██████████| 6/6 [00:02<00:00,  2.25it/s]\n",
      "100%|██████████| 6/6 [00:02<00:00,  2.35it/s]\n",
      "100%|██████████| 6/6 [00:02<00:00,  2.21it/s]\n",
      "100%|██████████| 6/6 [00:02<00:00,  2.22it/s]\n",
      "100%|██████████| 6/6 [00:02<00:00,  2.36it/s]\n",
      "100%|██████████| 6/6 [00:02<00:00,  2.38it/s]\n",
      "100%|██████████| 6/6 [00:02<00:00,  2.36it/s]\n",
      "100%|██████████| 6/6 [00:02<00:00,  2.35it/s]\n",
      "100%|██████████| 6/6 [00:02<00:00,  2.35it/s]\n",
      "100%|██████████| 6/6 [00:02<00:00,  2.34it/s]\n",
      "100%|██████████| 6/6 [00:02<00:00,  2.34it/s]\n",
      "100%|██████████| 6/6 [00:02<00:00,  2.37it/s]\n",
      "100%|██████████| 6/6 [00:02<00:00,  2.34it/s]\n",
      "100%|██████████| 6/6 [00:02<00:00,  2.34it/s]\n",
      "100%|██████████| 6/6 [00:02<00:00,  2.38it/s]\n",
      "100%|██████████| 6/6 [00:02<00:00,  2.35it/s]\n",
      "100%|██████████| 6/6 [00:02<00:00,  2.33it/s]\n",
      "100%|██████████| 6/6 [00:02<00:00,  2.23it/s]\n",
      "100%|██████████| 6/6 [00:02<00:00,  2.39it/s]\n",
      "100%|██████████| 6/6 [00:02<00:00,  2.37it/s]\n",
      "100%|██████████| 6/6 [00:02<00:00,  2.40it/s]\n",
      "100%|██████████| 6/6 [00:02<00:00,  2.37it/s]\n",
      "100%|██████████| 6/6 [00:02<00:00,  2.32it/s]\n",
      "100%|██████████| 6/6 [00:02<00:00,  2.39it/s]\n",
      "100%|██████████| 6/6 [00:02<00:00,  2.29it/s]\n",
      "100%|██████████| 6/6 [00:02<00:00,  2.41it/s]\n",
      "100%|██████████| 6/6 [00:02<00:00,  2.28it/s]\n",
      "100%|██████████| 6/6 [00:02<00:00,  2.34it/s]\n",
      "100%|██████████| 6/6 [00:02<00:00,  2.38it/s]\n",
      "100%|██████████| 6/6 [00:02<00:00,  2.37it/s]\n",
      "100%|██████████| 6/6 [00:02<00:00,  2.38it/s]\n",
      "100%|██████████| 6/6 [00:02<00:00,  2.25it/s]\n",
      "100%|██████████| 6/6 [00:02<00:00,  2.35it/s]\n",
      "100%|██████████| 6/6 [00:02<00:00,  2.32it/s]\n",
      "100%|██████████| 6/6 [00:02<00:00,  2.33it/s]\n",
      "100%|██████████| 6/6 [00:02<00:00,  2.32it/s]\n",
      "100%|██████████| 6/6 [00:02<00:00,  2.32it/s]\n",
      "100%|██████████| 6/6 [00:02<00:00,  2.34it/s]\n",
      "100%|██████████| 6/6 [00:02<00:00,  2.32it/s]\n",
      "100%|██████████| 6/6 [00:02<00:00,  2.27it/s]\n",
      "100%|██████████| 6/6 [00:02<00:00,  2.38it/s]\n",
      "100%|██████████| 6/6 [00:02<00:00,  2.32it/s]\n",
      "100%|██████████| 6/6 [00:02<00:00,  2.39it/s]\n",
      "100%|██████████| 6/6 [00:02<00:00,  2.39it/s]\n",
      "100%|██████████| 6/6 [00:02<00:00,  2.37it/s]\n",
      "100%|██████████| 6/6 [00:02<00:00,  2.32it/s]\n",
      "100%|██████████| 6/6 [00:02<00:00,  2.34it/s]\n",
      "100%|██████████| 6/6 [00:02<00:00,  2.32it/s]\n",
      "100%|██████████| 6/6 [00:02<00:00,  2.37it/s]\n",
      "100%|██████████| 6/6 [00:02<00:00,  2.37it/s]\n",
      "100%|██████████| 6/6 [00:02<00:00,  2.30it/s]\n",
      "100%|██████████| 6/6 [00:02<00:00,  2.45it/s]\n",
      "100%|██████████| 6/6 [00:02<00:00,  2.33it/s]\n",
      "100%|██████████| 6/6 [00:02<00:00,  2.36it/s]\n",
      "100%|██████████| 6/6 [00:02<00:00,  2.24it/s]\n",
      "100%|██████████| 6/6 [00:02<00:00,  2.34it/s]\n",
      "100%|██████████| 6/6 [00:02<00:00,  2.35it/s]\n",
      "100%|██████████| 6/6 [00:02<00:00,  2.40it/s]\n",
      "100%|██████████| 6/6 [00:02<00:00,  2.36it/s]\n",
      "100%|██████████| 6/6 [00:02<00:00,  2.22it/s]\n",
      "100%|██████████| 6/6 [00:02<00:00,  2.40it/s]\n",
      "100%|██████████| 6/6 [00:02<00:00,  2.37it/s]\n",
      "100%|██████████| 6/6 [00:02<00:00,  2.35it/s]\n",
      "100%|██████████| 6/6 [00:02<00:00,  2.26it/s]\n",
      "100%|██████████| 6/6 [00:02<00:00,  2.30it/s]\n",
      "100%|██████████| 6/6 [00:02<00:00,  2.40it/s]\n",
      "100%|██████████| 6/6 [00:02<00:00,  2.36it/s]\n",
      "100%|██████████| 6/6 [00:02<00:00,  2.44it/s]\n",
      "100%|██████████| 6/6 [00:02<00:00,  2.27it/s]\n",
      "100%|██████████| 6/6 [00:02<00:00,  2.40it/s]\n",
      "100%|██████████| 6/6 [00:02<00:00,  2.37it/s]\n",
      "100%|██████████| 6/6 [00:02<00:00,  2.35it/s]\n",
      "100%|██████████| 6/6 [00:02<00:00,  2.39it/s]\n",
      "100%|██████████| 6/6 [00:02<00:00,  2.27it/s]\n",
      "100%|██████████| 6/6 [00:02<00:00,  2.44it/s]\n",
      "100%|██████████| 6/6 [00:02<00:00,  2.30it/s]\n",
      "100%|██████████| 6/6 [00:02<00:00,  2.37it/s]\n",
      "100%|██████████| 6/6 [00:02<00:00,  2.27it/s]\n",
      "100%|██████████| 6/6 [00:02<00:00,  2.41it/s]\n",
      "100%|██████████| 6/6 [00:02<00:00,  2.45it/s]\n",
      "100%|██████████| 6/6 [00:02<00:00,  2.36it/s]\n",
      "100%|██████████| 6/6 [00:02<00:00,  2.33it/s]\n",
      "100%|██████████| 6/6 [00:02<00:00,  2.24it/s]\n",
      "100%|██████████| 6/6 [00:02<00:00,  2.42it/s]\n",
      "100%|██████████| 6/6 [00:02<00:00,  2.33it/s]\n",
      "100%|██████████| 6/6 [00:02<00:00,  2.30it/s]\n",
      "100%|██████████| 6/6 [00:02<00:00,  2.17it/s]\n",
      "100%|██████████| 6/6 [00:02<00:00,  2.35it/s]\n",
      "100%|██████████| 6/6 [00:02<00:00,  2.41it/s]\n",
      "100%|██████████| 6/6 [00:02<00:00,  2.36it/s]\n",
      "100%|██████████| 6/6 [00:02<00:00,  2.31it/s]\n",
      "100%|██████████| 6/6 [00:02<00:00,  2.31it/s]\n",
      "100%|██████████| 6/6 [00:02<00:00,  2.37it/s]\n",
      "100%|██████████| 6/6 [00:02<00:00,  2.40it/s]\n",
      "100%|██████████| 6/6 [00:02<00:00,  2.30it/s]\n",
      "100%|██████████| 6/6 [00:02<00:00,  2.36it/s]\n",
      "100%|██████████| 6/6 [00:02<00:00,  2.40it/s]\n",
      "100%|██████████| 6/6 [00:02<00:00,  2.28it/s]\n",
      "100%|██████████| 6/6 [00:02<00:00,  2.35it/s]\n",
      "100%|██████████| 6/6 [00:02<00:00,  2.38it/s]\n",
      "100%|██████████| 6/6 [00:02<00:00,  2.22it/s]\n",
      "100%|██████████| 6/6 [00:02<00:00,  2.38it/s]\n",
      "100%|██████████| 6/6 [00:02<00:00,  2.23it/s]\n",
      "100%|██████████| 6/6 [00:02<00:00,  2.26it/s]\n",
      "100%|██████████| 6/6 [00:02<00:00,  2.31it/s]\n",
      "100%|██████████| 6/6 [00:02<00:00,  2.25it/s]\n",
      "100%|██████████| 6/6 [00:02<00:00,  2.28it/s]\n",
      "100%|██████████| 6/6 [00:02<00:00,  2.42it/s]\n",
      "100%|██████████| 6/6 [00:02<00:00,  2.29it/s]\n",
      "100%|██████████| 6/6 [00:02<00:00,  2.32it/s]\n",
      "100%|██████████| 6/6 [00:02<00:00,  2.39it/s]\n",
      "100%|██████████| 6/6 [00:02<00:00,  2.24it/s]\n",
      "100%|██████████| 6/6 [00:02<00:00,  2.33it/s]\n",
      "100%|██████████| 6/6 [00:02<00:00,  2.37it/s]\n",
      "100%|██████████| 6/6 [00:02<00:00,  2.36it/s]\n",
      "100%|██████████| 6/6 [00:02<00:00,  2.36it/s]\n",
      "100%|██████████| 6/6 [00:02<00:00,  2.24it/s]\n",
      "100%|██████████| 6/6 [00:02<00:00,  2.46it/s]\n",
      "100%|██████████| 6/6 [00:02<00:00,  2.36it/s]\n",
      "100%|██████████| 6/6 [00:02<00:00,  2.41it/s]\n",
      "100%|██████████| 6/6 [00:02<00:00,  2.24it/s]\n",
      "100%|██████████| 6/6 [00:02<00:00,  2.32it/s]\n",
      "100%|██████████| 6/6 [00:02<00:00,  2.36it/s]\n",
      "100%|██████████| 6/6 [00:02<00:00,  2.45it/s]\n",
      "100%|██████████| 6/6 [00:02<00:00,  2.29it/s]\n",
      "100%|██████████| 6/6 [00:02<00:00,  2.18it/s]\n",
      "100%|██████████| 6/6 [00:02<00:00,  2.36it/s]\n",
      "100%|██████████| 6/6 [00:02<00:00,  2.32it/s]\n",
      "100%|██████████| 6/6 [00:02<00:00,  2.31it/s]\n",
      "100%|██████████| 6/6 [00:02<00:00,  2.18it/s]\n",
      "100%|██████████| 6/6 [00:02<00:00,  2.32it/s]\n",
      "100%|██████████| 6/6 [00:02<00:00,  2.31it/s]\n",
      "100%|██████████| 6/6 [00:02<00:00,  2.27it/s]\n",
      "100%|██████████| 6/6 [00:02<00:00,  2.40it/s]\n",
      "100%|██████████| 6/6 [00:02<00:00,  2.35it/s]\n",
      "100%|██████████| 6/6 [00:02<00:00,  2.32it/s]\n",
      "100%|██████████| 6/6 [00:02<00:00,  2.34it/s]\n",
      "100%|██████████| 6/6 [00:02<00:00,  2.38it/s]\n",
      "100%|██████████| 6/6 [00:02<00:00,  2.26it/s]\n",
      "100%|██████████| 6/6 [00:02<00:00,  2.31it/s]\n",
      "100%|██████████| 6/6 [00:02<00:00,  2.36it/s]\n",
      "100%|██████████| 6/6 [00:02<00:00,  2.36it/s]\n",
      "100%|██████████| 6/6 [00:02<00:00,  2.26it/s]\n",
      "100%|██████████| 6/6 [00:02<00:00,  2.36it/s]\n",
      "100%|██████████| 6/6 [00:02<00:00,  2.29it/s]\n",
      "100%|██████████| 6/6 [00:02<00:00,  2.35it/s]\n",
      "100%|██████████| 6/6 [00:02<00:00,  2.35it/s]\n",
      "100%|██████████| 6/6 [00:02<00:00,  2.27it/s]\n",
      "100%|██████████| 6/6 [00:02<00:00,  2.38it/s]\n",
      "100%|██████████| 6/6 [00:02<00:00,  2.29it/s]\n",
      "100%|██████████| 6/6 [00:02<00:00,  2.35it/s]\n",
      "100%|██████████| 6/6 [00:02<00:00,  2.34it/s]\n",
      "100%|██████████| 6/6 [00:02<00:00,  2.36it/s]\n",
      "100%|██████████| 6/6 [00:02<00:00,  2.39it/s]\n",
      "100%|██████████| 6/6 [00:02<00:00,  2.37it/s]\n",
      "100%|██████████| 6/6 [00:02<00:00,  2.30it/s]\n",
      "100%|██████████| 6/6 [00:02<00:00,  2.18it/s]\n",
      "100%|██████████| 6/6 [00:02<00:00,  2.31it/s]\n",
      "100%|██████████| 6/6 [00:02<00:00,  2.37it/s]\n",
      "100%|██████████| 6/6 [00:02<00:00,  2.25it/s]\n",
      "100%|██████████| 6/6 [00:02<00:00,  2.37it/s]\n",
      "100%|██████████| 6/6 [00:02<00:00,  2.32it/s]\n",
      "100%|██████████| 6/6 [00:02<00:00,  2.30it/s]\n",
      "100%|██████████| 6/6 [00:02<00:00,  2.36it/s]\n",
      "100%|██████████| 6/6 [00:02<00:00,  2.34it/s]\n",
      "100%|██████████| 6/6 [00:02<00:00,  2.31it/s]\n",
      "100%|██████████| 6/6 [00:02<00:00,  2.36it/s]\n",
      "100%|██████████| 6/6 [00:02<00:00,  2.34it/s]\n",
      "100%|██████████| 6/6 [00:02<00:00,  2.37it/s]\n",
      "100%|██████████| 6/6 [00:02<00:00,  2.32it/s]\n",
      "100%|██████████| 6/6 [00:02<00:00,  2.34it/s]\n",
      "100%|██████████| 6/6 [00:02<00:00,  2.32it/s]\n",
      "100%|██████████| 6/6 [00:02<00:00,  2.34it/s]\n",
      "100%|██████████| 6/6 [00:02<00:00,  2.38it/s]\n",
      "100%|██████████| 6/6 [00:02<00:00,  2.32it/s]\n",
      "100%|██████████| 6/6 [00:02<00:00,  2.39it/s]\n",
      "100%|██████████| 6/6 [00:02<00:00,  2.34it/s]\n",
      "100%|██████████| 6/6 [00:02<00:00,  2.37it/s]\n",
      "100%|██████████| 6/6 [00:02<00:00,  2.25it/s]\n",
      "100%|██████████| 6/6 [00:02<00:00,  2.33it/s]\n",
      "100%|██████████| 6/6 [00:02<00:00,  2.34it/s]\n",
      "100%|██████████| 6/6 [00:02<00:00,  2.39it/s]\n",
      "100%|██████████| 6/6 [00:02<00:00,  2.34it/s]\n",
      "100%|██████████| 6/6 [00:02<00:00,  2.34it/s]\n",
      "100%|██████████| 6/6 [00:02<00:00,  2.31it/s]\n",
      "100%|██████████| 6/6 [00:02<00:00,  2.34it/s]\n",
      "100%|██████████| 6/6 [00:02<00:00,  2.32it/s]\n",
      "100%|██████████| 6/6 [00:02<00:00,  2.25it/s]\n",
      "100%|██████████| 6/6 [00:02<00:00,  2.39it/s]\n",
      "100%|██████████| 6/6 [00:02<00:00,  2.30it/s]\n",
      "100%|██████████| 6/6 [00:02<00:00,  2.39it/s]\n",
      "100%|██████████| 6/6 [00:02<00:00,  2.46it/s]\n",
      "100%|██████████| 6/6 [00:02<00:00,  2.41it/s]\n",
      "100%|██████████| 6/6 [00:02<00:00,  2.34it/s]\n",
      "100%|██████████| 6/6 [00:02<00:00,  2.36it/s]\n",
      "100%|██████████| 6/6 [00:02<00:00,  2.32it/s]\n",
      "100%|██████████| 6/6 [00:02<00:00,  2.24it/s]\n",
      "100%|██████████| 6/6 [00:02<00:00,  2.33it/s]\n",
      "100%|██████████| 6/6 [00:02<00:00,  2.36it/s]\n",
      "100%|██████████| 6/6 [00:02<00:00,  2.29it/s]\n",
      "100%|██████████| 6/6 [00:02<00:00,  2.26it/s]\n",
      "100%|██████████| 6/6 [00:02<00:00,  2.34it/s]\n",
      "100%|██████████| 6/6 [00:02<00:00,  2.37it/s]\n",
      "100%|██████████| 6/6 [00:02<00:00,  2.34it/s]\n",
      "100%|██████████| 6/6 [00:02<00:00,  2.34it/s]\n",
      "100%|██████████| 6/6 [00:02<00:00,  2.28it/s]\n",
      "100%|██████████| 6/6 [00:02<00:00,  2.42it/s]\n",
      "100%|██████████| 6/6 [00:02<00:00,  2.36it/s]\n",
      "100%|██████████| 6/6 [00:02<00:00,  2.37it/s]\n",
      "100%|██████████| 6/6 [00:02<00:00,  2.24it/s]\n",
      "100%|██████████| 6/6 [00:02<00:00,  2.32it/s]\n",
      "100%|██████████| 6/6 [00:02<00:00,  2.15it/s]\n",
      "100%|██████████| 6/6 [00:02<00:00,  2.23it/s]\n",
      "100%|██████████| 6/6 [00:02<00:00,  2.32it/s]\n",
      "100%|██████████| 6/6 [00:02<00:00,  2.41it/s]\n",
      "100%|██████████| 6/6 [00:02<00:00,  2.30it/s]\n",
      "100%|██████████| 6/6 [00:02<00:00,  2.23it/s]\n",
      "100%|██████████| 6/6 [00:02<00:00,  2.39it/s]\n",
      "100%|██████████| 6/6 [00:02<00:00,  2.34it/s]\n",
      "100%|██████████| 6/6 [00:02<00:00,  2.28it/s]\n",
      "100%|██████████| 6/6 [00:02<00:00,  2.30it/s]\n",
      "100%|██████████| 6/6 [00:02<00:00,  2.35it/s]\n",
      "100%|██████████| 6/6 [00:02<00:00,  2.42it/s]\n",
      "100%|██████████| 6/6 [00:02<00:00,  2.34it/s]\n",
      "100%|██████████| 6/6 [00:02<00:00,  2.35it/s]\n",
      "100%|██████████| 6/6 [00:02<00:00,  2.31it/s]\n",
      "100%|██████████| 6/6 [00:02<00:00,  2.37it/s]\n",
      "100%|██████████| 6/6 [00:02<00:00,  2.39it/s]\n",
      "100%|██████████| 6/6 [00:02<00:00,  2.38it/s]\n",
      "100%|██████████| 6/6 [00:02<00:00,  2.30it/s]\n",
      "100%|██████████| 6/6 [00:02<00:00,  2.36it/s]\n",
      "100%|██████████| 6/6 [00:02<00:00,  2.39it/s]\n",
      "100%|██████████| 6/6 [00:02<00:00,  2.34it/s]\n",
      "100%|██████████| 6/6 [00:02<00:00,  2.22it/s]\n",
      "100%|██████████| 6/6 [00:02<00:00,  2.35it/s]\n",
      "100%|██████████| 6/6 [00:02<00:00,  2.35it/s]\n",
      "100%|██████████| 6/6 [00:02<00:00,  2.32it/s]\n",
      "100%|██████████| 6/6 [00:02<00:00,  2.34it/s]\n",
      "100%|██████████| 6/6 [00:02<00:00,  2.37it/s]\n",
      "100%|██████████| 6/6 [00:02<00:00,  2.32it/s]\n",
      "100%|██████████| 6/6 [00:02<00:00,  2.37it/s]\n",
      "100%|██████████| 6/6 [00:02<00:00,  2.36it/s]\n",
      "100%|██████████| 6/6 [00:02<00:00,  2.39it/s]\n",
      "100%|██████████| 6/6 [00:02<00:00,  2.30it/s]\n",
      "100%|██████████| 6/6 [00:02<00:00,  2.32it/s]\n",
      "100%|██████████| 6/6 [00:02<00:00,  2.31it/s]\n",
      "100%|██████████| 6/6 [00:02<00:00,  2.27it/s]\n",
      "100%|██████████| 6/6 [00:02<00:00,  2.39it/s]\n",
      "100%|██████████| 6/6 [00:02<00:00,  2.36it/s]\n",
      "100%|██████████| 6/6 [00:02<00:00,  2.38it/s]\n",
      "100%|██████████| 6/6 [00:02<00:00,  2.36it/s]\n",
      "100%|██████████| 6/6 [00:02<00:00,  2.31it/s]\n",
      "100%|██████████| 6/6 [00:02<00:00,  2.34it/s]\n",
      "100%|██████████| 6/6 [00:02<00:00,  2.29it/s]\n",
      "100%|██████████| 6/6 [00:02<00:00,  2.34it/s]\n",
      "100%|██████████| 6/6 [00:02<00:00,  2.28it/s]\n",
      "100%|██████████| 6/6 [00:02<00:00,  2.37it/s]\n",
      "100%|██████████| 6/6 [00:02<00:00,  2.34it/s]\n",
      "100%|██████████| 6/6 [00:02<00:00,  2.35it/s]\n",
      "100%|██████████| 6/6 [00:02<00:00,  2.19it/s]\n",
      "100%|██████████| 6/6 [00:02<00:00,  2.39it/s]\n",
      "100%|██████████| 6/6 [00:02<00:00,  2.31it/s]\n",
      "100%|██████████| 6/6 [00:02<00:00,  2.37it/s]\n",
      "100%|██████████| 6/6 [00:02<00:00,  2.34it/s]\n",
      "100%|██████████| 6/6 [00:02<00:00,  2.20it/s]\n",
      "100%|██████████| 6/6 [00:02<00:00,  2.35it/s]\n",
      "100%|██████████| 6/6 [00:02<00:00,  2.39it/s]\n",
      "100%|██████████| 6/6 [00:02<00:00,  2.39it/s]\n",
      "100%|██████████| 6/6 [00:02<00:00,  2.26it/s]\n",
      "100%|██████████| 6/6 [00:02<00:00,  2.39it/s]\n",
      "100%|██████████| 6/6 [00:02<00:00,  2.39it/s]\n",
      "100%|██████████| 6/6 [00:02<00:00,  2.39it/s]\n",
      "100%|██████████| 6/6 [00:02<00:00,  2.34it/s]\n",
      "100%|██████████| 6/6 [00:02<00:00,  2.32it/s]\n",
      "100%|██████████| 6/6 [00:02<00:00,  2.34it/s]\n",
      "100%|██████████| 6/6 [00:02<00:00,  2.32it/s]\n",
      "100%|██████████| 6/6 [00:02<00:00,  2.35it/s]\n",
      "100%|██████████| 6/6 [00:02<00:00,  2.36it/s]\n",
      "100%|██████████| 6/6 [00:02<00:00,  2.42it/s]\n",
      "100%|██████████| 6/6 [00:02<00:00,  2.37it/s]\n",
      "100%|██████████| 6/6 [00:02<00:00,  2.35it/s]\n",
      "100%|██████████| 6/6 [00:02<00:00,  2.29it/s]\n",
      "100%|██████████| 6/6 [00:02<00:00,  2.39it/s]\n",
      "100%|██████████| 6/6 [00:02<00:00,  2.43it/s]\n",
      "100%|██████████| 6/6 [00:02<00:00,  2.29it/s]\n",
      "100%|██████████| 6/6 [00:02<00:00,  2.43it/s]\n",
      "100%|██████████| 6/6 [00:02<00:00,  2.34it/s]\n",
      "100%|██████████| 6/6 [00:02<00:00,  2.33it/s]\n",
      "100%|██████████| 6/6 [00:02<00:00,  2.35it/s]\n",
      "100%|██████████| 6/6 [00:02<00:00,  2.19it/s]\n",
      "100%|██████████| 6/6 [00:02<00:00,  2.39it/s]\n",
      "100%|██████████| 6/6 [00:02<00:00,  2.28it/s]\n",
      "100%|██████████| 6/6 [00:02<00:00,  2.36it/s]\n",
      "100%|██████████| 6/6 [00:02<00:00,  2.35it/s]\n",
      "100%|██████████| 6/6 [00:02<00:00,  2.35it/s]\n",
      "100%|██████████| 6/6 [00:02<00:00,  2.40it/s]\n",
      "100%|██████████| 6/6 [00:02<00:00,  2.26it/s]\n",
      "100%|██████████| 6/6 [00:02<00:00,  2.35it/s]\n",
      "100%|██████████| 6/6 [00:02<00:00,  2.29it/s]\n",
      "100%|██████████| 6/6 [00:02<00:00,  2.31it/s]\n",
      "100%|██████████| 6/6 [00:02<00:00,  2.40it/s]\n",
      "100%|██████████| 6/6 [00:02<00:00,  2.32it/s]\n",
      "100%|██████████| 6/6 [00:02<00:00,  2.35it/s]\n",
      "100%|██████████| 6/6 [00:02<00:00,  2.32it/s]\n",
      "100%|██████████| 6/6 [00:02<00:00,  2.39it/s]\n",
      "100%|██████████| 6/6 [00:02<00:00,  2.39it/s]\n",
      "100%|██████████| 6/6 [00:02<00:00,  2.23it/s]\n",
      "100%|██████████| 6/6 [00:02<00:00,  2.36it/s]\n",
      "100%|██████████| 6/6 [00:02<00:00,  2.35it/s]\n",
      "100%|██████████| 6/6 [00:02<00:00,  2.34it/s]\n",
      "100%|██████████| 6/6 [00:02<00:00,  2.34it/s]\n",
      "100%|██████████| 6/6 [00:02<00:00,  2.38it/s]\n",
      "100%|██████████| 6/6 [00:02<00:00,  2.36it/s]\n",
      "100%|██████████| 6/6 [00:02<00:00,  2.25it/s]\n",
      "100%|██████████| 6/6 [00:02<00:00,  2.33it/s]\n",
      "100%|██████████| 6/6 [00:02<00:00,  2.32it/s]\n",
      "100%|██████████| 6/6 [00:02<00:00,  2.37it/s]\n",
      "100%|██████████| 6/6 [00:02<00:00,  2.09it/s]\n",
      "100%|██████████| 6/6 [00:02<00:00,  2.41it/s]\n",
      "100%|██████████| 6/6 [00:02<00:00,  2.29it/s]\n",
      "100%|██████████| 6/6 [00:02<00:00,  2.39it/s]\n",
      "100%|██████████| 6/6 [00:02<00:00,  2.19it/s]\n",
      "100%|██████████| 6/6 [00:02<00:00,  2.32it/s]\n",
      "100%|██████████| 6/6 [00:02<00:00,  2.34it/s]\n",
      "100%|██████████| 6/6 [00:02<00:00,  2.36it/s]\n",
      "100%|██████████| 6/6 [00:02<00:00,  2.34it/s]\n",
      "100%|██████████| 6/6 [00:02<00:00,  2.35it/s]\n",
      "100%|██████████| 6/6 [00:02<00:00,  2.27it/s]\n",
      "100%|██████████| 6/6 [00:02<00:00,  2.32it/s]\n",
      "100%|██████████| 6/6 [00:02<00:00,  2.34it/s]\n",
      "100%|██████████| 6/6 [00:02<00:00,  2.35it/s]\n",
      "100%|██████████| 6/6 [00:02<00:00,  2.32it/s]\n",
      "100%|██████████| 6/6 [00:02<00:00,  2.30it/s]\n",
      "100%|██████████| 6/6 [00:02<00:00,  2.39it/s]\n",
      "100%|██████████| 6/6 [00:02<00:00,  2.25it/s]\n",
      "100%|██████████| 6/6 [00:02<00:00,  2.43it/s]\n",
      "100%|██████████| 6/6 [00:02<00:00,  2.33it/s]\n",
      "100%|██████████| 6/6 [00:02<00:00,  2.35it/s]\n",
      "100%|██████████| 6/6 [00:02<00:00,  2.27it/s]\n",
      "100%|██████████| 6/6 [00:02<00:00,  2.31it/s]\n",
      "100%|██████████| 6/6 [00:02<00:00,  2.34it/s]\n",
      "100%|██████████| 6/6 [00:02<00:00,  2.37it/s]\n",
      "100%|██████████| 6/6 [00:02<00:00,  2.39it/s]\n",
      "100%|██████████| 6/6 [00:02<00:00,  2.29it/s]\n",
      "100%|██████████| 6/6 [00:02<00:00,  2.38it/s]\n",
      "100%|██████████| 6/6 [00:02<00:00,  2.35it/s]\n",
      "100%|██████████| 6/6 [00:02<00:00,  2.37it/s]\n",
      "100%|██████████| 6/6 [00:02<00:00,  2.32it/s]\n",
      "100%|██████████| 6/6 [00:02<00:00,  2.41it/s]\n",
      "100%|██████████| 6/6 [00:02<00:00,  2.40it/s]\n",
      "100%|██████████| 6/6 [00:02<00:00,  2.43it/s]\n",
      "100%|██████████| 6/6 [00:02<00:00,  2.30it/s]\n",
      "100%|██████████| 6/6 [00:02<00:00,  2.38it/s]\n",
      "100%|██████████| 6/6 [00:02<00:00,  2.36it/s]\n",
      "100%|██████████| 6/6 [00:02<00:00,  2.33it/s]\n",
      "100%|██████████| 6/6 [00:02<00:00,  2.30it/s]\n",
      "100%|██████████| 6/6 [00:02<00:00,  2.38it/s]\n",
      "100%|██████████| 6/6 [00:02<00:00,  2.38it/s]\n",
      "100%|██████████| 6/6 [00:03<00:00,  1.70it/s]\n",
      "100%|██████████| 6/6 [00:02<00:00,  2.18it/s]\n",
      "100%|██████████| 6/6 [00:02<00:00,  2.37it/s]\n",
      "100%|██████████| 6/6 [00:02<00:00,  2.39it/s]\n",
      "100%|██████████| 6/6 [00:02<00:00,  2.43it/s]\n",
      "100%|██████████| 6/6 [00:02<00:00,  2.42it/s]\n",
      "100%|██████████| 6/6 [00:02<00:00,  2.29it/s]\n",
      "100%|██████████| 6/6 [00:02<00:00,  2.40it/s]\n",
      "100%|██████████| 6/6 [00:02<00:00,  2.34it/s]\n",
      "100%|██████████| 6/6 [00:02<00:00,  2.34it/s]\n",
      "100%|██████████| 6/6 [00:02<00:00,  2.24it/s]\n",
      "100%|██████████| 6/6 [00:02<00:00,  2.36it/s]\n",
      "100%|██████████| 6/6 [00:02<00:00,  2.32it/s]\n",
      "100%|██████████| 6/6 [00:02<00:00,  2.20it/s]\n",
      "100%|██████████| 6/6 [00:02<00:00,  2.24it/s]\n",
      "100%|██████████| 6/6 [00:02<00:00,  2.37it/s]\n",
      "100%|██████████| 6/6 [00:02<00:00,  2.29it/s]\n",
      "100%|██████████| 6/6 [00:02<00:00,  2.18it/s]\n",
      "100%|██████████| 6/6 [00:02<00:00,  2.26it/s]\n",
      "100%|██████████| 6/6 [00:02<00:00,  2.42it/s]\n",
      "100%|██████████| 6/6 [00:02<00:00,  2.33it/s]\n",
      "100%|██████████| 6/6 [00:02<00:00,  2.16it/s]\n",
      "100%|██████████| 6/6 [00:02<00:00,  2.36it/s]\n",
      "100%|██████████| 6/6 [00:02<00:00,  2.28it/s]\n",
      "100%|██████████| 6/6 [00:02<00:00,  2.22it/s]\n",
      "100%|██████████| 6/6 [00:02<00:00,  2.27it/s]\n",
      "100%|██████████| 6/6 [00:02<00:00,  2.33it/s]\n",
      "100%|██████████| 6/6 [00:02<00:00,  2.33it/s]\n",
      "100%|██████████| 6/6 [00:02<00:00,  2.33it/s]\n",
      "100%|██████████| 6/6 [00:02<00:00,  2.16it/s]\n",
      "100%|██████████| 6/6 [00:02<00:00,  2.30it/s]\n",
      "100%|██████████| 6/6 [00:02<00:00,  2.35it/s]\n",
      "100%|██████████| 6/6 [00:02<00:00,  2.35it/s]\n",
      "100%|██████████| 6/6 [00:02<00:00,  2.19it/s]\n",
      "100%|██████████| 6/6 [00:02<00:00,  2.29it/s]\n",
      "100%|██████████| 6/6 [00:02<00:00,  2.35it/s]\n",
      "100%|██████████| 6/6 [00:02<00:00,  2.33it/s]\n",
      "100%|██████████| 6/6 [00:02<00:00,  2.29it/s]\n",
      "100%|██████████| 6/6 [00:02<00:00,  2.30it/s]\n",
      "100%|██████████| 6/6 [00:02<00:00,  2.35it/s]\n",
      "100%|██████████| 6/6 [00:02<00:00,  2.33it/s]\n",
      "100%|██████████| 6/6 [00:02<00:00,  2.13it/s]\n",
      "100%|██████████| 6/6 [00:02<00:00,  2.29it/s]\n",
      "100%|██████████| 6/6 [00:02<00:00,  2.25it/s]\n",
      "100%|██████████| 6/6 [00:02<00:00,  2.35it/s]\n",
      "100%|██████████| 6/6 [00:02<00:00,  2.28it/s]\n",
      "100%|██████████| 6/6 [00:02<00:00,  2.29it/s]\n",
      "100%|██████████| 6/6 [00:02<00:00,  2.34it/s]\n",
      "100%|██████████| 6/6 [00:02<00:00,  2.25it/s]\n",
      "100%|██████████| 6/6 [00:02<00:00,  2.27it/s]\n",
      "100%|██████████| 6/6 [00:02<00:00,  2.22it/s]\n",
      "100%|██████████| 6/6 [00:02<00:00,  2.35it/s]\n",
      "100%|██████████| 6/6 [00:02<00:00,  2.29it/s]\n",
      "100%|██████████| 6/6 [00:02<00:00,  2.32it/s]\n",
      "100%|██████████| 6/6 [00:02<00:00,  2.39it/s]\n",
      "100%|██████████| 6/6 [00:02<00:00,  2.32it/s]\n",
      "100%|██████████| 6/6 [00:02<00:00,  2.37it/s]\n",
      "100%|██████████| 6/6 [00:02<00:00,  2.39it/s]\n",
      "100%|██████████| 6/6 [00:02<00:00,  2.36it/s]\n",
      "100%|██████████| 6/6 [00:02<00:00,  2.35it/s]\n",
      "100%|██████████| 6/6 [00:02<00:00,  2.17it/s]\n",
      "100%|██████████| 6/6 [00:02<00:00,  2.21it/s]\n",
      "100%|██████████| 6/6 [00:02<00:00,  2.21it/s]\n",
      "100%|██████████| 6/6 [00:02<00:00,  2.32it/s]\n",
      "100%|██████████| 6/6 [00:02<00:00,  2.25it/s]\n",
      "100%|██████████| 6/6 [00:02<00:00,  2.34it/s]\n",
      "100%|██████████| 6/6 [00:09<00:00,  1.61s/it]\n",
      "100%|██████████| 6/6 [00:03<00:00,  1.97it/s]\n",
      "100%|██████████| 6/6 [00:02<00:00,  2.28it/s]\n",
      "100%|██████████| 6/6 [00:02<00:00,  2.07it/s]\n",
      "100%|██████████| 6/6 [00:02<00:00,  2.20it/s]\n",
      "100%|██████████| 6/6 [00:02<00:00,  2.27it/s]\n",
      "100%|██████████| 6/6 [00:02<00:00,  2.31it/s]\n",
      "100%|██████████| 6/6 [00:02<00:00,  2.02it/s]\n",
      "100%|██████████| 6/6 [00:02<00:00,  2.40it/s]\n",
      " 33%|███▎      | 2/6 [00:01<00:02,  1.67it/s]\n"
     ]
    },
    {
     "ename": "KeyboardInterrupt",
     "evalue": "",
     "output_type": "error",
     "traceback": [
      "\u001b[1;31m---------------------------------------------------------------------------\u001b[0m",
      "\u001b[1;31mKeyboardInterrupt\u001b[0m                         Traceback (most recent call last)",
      "Cell \u001b[1;32mIn[14], line 33\u001b[0m\n\u001b[0;32m     31\u001b[0m \u001b[38;5;66;03m# Backward and optimize\u001b[39;00m\n\u001b[0;32m     32\u001b[0m optimizer\u001b[38;5;241m.\u001b[39mzero_grad()\n\u001b[1;32m---> 33\u001b[0m \u001b[43mloss\u001b[49m\u001b[38;5;241;43m.\u001b[39;49m\u001b[43mbackward\u001b[49m\u001b[43m(\u001b[49m\u001b[43m)\u001b[49m\n\u001b[0;32m     34\u001b[0m optimizer\u001b[38;5;241m.\u001b[39mstep()\n\u001b[0;32m     36\u001b[0m train_loss \u001b[38;5;241m+\u001b[39m\u001b[38;5;241m=\u001b[39m loss\u001b[38;5;241m.\u001b[39mitem() \u001b[38;5;241m*\u001b[39m images\u001b[38;5;241m.\u001b[39msize(\u001b[38;5;241m0\u001b[39m)\n",
      "File \u001b[1;32mc:\\Users\\laish\\miniconda3\\envs\\dpln310\\lib\\site-packages\\torch\\_tensor.py:581\u001b[0m, in \u001b[0;36mTensor.backward\u001b[1;34m(self, gradient, retain_graph, create_graph, inputs)\u001b[0m\n\u001b[0;32m    571\u001b[0m \u001b[38;5;28;01mif\u001b[39;00m has_torch_function_unary(\u001b[38;5;28mself\u001b[39m):\n\u001b[0;32m    572\u001b[0m     \u001b[38;5;28;01mreturn\u001b[39;00m handle_torch_function(\n\u001b[0;32m    573\u001b[0m         Tensor\u001b[38;5;241m.\u001b[39mbackward,\n\u001b[0;32m    574\u001b[0m         (\u001b[38;5;28mself\u001b[39m,),\n\u001b[1;32m   (...)\u001b[0m\n\u001b[0;32m    579\u001b[0m         inputs\u001b[38;5;241m=\u001b[39minputs,\n\u001b[0;32m    580\u001b[0m     )\n\u001b[1;32m--> 581\u001b[0m \u001b[43mtorch\u001b[49m\u001b[38;5;241;43m.\u001b[39;49m\u001b[43mautograd\u001b[49m\u001b[38;5;241;43m.\u001b[39;49m\u001b[43mbackward\u001b[49m\u001b[43m(\u001b[49m\n\u001b[0;32m    582\u001b[0m \u001b[43m    \u001b[49m\u001b[38;5;28;43mself\u001b[39;49m\u001b[43m,\u001b[49m\u001b[43m \u001b[49m\u001b[43mgradient\u001b[49m\u001b[43m,\u001b[49m\u001b[43m \u001b[49m\u001b[43mretain_graph\u001b[49m\u001b[43m,\u001b[49m\u001b[43m \u001b[49m\u001b[43mcreate_graph\u001b[49m\u001b[43m,\u001b[49m\u001b[43m \u001b[49m\u001b[43minputs\u001b[49m\u001b[38;5;241;43m=\u001b[39;49m\u001b[43minputs\u001b[49m\n\u001b[0;32m    583\u001b[0m \u001b[43m\u001b[49m\u001b[43m)\u001b[49m\n",
      "File \u001b[1;32mc:\\Users\\laish\\miniconda3\\envs\\dpln310\\lib\\site-packages\\torch\\autograd\\__init__.py:347\u001b[0m, in \u001b[0;36mbackward\u001b[1;34m(tensors, grad_tensors, retain_graph, create_graph, grad_variables, inputs)\u001b[0m\n\u001b[0;32m    342\u001b[0m     retain_graph \u001b[38;5;241m=\u001b[39m create_graph\n\u001b[0;32m    344\u001b[0m \u001b[38;5;66;03m# The reason we repeat the same comment below is that\u001b[39;00m\n\u001b[0;32m    345\u001b[0m \u001b[38;5;66;03m# some Python versions print out the first line of a multi-line function\u001b[39;00m\n\u001b[0;32m    346\u001b[0m \u001b[38;5;66;03m# calls in the traceback and some print out the last line\u001b[39;00m\n\u001b[1;32m--> 347\u001b[0m \u001b[43m_engine_run_backward\u001b[49m\u001b[43m(\u001b[49m\n\u001b[0;32m    348\u001b[0m \u001b[43m    \u001b[49m\u001b[43mtensors\u001b[49m\u001b[43m,\u001b[49m\n\u001b[0;32m    349\u001b[0m \u001b[43m    \u001b[49m\u001b[43mgrad_tensors_\u001b[49m\u001b[43m,\u001b[49m\n\u001b[0;32m    350\u001b[0m \u001b[43m    \u001b[49m\u001b[43mretain_graph\u001b[49m\u001b[43m,\u001b[49m\n\u001b[0;32m    351\u001b[0m \u001b[43m    \u001b[49m\u001b[43mcreate_graph\u001b[49m\u001b[43m,\u001b[49m\n\u001b[0;32m    352\u001b[0m \u001b[43m    \u001b[49m\u001b[43minputs\u001b[49m\u001b[43m,\u001b[49m\n\u001b[0;32m    353\u001b[0m \u001b[43m    \u001b[49m\u001b[43mallow_unreachable\u001b[49m\u001b[38;5;241;43m=\u001b[39;49m\u001b[38;5;28;43;01mTrue\u001b[39;49;00m\u001b[43m,\u001b[49m\n\u001b[0;32m    354\u001b[0m \u001b[43m    \u001b[49m\u001b[43maccumulate_grad\u001b[49m\u001b[38;5;241;43m=\u001b[39;49m\u001b[38;5;28;43;01mTrue\u001b[39;49;00m\u001b[43m,\u001b[49m\n\u001b[0;32m    355\u001b[0m \u001b[43m\u001b[49m\u001b[43m)\u001b[49m\n",
      "File \u001b[1;32mc:\\Users\\laish\\miniconda3\\envs\\dpln310\\lib\\site-packages\\torch\\autograd\\graph.py:825\u001b[0m, in \u001b[0;36m_engine_run_backward\u001b[1;34m(t_outputs, *args, **kwargs)\u001b[0m\n\u001b[0;32m    823\u001b[0m     unregister_hooks \u001b[38;5;241m=\u001b[39m _register_logging_hooks_on_whole_graph(t_outputs)\n\u001b[0;32m    824\u001b[0m \u001b[38;5;28;01mtry\u001b[39;00m:\n\u001b[1;32m--> 825\u001b[0m     \u001b[38;5;28;01mreturn\u001b[39;00m Variable\u001b[38;5;241m.\u001b[39m_execution_engine\u001b[38;5;241m.\u001b[39mrun_backward(  \u001b[38;5;66;03m# Calls into the C++ engine to run the backward pass\u001b[39;00m\n\u001b[0;32m    826\u001b[0m         t_outputs, \u001b[38;5;241m*\u001b[39margs, \u001b[38;5;241m*\u001b[39m\u001b[38;5;241m*\u001b[39mkwargs\n\u001b[0;32m    827\u001b[0m     )  \u001b[38;5;66;03m# Calls into the C++ engine to run the backward pass\u001b[39;00m\n\u001b[0;32m    828\u001b[0m \u001b[38;5;28;01mfinally\u001b[39;00m:\n\u001b[0;32m    829\u001b[0m     \u001b[38;5;28;01mif\u001b[39;00m attach_logging_hooks:\n",
      "\u001b[1;31mKeyboardInterrupt\u001b[0m: "
     ]
    }
   ],
   "source": [
    "val_loss_best = 100000\n",
    "proceed_once = True  # Add a flag\n",
    "\n",
    "for epoch in range(my_parameters['n_epochs']):\n",
    "    model.train()\n",
    "    train_loss = 0.0\n",
    "\n",
    "    for images, labels in tqdm(train_loader):\n",
    "        images = images.to(device)\n",
    "        labels = labels.to(device)\n",
    "        \n",
    "        # Forward pass\n",
    "        outputs = model(images)\n",
    "\n",
    "        # Checking the dimension of the outputs and labels\n",
    "        if outputs.dim() == 4 and outputs.size(1) == 1:\n",
    "            outputs = outputs.squeeze(1)\n",
    "        \n",
    "        # Only proceed once:\n",
    "        if proceed_once:\n",
    "            print(f'outputs.size(): {outputs.size()}, labels.size(): {labels.size()}')\n",
    "            print(f'outputs.min: {outputs.min()}, outputs.max: {outputs.max()}')\n",
    "            print(f'images.min: {images.min()}, images.max: {images.max()}')\n",
    "            print(f'labels.min: {labels.min()}, labels.max: {labels.max()}')\n",
    "            print(f'count of label 0: {(labels == 0).sum()}, count of label 1:{(labels == 1).sum()}')\n",
    "            print('')\n",
    "            proceed_once = False  # Set the flag to False after proceeding once\n",
    "        \n",
    "        loss = criterion(outputs, labels)\n",
    "        \n",
    "        # Backward and optimize\n",
    "        optimizer.zero_grad()\n",
    "        loss.backward()\n",
    "        optimizer.step()\n",
    "        \n",
    "        train_loss += loss.item() * images.size(0)\n",
    "    \n",
    "    train_loss_mean = train_loss / len(train_loader.dataset)\n",
    "\n",
    "\n",
    "    model.eval()\n",
    "    val_loss = 0\n",
    "\n",
    "    with torch.no_grad():\n",
    "        for images, labels in val_loader:\n",
    "            images = images.to(device)\n",
    "            labels = labels.to(device)\n",
    "            \n",
    "            outputs = model(images)\n",
    "            if outputs.dim() == 4 and outputs.size(1) == 1:\n",
    "                outputs = outputs.squeeze(1)\n",
    "            loss = criterion(outputs, labels)\n",
    "            \n",
    "            val_loss += loss.item() * images.size(0)\n",
    "\n",
    "    val_loss_mean = val_loss / len(val_loader.dataset)\n",
    "    current_lr = optimizer.param_groups[0]['lr']\n",
    "    dict = {\n",
    "        'train_loss': train_loss_mean,\n",
    "        'epoch': epoch,\n",
    "        'val_loss': val_loss_mean,\n",
    "        'learning_rate': current_lr\n",
    "    }\n",
    "    mylogger.log(dict)\n",
    "\n",
    "    # Step the scheduler\n",
    "    scheduler.step(val_loss_mean)\n",
    "\n",
    "    if val_loss_mean < val_loss_best:\n",
    "        val_loss_best = val_loss_mean\n",
    "        torch.save(model.state_dict(), f\"model_{my_parameters['model']}_{my_parameters['wandb']}.pth\")\n",
    "        print(f'Model saved at epoch {epoch:.3f}, val_loss: {val_loss_mean:.3f}')"
   ]
  },
  {
   "cell_type": "code",
   "execution_count": 15,
   "metadata": {},
   "outputs": [
    {
     "data": {
      "application/vnd.jupyter.widget-view+json": {
       "model_id": "f801f3403cf149d3910db7433471f550",
       "version_major": 2,
       "version_minor": 0
      },
      "text/plain": [
       "VBox(children=(Label(value='0.004 MB of 0.004 MB uploaded\\r'), FloatProgress(value=1.0, max=1.0)))"
      ]
     },
     "metadata": {},
     "output_type": "display_data"
    },
    {
     "data": {
      "text/html": [
       "\n",
       "    <style>\n",
       "        .wandb-row {\n",
       "            display: flex;\n",
       "            flex-direction: row;\n",
       "            flex-wrap: wrap;\n",
       "            justify-content: flex-start;\n",
       "            width: 100%;\n",
       "        }\n",
       "        .wandb-col {\n",
       "            display: flex;\n",
       "            flex-direction: column;\n",
       "            flex-basis: 100%;\n",
       "            flex: 1;\n",
       "            padding: 10px;\n",
       "        }\n",
       "    </style>\n",
       "<div class=\"wandb-row\"><div class=\"wandb-col\"><h3>Run history:</h3><br/><table class=\"wandb\"><tr><td>learning_rate</td><td>██▃▃▃▁▁▁▁▁▁▁▁▁▁▁▁▁▁▁▁▁▁▁▁▁▁▁▁▁▁▁▁▁▁▁▁▁▁▁</td></tr><tr><td>train_loss</td><td>▄█▆▅▅▃▄▃▄▃▆▃▆▄▆▄▅▆▃▅█▆▄▄▅▄▄▇▃▅▅▁▃▁▂▆▂▃▄▂</td></tr><tr><td>val_loss</td><td>█▃▁▁▁▁▁▁▁▁▁▁▁▁▁▁▁▁▁▁▁▁▁▁▁▁▁▁▁▁▁▁▁▁▁▁▁▁▁▁</td></tr></table><br/></div><div class=\"wandb-col\"><h3>Run summary:</h3><br/><table class=\"wandb\"><tr><td>learning_rate</td><td>0.0</td></tr><tr><td>train_loss</td><td>0.35818</td></tr><tr><td>val_loss</td><td>0.12396</td></tr></table><br/></div></div>"
      ],
      "text/plain": [
       "<IPython.core.display.HTML object>"
      ]
     },
     "metadata": {},
     "output_type": "display_data"
    },
    {
     "data": {
      "text/html": [
       " View run <strong style=\"color:#cdcd00\">34.diceloss_weight_up</strong> at: <a href='https://wandb.ai/laishixuan123-china-agricultural-university/U-Net/runs/bdx57kl8' target=\"_blank\">https://wandb.ai/laishixuan123-china-agricultural-university/U-Net/runs/bdx57kl8</a><br/> View project at: <a href='https://wandb.ai/laishixuan123-china-agricultural-university/U-Net' target=\"_blank\">https://wandb.ai/laishixuan123-china-agricultural-university/U-Net</a><br/>Synced 5 W&B file(s), 0 media file(s), 0 artifact file(s) and 0 other file(s)"
      ],
      "text/plain": [
       "<IPython.core.display.HTML object>"
      ]
     },
     "metadata": {},
     "output_type": "display_data"
    },
    {
     "data": {
      "text/html": [
       "Find logs at: <code>.\\wandb\\run-20241214_191928-bdx57kl8\\logs</code>"
      ],
      "text/plain": [
       "<IPython.core.display.HTML object>"
      ]
     },
     "metadata": {},
     "output_type": "display_data"
    }
   ],
   "source": [
    "wandb.finish()"
   ]
  },
  {
   "cell_type": "markdown",
   "metadata": {},
   "source": [
    "# Test"
   ]
  },
  {
   "cell_type": "markdown",
   "metadata": {},
   "source": [
    "**Code below do not been used anymore!**"
   ]
  },
  {
   "cell_type": "code",
   "execution_count": null,
   "metadata": {},
   "outputs": [],
   "source": [
    "def test_model(model, test_loader, test_names, device='cuda'):\n",
    "    model.eval()  # Set the model to evaluation mode\n",
    "    with torch.no_grad():  # Turn off gradients to speed up this part\n",
    "        loss = []\n",
    "        dice = []\n",
    "        soft_dice = []\n",
    "        bce_loss = []\n",
    "        iou = []\n",
    "        f1_score = []\n",
    "\n",
    "        proceed_once = True  # Add a flag\n",
    "\n",
    "        for i, (images, labels) in enumerate(test_loader):\n",
    "            images = images.to(device)\n",
    "            labels = labels.to(device)\n",
    "\n",
    "            # Forward pass\n",
    "            outputs = model(images)\n",
    "\n",
    "            # Checking the dimension of the outputs and labels\n",
    "            if outputs.dim() == 4 and outputs.size(1) == 1:\n",
    "                outputs = outputs.squeeze(1)\n",
    "\n",
    "            # Only proceed once:\n",
    "            if proceed_once:\n",
    "                print(f'outputs.size(): {outputs.size()}, labels.size(): {labels.size()}')\n",
    "                print(f'outputs.min: {outputs.min()}, outputs.max: {outputs.max()}')\n",
    "                print(f'labels.min: {labels.min()}, labels.max: {labels.max()}')\n",
    "                print(f'count of label 0: {(labels == 0).sum()}, count of label 1:{(labels == 1).sum()}')\n",
    "                print('')\n",
    "                proceed_once = False\n",
    "\n",
    "            # Calculate loss indexes \n",
    "            # 1.bce and dice loss, because the criterion function is used in train process, so it has a sigmoid function inside, should be put before sigmoid\n",
    "            loss.append(criterion(outputs, labels).item())\n",
    "\n",
    "            # 2.Calculate dice, soft_dice, bce_loss \n",
    "            outputs = torch.sigmoid(outputs)  # Apply sigmoid to get values between 0 and 1\n",
    "\n",
    "            dice.append(evaluate.dice_coefficient(outputs, labels))\n",
    "            soft_dice.append(evaluate.soft_dice_coefficient(labels, outputs))\n",
    "            calculate_bce = nn.BCELoss()\n",
    "            bce_loss.append(calculate_bce(outputs, labels))\n",
    "            iou.append(evaluate.iou(pred=outputs, target=labels, n_classes=2))\n",
    "            f1_score.append(evaluate.f1_score(pred=outputs, gt=labels))\n",
    "\n",
    "            # Save output images\n",
    "            outputs = outputs > 0.5  # Threshold the probabilities to create a binary mask\n",
    "            for j, img in enumerate(outputs):\n",
    "                save_path = f'/root/Soil-Column-Procedures/data/version1/inference/1/'\n",
    "                save_path = save_path + test_names[j]\n",
    "                output_np = img.cpu().numpy().astype(np.uint8) * 255  # Convert to numpy array and scale to 0-255\n",
    "                cv2.imwrite(save_path, output_np)\n",
    "\n",
    "            print(f'Processed batch {i+1}/{len(test_loader)}')\n",
    "        \n",
    "        loss_avg = sum(loss) / len(test_loader)\n",
    "        dice_avg = sum(dice) / len(test_loader)\n",
    "        soft_dice_avg = sum(soft_dice) / len(test_loader)\n",
    "        bce_loss_avg = sum(bce_loss) / len(test_loader)\n",
    "        iou_avg = sum(iou) / len(test_loader)\n",
    "        f1_score_avg = sum(f1_score) / len(test_loader)\n",
    "        print(f'Loss: {loss_avg:.3f}, Dice: {dice_avg:.3f}, soft_dice: {soft_dice_avg:.3f}, BCE Loss: {bce_loss_avg:.3f}, IOU: {iou_avg:.3f}, f1_score: {f1_score_avg:.3f}')\n"
   ]
  }
 ],
 "metadata": {
  "kernelspec": {
   "display_name": "dpln310",
   "language": "python",
   "name": "python3"
  },
  "language_info": {
   "codemirror_mode": {
    "name": "ipython",
    "version": 3
   },
   "file_extension": ".py",
   "mimetype": "text/x-python",
   "name": "python",
   "nbconvert_exporter": "python",
   "pygments_lexer": "ipython3",
   "version": "3.10.15"
  }
 },
 "nbformat": 4,
 "nbformat_minor": 2
}
