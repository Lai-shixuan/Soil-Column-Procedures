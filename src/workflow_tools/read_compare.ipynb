{
 "cells": [
  {
   "cell_type": "markdown",
   "metadata": {},
   "source": [
    "# Read and compare"
   ]
  },
  {
   "cell_type": "code",
   "execution_count": null,
   "metadata": {},
   "outputs": [],
   "source": [
    "from src.API_functions import file_compare as fc\n",
    "\n",
    "%matplotlib qt\n",
    "\n",
    "db = fc.ImageDatabase()\n",
    "# image_processor.add_result('pre_processed', tpi.user_threshold(image_processor.image, 160))\n",
    "zoom = fc.ZoomRegion(350, 450, 100, 200)\n",
    "db.add_additional_folder('e:/3.Experimental_Data/DL_Data_raw/tests/', 'tests_set')\n",
    "db.add_additional_folder('e:/3.Experimental_Data/DL_Data_raw/tests_labels/', 'tests_label')\n",
    "db.add_additional_folder('e:/3.Experimental_Data/DL_Data_raw/tests_inference2/', 'tests_inference')\n",
    "image_processor = db.get_image_processor('002_ou_DongYing_13636_roi_selected.png')\n",
    "image_processor.show_images('tests_set', 'tests_label', 'tests_inference', zoom_region=zoom)"
   ]
  }
 ],
 "metadata": {
  "kernelspec": {
   "display_name": "dpln39",
   "language": "python",
   "name": "python3"
  },
  "language_info": {
   "codemirror_mode": {
    "name": "ipython",
    "version": 3
   },
   "file_extension": ".py",
   "mimetype": "text/x-python",
   "name": "python",
   "nbconvert_exporter": "python",
   "pygments_lexer": "ipython3",
   "version": "3.9.18"
  }
 },
 "nbformat": 4,
 "nbformat_minor": 2
}
