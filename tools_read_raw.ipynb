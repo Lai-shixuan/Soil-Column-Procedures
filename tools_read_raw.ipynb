{
 "cells": [
  {
   "cell_type": "code",
   "execution_count": 1,
   "metadata": {},
   "outputs": [],
   "source": [
    "import numpy as np\n",
    "import tifffile"
   ]
  },
  {
   "cell_type": "code",
   "execution_count": 24,
   "metadata": {},
   "outputs": [],
   "source": [
    "file_path = 'f:/FdkRecon-ushort-2300x2300x11728.raw'\n",
    "\n",
    "# Define the dimensions and datatype\n",
    "width, height, depth = 2300, 2300, 11728  # Dimensions of the image\n",
    "dtype = np.dtype('<u2')  # Data type of the image\n",
    "\n",
    "# Calculate the total number of data points\n",
    "num_voxels = width * height * depth\n",
    "\n",
    "# Memory-map the file\n",
    "arr = np.memmap(file_path, dtype=dtype, mode='r', shape=(depth, width, height))\n",
    "\n",
    "# Access a small portion of the array\n",
    "small_part = arr[6000:6100, :, :]\n"
   ]
  },
  {
   "cell_type": "code",
   "execution_count": 26,
   "metadata": {},
   "outputs": [],
   "source": [
    "data2 = np.zeros((100, 2300, 2300), dtype=np.uint16)\n",
    "for num in range(100):\n",
    "    data2[num] = small_part[num]"
   ]
  },
  {
   "cell_type": "code",
   "execution_count": 27,
   "metadata": {},
   "outputs": [],
   "source": [
    "tiff_path = 'f:/test2.tiff'\n",
    "tifffile.imwrite(tiff_path, data2)"
   ]
  }
 ],
 "metadata": {
  "kernelspec": {
   "display_name": "dpln39",
   "language": "python",
   "name": "python3"
  },
  "language_info": {
   "codemirror_mode": {
    "name": "ipython",
    "version": 3
   },
   "file_extension": ".py",
   "mimetype": "text/x-python",
   "name": "python",
   "nbconvert_exporter": "python",
   "pygments_lexer": "ipython3",
   "version": "3.9.18"
  }
 },
 "nbformat": 4,
 "nbformat_minor": 2
}
