{
 "cells": [
  {
   "cell_type": "code",
   "execution_count": 27,
   "metadata": {},
   "outputs": [],
   "source": [
    "import numpy as np\n",
    "import matplotlib.pyplot as plt\n",
    "import tifffile"
   ]
  },
  {
   "cell_type": "code",
   "execution_count": 2,
   "metadata": {},
   "outputs": [],
   "source": [
    "file_path = 'g:/[CT][2024-06-14 14-11-04][-3局部]_Panel0.25s-200.0kV400.0uAraw_Recon/FdkRecon-ushort-1800x1800x7860.raw'\n",
    "\n",
    "# Define the dimensions and datatype\n",
    "width, height, depth = 1800, 1800, 7860\n",
    "dtype = np.uint16  # Data type of the image\n",
    "\n",
    "# Calculate the total number of data points\n",
    "num_voxels = width * height * depth\n",
    "\n",
    "with open(file_path, 'rb') as file:\n",
    "    data = np.fromfile(file, dtype=dtype, count=num_voxels)\n"
   ]
  },
  {
   "cell_type": "code",
   "execution_count": 3,
   "metadata": {},
   "outputs": [],
   "source": [
    "data = data.reshape((depth, height, width))\n"
   ]
  },
  {
   "cell_type": "code",
   "execution_count": 25,
   "metadata": {},
   "outputs": [],
   "source": [
    "# plt.figure(figsize=(50, 20))\n",
    "\n",
    "data2 = np.zeros((50, 1800, 1800), dtype=np.uint16)\n",
    "for num in range(50):\n",
    "    data2[num] = data[num]"
   ]
  },
  {
   "cell_type": "code",
   "execution_count": 28,
   "metadata": {},
   "outputs": [],
   "source": [
    "tiff_path = 'g:/test.tiff'\n",
    "tifffile.imwrite(tiff_path, data2, compression='lzw')"
   ]
  }
 ],
 "metadata": {
  "kernelspec": {
   "display_name": "dpln39",
   "language": "python",
   "name": "python3"
  },
  "language_info": {
   "codemirror_mode": {
    "name": "ipython",
    "version": 3
   },
   "file_extension": ".py",
   "mimetype": "text/x-python",
   "name": "python",
   "nbconvert_exporter": "python",
   "pygments_lexer": "ipython3",
   "version": "3.9.18"
  }
 },
 "nbformat": 4,
 "nbformat_minor": 2
}
