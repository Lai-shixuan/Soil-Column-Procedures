{
 "cells": [
  {
   "cell_type": "markdown",
   "metadata": {},
   "source": [
    "# Convert to grayscale"
   ]
  },
  {
   "cell_type": "code",
   "execution_count": null,
   "metadata": {},
   "outputs": [],
   "source": [
    "from API_functions import file_batch as fb\n",
    "\n",
    "# read_path = 'e:/3.Experimental_Data/DL_Data_raw/uploads/file_5_test\\defaultannot/'\n",
    "# save_path = 'e:/3.Experimental_Data/DL_Data_raw/uploads/file_5_test\\defaultannott/'\n",
    "read_path = '//wsl.localhost/Ubuntu/home/shixuan/DL_Algorithms/nnunet/nnUNet_test/output/'\n",
    "save_path = '//wsl.localhost/Ubuntu/home/shixuan/DL_Algorithms/nnunet/nnUNet_test/output_visual/'\n",
    "\n",
    "fb.binary_to_grayscale(read_path=read_path, output_path=save_path, format='png', image_names=None)"
   ]
  },
  {
   "cell_type": "markdown",
   "metadata": {},
   "source": [
    "# Threshold"
   ]
  },
  {
   "cell_type": "code",
   "execution_count": 1,
   "metadata": {},
   "outputs": [
    {
     "name": "stdout",
     "output_type": "stream",
     "text": [
      "10 images have been found in e:/3.Experimental_Data/DL_Data_raw/tests/\n",
      "The first 3 images are:\n",
      "e:/3.Experimental_Data/DL_Data_raw/tests\\002_ou_DongYing_13635_roi_selected.png\n",
      "e:/3.Experimental_Data/DL_Data_raw/tests\\002_ou_DongYing_13636_roi_selected.png\n",
      "e:/3.Experimental_Data/DL_Data_raw/tests\\002_ou_DongYing_13637_roi_selected.png\n",
      "\u001b[1;3mGet names completely!\u001b[0m\n"
     ]
    },
    {
     "name": "stderr",
     "output_type": "stream",
     "text": [
      "100%|██████████| 10/10 [00:00<00:00, 95.54it/s]"
     ]
    },
    {
     "name": "stdout",
     "output_type": "stream",
     "text": [
      "The first 3 images are:\n",
      "e:/3.Experimental_Data/DL_Data_raw/tests_labels/002_ou_DongYing_13635_roi_selected.png\n",
      "e:/3.Experimental_Data/DL_Data_raw/tests_labels/002_ou_DongYing_13636_roi_selected.png\n",
      "e:/3.Experimental_Data/DL_Data_raw/tests_labels/002_ou_DongYing_13637_roi_selected.png\n",
      "\u001b[1;3mImage procession completely!\u001b[0m\n"
     ]
    },
    {
     "name": "stderr",
     "output_type": "stream",
     "text": [
      "\n"
     ]
    }
   ],
   "source": [
    "from API_functions import file_batch as fb\n",
    "read_path = 'e:/3.Experimental_Data/DL_Data_raw/tests/'\n",
    "save_path = 'e:/3.Experimental_Data/DL_Data_raw/tests_labels/'\n",
    "\n",
    "fb.image_process(read_path, save_path)"
   ]
  },
  {
   "cell_type": "markdown",
   "metadata": {},
   "source": [
    "# Read and compare"
   ]
  },
  {
   "cell_type": "code",
   "execution_count": 7,
   "metadata": {},
   "outputs": [],
   "source": [
    "from API_functions import file_compare as fc\n",
    "\n",
    "%matplotlib qt\n",
    "\n",
    "db = fc.ImageDatabase()\n",
    "# image_processor.add_result('pre_processed', tpi.user_threshold(image_processor.image, 160))\n",
    "zoom = fc.ZoomRegion(350, 450, 100, 200)\n",
    "db.add_additional_folder('e:/3.Experimental_Data/DL_Data_raw/tests/', 'tests_set')\n",
    "db.add_additional_folder('e:/3.Experimental_Data/DL_Data_raw/tests_labels/', 'tests_label')\n",
    "db.add_additional_folder('e:/3.Experimental_Data/DL_Data_raw/tests_inference2/', 'tests_inference')\n",
    "image_processor = db.get_image_processor('002_ou_DongYing_13636_roi_selected.png')\n",
    "image_processor.show_images('tests_set', 'tests_label', 'tests_inference', zoom_region=zoom)"
   ]
  }
 ],
 "metadata": {
  "kernelspec": {
   "display_name": "dpln39",
   "language": "python",
   "name": "python3"
  },
  "language_info": {
   "codemirror_mode": {
    "name": "ipython",
    "version": 3
   },
   "file_extension": ".py",
   "mimetype": "text/x-python",
   "name": "python",
   "nbconvert_exporter": "python",
   "pygments_lexer": "ipython3",
   "version": "3.9.18"
  }
 },
 "nbformat": 4,
 "nbformat_minor": 2
}
