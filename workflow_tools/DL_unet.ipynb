{
 "cells": [
  {
   "cell_type": "markdown",
   "metadata": {},
   "source": [
    "# Import"
   ]
  },
  {
   "cell_type": "code",
   "execution_count": 1,
   "metadata": {},
   "outputs": [],
   "source": [
    "import matplotlib.pyplot as plt\n",
    "from tqdm import tqdm\n",
    "import cv2\n",
    "\n",
    "import torch\n",
    "from torch.utils.data import DataLoader\n",
    "from torchvision.transforms import v2\n",
    "import torch.nn as nn\n",
    "from sklearn.model_selection import KFold, train_test_split\n",
    "\n",
    "import segmentation_models_pytorch as smp\n",
    "import wandb"
   ]
  },
  {
   "cell_type": "code",
   "execution_count": 2,
   "metadata": {},
   "outputs": [],
   "source": [
    "import sys\n",
    "sys.path.insert(0, \"c:/Users/laish/1_Codes/Image_processing_toolchain\")\n",
    "\n",
    "from API_functions.DL import load_data, log, seed\n",
    "from API_functions import file_batch as fb"
   ]
  },
  {
   "cell_type": "markdown",
   "metadata": {},
   "source": [
    "# Hyperparameter and log"
   ]
  },
  {
   "cell_type": "code",
   "execution_count": 3,
   "metadata": {},
   "outputs": [],
   "source": [
    "my_parameters = {\n",
    "    'seed': 402,\n",
    "\n",
    "    'Kfold': None,\n",
    "    'ratio': 0.2,\n",
    "\n",
    "    'model': '???',\n",
    "    'optimizer': 'adam',\n",
    "    'learning_rate':  0.001,\n",
    "    'batch_size': 32,\n",
    "    'loss_function': 'cross_entropy',\n",
    "\n",
    "    'n_epochs': 1000,\n",
    "    'patience': 50,\n",
    "}\n",
    "\n",
    "device = 'cuda'\n",
    "mylogger = log.Logger('all')\n",
    "\n",
    "seed.stablize_seed(my_parameters['seed'])"
   ]
  },
  {
   "cell_type": "code",
   "execution_count": 4,
   "metadata": {},
   "outputs": [
    {
     "name": "stderr",
     "output_type": "stream",
     "text": [
      "Failed to detect the name of this notebook, you can set it manually with the WANDB_NOTEBOOK_NAME environment variable to enable code saving.\n",
      "\u001b[34m\u001b[1mwandb\u001b[0m: Currently logged in as: \u001b[33mlaishixuan123\u001b[0m (\u001b[33mlaishixuan123-china-agricultural-university\u001b[0m). Use \u001b[1m`wandb login --relogin`\u001b[0m to force relogin\n"
     ]
    },
    {
     "data": {
      "application/vnd.jupyter.widget-view+json": {
       "model_id": "267564311747483898e2151c0ff0fc73",
       "version_major": 2,
       "version_minor": 0
      },
      "text/plain": [
       "VBox(children=(Label(value='Waiting for wandb.init()...\\r'), FloatProgress(value=0.011111111111111112, max=1.0…"
      ]
     },
     "metadata": {},
     "output_type": "display_data"
    },
    {
     "data": {
      "text/html": [
       "wandb version 0.18.7 is available!  To upgrade, please run:\n",
       " $ pip install wandb --upgrade"
      ],
      "text/plain": [
       "<IPython.core.display.HTML object>"
      ]
     },
     "metadata": {},
     "output_type": "display_data"
    },
    {
     "data": {
      "text/html": [
       "Tracking run with wandb version 0.17.4"
      ],
      "text/plain": [
       "<IPython.core.display.HTML object>"
      ]
     },
     "metadata": {},
     "output_type": "display_data"
    },
    {
     "data": {
      "text/html": [
       "Run data is saved locally in <code>c:\\Users\\laish\\1_Codes\\Image_processing_toolchain\\workflow_tools\\wandb\\run-20241122_091908-sg6h3p4a</code>"
      ],
      "text/plain": [
       "<IPython.core.display.HTML object>"
      ]
     },
     "metadata": {},
     "output_type": "display_data"
    },
    {
     "data": {
      "text/html": [
       "Syncing run <strong><a href='https://wandb.ai/laishixuan123-china-agricultural-university/U-Net/runs/sg6h3p4a' target=\"_blank\">5.what???</a></strong> to <a href='https://wandb.ai/laishixuan123-china-agricultural-university/U-Net' target=\"_blank\">Weights & Biases</a> (<a href='https://wandb.me/run' target=\"_blank\">docs</a>)<br/>"
      ],
      "text/plain": [
       "<IPython.core.display.HTML object>"
      ]
     },
     "metadata": {},
     "output_type": "display_data"
    },
    {
     "data": {
      "text/html": [
       " View project at <a href='https://wandb.ai/laishixuan123-china-agricultural-university/U-Net' target=\"_blank\">https://wandb.ai/laishixuan123-china-agricultural-university/U-Net</a>"
      ],
      "text/plain": [
       "<IPython.core.display.HTML object>"
      ]
     },
     "metadata": {},
     "output_type": "display_data"
    },
    {
     "data": {
      "text/html": [
       " View run at <a href='https://wandb.ai/laishixuan123-china-agricultural-university/U-Net/runs/sg6h3p4a' target=\"_blank\">https://wandb.ai/laishixuan123-china-agricultural-university/U-Net/runs/sg6h3p4a</a>"
      ],
      "text/plain": [
       "<IPython.core.display.HTML object>"
      ]
     },
     "metadata": {},
     "output_type": "display_data"
    },
    {
     "data": {
      "text/html": [
       "<button onClick=\"this.nextSibling.style.display='block';this.style.display='none';\">Display W&B run</button><iframe src='https://wandb.ai/laishixuan123-china-agricultural-university/U-Net/runs/sg6h3p4a?jupyter=true' style='border:none;width:100%;height:420px;display:none;'></iframe>"
      ],
      "text/plain": [
       "<wandb.sdk.wandb_run.Run at 0x1d630198d90>"
      ]
     },
     "execution_count": 4,
     "metadata": {},
     "output_type": "execute_result"
    }
   ],
   "source": [
    "wandb.init(\n",
    "    project=\"U-Net\",\n",
    "    name='5.what???',\n",
    "    config=my_parameters,\n",
    ")"
   ]
  },
  {
   "cell_type": "markdown",
   "metadata": {},
   "source": [
    "# Transform"
   ]
  },
  {
   "cell_type": "code",
   "execution_count": 5,
   "metadata": {},
   "outputs": [
    {
     "name": "stderr",
     "output_type": "stream",
     "text": [
      "c:\\Users\\laish\\miniconda3\\envs\\dpln39\\lib\\site-packages\\torchvision\\transforms\\v2\\_deprecated.py:43: UserWarning: The transform `ToTensor()` is deprecated and will be removed in a future release. Instead, please use `v2.Compose([v2.ToImage(), v2.ToDtype(torch.float32, scale=True)])`.\n",
      "  warnings.warn(\n"
     ]
    }
   ],
   "source": [
    "# Define transformations and dataset\n",
    "transform_common = v2.Compose([\n",
    "    v2.ToTensor(),\n",
    "    v2.ToDtype(torch.float32),\n",
    "    v2.RandomHorizontalFlip(p=0.5),\n",
    "    v2.RandomVerticalFlip(p=0.5),\n",
    "    v2.RandomRotation(degrees=90),\n",
    "])\n",
    "\n",
    "transform_train_special = v2.Compose([\n",
    "    v2.ColorJitter(brightness=0.1, contrast=0.1)\n",
    "])\n",
    "\n",
    "transform_train = v2.Compose([\n",
    "    transform_common,\n",
    "    transform_train_special\n",
    "])\n",
    "\n",
    "transform_train_label = transform_common\n",
    "\n",
    "transform_val = v2.Compose([\n",
    "    v2.ToTensor(),\n",
    "    v2.ToDtype(torch.float32)\n",
    "])\n",
    "\n",
    "transform_test = transform_val"
   ]
  },
  {
   "cell_type": "markdown",
   "metadata": {},
   "source": [
    "# Load_data"
   ]
  },
  {
   "cell_type": "code",
   "execution_count": 6,
   "metadata": {},
   "outputs": [
    {
     "name": "stdout",
     "output_type": "stream",
     "text": [
      "10 images have been found in g:/DL_Data_raw/version0/train_images/\n",
      "The first 3 images are:\n",
      "g:/DL_Data_raw/version0/train_images\\002_ou_DongYing_12633.png\n",
      "g:/DL_Data_raw/version0/train_images\\002_ou_DongYing_12634.png\n",
      "g:/DL_Data_raw/version0/train_images\\002_ou_DongYing_12635.png\n",
      "\u001b[1;3mGet names completely!\u001b[0m\n",
      "10 images have been found in g:/DL_Data_raw/version0/train_labels/\n",
      "The first 3 images are:\n",
      "g:/DL_Data_raw/version0/train_labels\\002_ou_DongYing_12633.png\n",
      "g:/DL_Data_raw/version0/train_labels\\002_ou_DongYing_12634.png\n",
      "g:/DL_Data_raw/version0/train_labels\\002_ou_DongYing_12635.png\n",
      "\u001b[1;3mGet names completely!\u001b[0m\n",
      "5 images have been found in g:/DL_Data_raw/version0/test_images/\n",
      "The first 3 images are:\n",
      "g:/DL_Data_raw/version0/test_images\\002_ou_DongYing_13635_roi_selected.png\n",
      "g:/DL_Data_raw/version0/test_images\\002_ou_DongYing_13636_roi_selected.png\n",
      "g:/DL_Data_raw/version0/test_images\\002_ou_DongYing_13637_roi_selected.png\n",
      "\u001b[1;3mGet names completely!\u001b[0m\n",
      "5 images have been found in g:/DL_Data_raw/version0/test_labels/\n",
      "The first 3 images are:\n",
      "g:/DL_Data_raw/version0/test_labels\\002_ou_DongYing_13635_roi_selected.png\n",
      "g:/DL_Data_raw/version0/test_labels\\002_ou_DongYing_13636_roi_selected.png\n",
      "g:/DL_Data_raw/version0/test_labels\\002_ou_DongYing_13637_roi_selected.png\n",
      "\u001b[1;3mGet names completely!\u001b[0m\n",
      "len of train_data: 8, len of val_data: 2, len of test_data: 5\n"
     ]
    }
   ],
   "source": [
    "def load_images(paths):\n",
    "    return [cv2.imread(p, cv2.IMREAD_GRAYSCALE) for p in paths]\n",
    "\n",
    "data_paths = fb.get_image_names('g:/DL_Data_raw/version0/train_images/', None, 'png')\n",
    "labels_paths = fb.get_image_names('g:/DL_Data_raw/version0/train_labels/', None, 'png')\n",
    "test_paths = fb.get_image_names('g:/DL_Data_raw/version0/test_images/', None, 'png')\n",
    "test_labels_paths = fb.get_image_names('g:/DL_Data_raw/version0/test_labels/', None, 'png')\n",
    "\n",
    "data = load_images(data_paths)\n",
    "labels = load_images(labels_paths)\n",
    "tests = load_images(test_paths)\n",
    "test_labels = load_images(test_labels_paths)\n",
    "\n",
    "train_data, val_data, train_labels, val_labels = train_test_split(data, labels, test_size=my_parameters['ratio'], random_state=my_parameters['seed'])\n",
    "\n",
    "train_dataset = load_data.my_Dataset(train_data, train_labels, transform=transform_train, label_transform=transform_train_label)\n",
    "val_dataset = load_data.my_Dataset(val_data, val_labels, transform=transform_val, label_transform=transform_val)\n",
    "test_dataset = load_data.my_Dataset(tests, test_labels, transform=transform_test, label_transform=transform_test)\n",
    "\n",
    "train_loader = DataLoader(train_dataset, batch_size=my_parameters['batch_size'], shuffle=True)\n",
    "val_loader = DataLoader(val_dataset, batch_size=my_parameters['batch_size'], shuffle=False)\n",
    "test_loader = DataLoader(test_dataset, batch_size=my_parameters['batch_size'], shuffle=False)\n",
    "\n",
    "print(f'len of train_data: {len(train_data)}, len of val_data: {len(val_data)}, len of test_data: {len(tests)}')"
   ]
  },
  {
   "cell_type": "markdown",
   "metadata": {},
   "source": [
    "# Model"
   ]
  },
  {
   "cell_type": "code",
   "execution_count": 7,
   "metadata": {},
   "outputs": [],
   "source": [
    "# class DoubleConv(nn.Module):\n",
    "#     \"\"\"(convolution => [BN] => ReLU) * 2\"\"\"\n",
    "\n",
    "#     def __init__(self, in_channels, out_channels):\n",
    "#         super().__init__()\n",
    "#         self.double_conv = nn.Sequential(\n",
    "#             nn.Conv2d(in_channels, out_channels, 3, padding=1),\n",
    "#             nn.BatchNorm2d(out_channels),\n",
    "#             nn.ReLU(inplace=True),\n",
    "#             nn.Conv2d(out_channels, out_channels, 3, padding=1),\n",
    "#             nn.BatchNorm2d(out_channels),\n",
    "#             nn.ReLU(inplace=True)\n",
    "#         )\n",
    "\n",
    "#     def forward(self, x):\n",
    "#         return self.double_conv(x)\n",
    "\n",
    "# class UNet(nn.Module):\n",
    "#     def __init__(self):\n",
    "#         super(UNet, self).__init__()\n",
    "#         self.dconv_down1 = DoubleConv(1, 64)\n",
    "#         self.dconv_down2 = DoubleConv(64, 128)\n",
    "#         self.dconv_down3 = DoubleConv(128, 256)\n",
    "#         self.dconv_down4 = DoubleConv(256, 512)        \n",
    "\n",
    "#         self.maxpool = nn.MaxPool2d(2)\n",
    "#         self.upsample = nn.Upsample(scale_factor=2, mode='bilinear', align_corners=True)        \n",
    "        \n",
    "#         self.dconv_up3 = DoubleConv(256 + 512, 256)\n",
    "#         self.dconv_up2 = DoubleConv(128 + 256, 128)\n",
    "#         self.dconv_up1 = DoubleConv(64 + 128, 64)\n",
    "        \n",
    "#         self.conv_last = nn.Conv2d(64, 1, 1)\n",
    "        \n",
    "#     def forward(self, x):\n",
    "#         conv1 = self.dconv_down1(x)\n",
    "#         x = self.maxpool(conv1)\n",
    "        \n",
    "#         conv2 = self.dconv_down2(x)\n",
    "#         x = self.maxpool(conv2)\n",
    "        \n",
    "#         conv3 = self.dconv_down3(x)\n",
    "#         x = self.maxpool(conv3)\n",
    "        \n",
    "#         x = self.dconv_down4(x)\n",
    "        \n",
    "#         x = self.upsample(x)        \n",
    "#         x = torch.cat([x, conv3], dim=1)\n",
    "        \n",
    "#         x = self.dconv_up3(x)\n",
    "#         x = self.upsample(x)\n",
    "#         x = torch.cat([x, conv2], dim=1)\n",
    "\n",
    "#         x = self.dconv_up2(x)\n",
    "#         x = self.upsample(x)\n",
    "#         x = torch.cat([x, conv1], dim=1)\n",
    "\n",
    "#         x = self.dconv_up1(x)\n",
    "        \n",
    "#         x = self.conv_last(x)\n",
    "\n",
    "#         x = torch.sigmoid(x)  # Apply sigmoid activation to the output\n",
    "#         return x"
   ]
  },
  {
   "cell_type": "code",
   "execution_count": 8,
   "metadata": {},
   "outputs": [],
   "source": [
    "class DiceBCELoss(nn.Module):\n",
    "    def __init__(self):\n",
    "        super(DiceBCELoss, self).__init__()\n",
    "        self.bce = nn.BCELoss()\n",
    "\n",
    "    def forward(self, inputs, targets, smooth=1):\n",
    "        # First, calculate the BCE loss\n",
    "        inputs = torch.sigmoid(inputs)\n",
    "        bce_loss = self.bce(inputs, targets)\n",
    "        \n",
    "        # Calculate Dice Loss\n",
    "        inputs_flat = inputs.view(-1)\n",
    "        targets_flat = targets.view(-1)\n",
    "        \n",
    "        intersection = (inputs_flat * targets_flat).sum()\n",
    "        dice_loss = 1 - (2. * intersection + smooth) / (inputs_flat.sum() + targets_flat.sum() + smooth)\n",
    "        \n",
    "        # Combine BCE + Dice\n",
    "        return 0.5 * bce_loss + 0.5 * dice_loss"
   ]
  },
  {
   "cell_type": "markdown",
   "metadata": {},
   "source": [
    "# Train"
   ]
  },
  {
   "cell_type": "code",
   "execution_count": 9,
   "metadata": {},
   "outputs": [
    {
     "name": "stderr",
     "output_type": "stream",
     "text": [
      "Downloading: \"https://github.com/lukemelas/EfficientNet-PyTorch/releases/download/1.0/efficientnet-b4-6ed6700e.pth\" to C:\\Users\\laish/.cache\\torch\\hub\\checkpoints\\efficientnet-b4-6ed6700e.pth\n",
      "100%|██████████| 74.4M/74.4M [03:01<00:00, 430kB/s]  \n"
     ]
    }
   ],
   "source": [
    "model = smp.Unet(\n",
    "    encoder_name=\"efficientnet-b4\",        # choose encoder, e.g. mobilenet_v2 or efficientnet-b7\n",
    "    encoder_weights=\"imagenet\",     # use `imagenet` pre-trained weights for encoder initialization\n",
    "    in_channels=1,                  # model input channels (1 for gray-scale images, 3 for RGB, etc.)\n",
    "    classes=1,                      # model output channels (number of classes in your dataset)\n",
    ")\n",
    "model = model.to(device)"
   ]
  },
  {
   "cell_type": "code",
   "execution_count": 10,
   "metadata": {},
   "outputs": [],
   "source": [
    "# model = UNet().to(device)\n",
    "optimizer = torch.optim.Adam(model.parameters(), lr=my_parameters['learning_rate'])\n",
    "criterion = DiceBCELoss()"
   ]
  },
  {
   "cell_type": "code",
   "execution_count": null,
   "metadata": {},
   "outputs": [
    {
     "name": "stderr",
     "output_type": "stream",
     "text": [
      "100%|██████████| 1/1 [00:35<00:00, 35.57s/it]\n"
     ]
    },
    {
     "name": "stdout",
     "output_type": "stream",
     "text": [
      "{'epoch': 0, 'train_loss': 0.9476802349090576, 'val_loss': 1.3187569379806519}\n",
      "Model saved at epoch 0, val_loss: 1.3187569379806519\n"
     ]
    },
    {
     "name": "stderr",
     "output_type": "stream",
     "text": [
      "100%|██████████| 1/1 [00:37<00:00, 37.14s/it]\n"
     ]
    },
    {
     "name": "stdout",
     "output_type": "stream",
     "text": [
      "{'epoch': 1, 'train_loss': 0.9074574708938599, 'val_loss': 1.3432536125183105}\n"
     ]
    },
    {
     "name": "stderr",
     "output_type": "stream",
     "text": [
      "100%|██████████| 1/1 [00:39<00:00, 39.66s/it]\n"
     ]
    },
    {
     "name": "stdout",
     "output_type": "stream",
     "text": [
      "{'epoch': 2, 'train_loss': 0.8770948648452759, 'val_loss': 1.3600742816925049}\n"
     ]
    },
    {
     "name": "stderr",
     "output_type": "stream",
     "text": [
      "100%|██████████| 1/1 [00:36<00:00, 36.76s/it]\n"
     ]
    },
    {
     "name": "stdout",
     "output_type": "stream",
     "text": [
      "{'epoch': 3, 'train_loss': 0.853986382484436, 'val_loss': 1.2472386360168457}\n",
      "Model saved at epoch 3, val_loss: 1.2472386360168457\n"
     ]
    },
    {
     "name": "stderr",
     "output_type": "stream",
     "text": [
      "100%|██████████| 1/1 [00:37<00:00, 37.19s/it]\n"
     ]
    },
    {
     "name": "stdout",
     "output_type": "stream",
     "text": [
      "{'epoch': 4, 'train_loss': 0.834517240524292, 'val_loss': 1.107879638671875}\n",
      "Model saved at epoch 4, val_loss: 1.107879638671875\n"
     ]
    },
    {
     "name": "stderr",
     "output_type": "stream",
     "text": [
      "100%|██████████| 1/1 [00:41<00:00, 41.66s/it]\n"
     ]
    },
    {
     "name": "stdout",
     "output_type": "stream",
     "text": [
      "{'epoch': 5, 'train_loss': 0.817495584487915, 'val_loss': 0.9934738874435425}\n",
      "Model saved at epoch 5, val_loss: 0.9934738874435425\n"
     ]
    },
    {
     "name": "stderr",
     "output_type": "stream",
     "text": [
      "100%|██████████| 1/1 [00:46<00:00, 46.22s/it]\n"
     ]
    },
    {
     "name": "stdout",
     "output_type": "stream",
     "text": [
      "{'epoch': 6, 'train_loss': 0.7956337928771973, 'val_loss': 0.8791986703872681}\n",
      "Model saved at epoch 6, val_loss: 0.8791986703872681\n"
     ]
    },
    {
     "name": "stderr",
     "output_type": "stream",
     "text": [
      "100%|██████████| 1/1 [00:40<00:00, 40.59s/it]\n"
     ]
    },
    {
     "name": "stdout",
     "output_type": "stream",
     "text": [
      "{'epoch': 7, 'train_loss': 0.7777528166770935, 'val_loss': 0.7803028225898743}\n",
      "Model saved at epoch 7, val_loss: 0.7803028225898743\n"
     ]
    },
    {
     "name": "stderr",
     "output_type": "stream",
     "text": [
      "100%|██████████| 1/1 [00:34<00:00, 35.00s/it]\n"
     ]
    },
    {
     "name": "stdout",
     "output_type": "stream",
     "text": [
      "{'epoch': 8, 'train_loss': 0.7601549029350281, 'val_loss': 0.7110450267791748}\n",
      "Model saved at epoch 8, val_loss: 0.7110450267791748\n"
     ]
    },
    {
     "name": "stderr",
     "output_type": "stream",
     "text": [
      "100%|██████████| 1/1 [00:37<00:00, 37.33s/it]\n"
     ]
    },
    {
     "name": "stdout",
     "output_type": "stream",
     "text": [
      "{'epoch': 9, 'train_loss': 0.7487103939056396, 'val_loss': 0.6679297685623169}\n",
      "Model saved at epoch 9, val_loss: 0.6679297685623169\n"
     ]
    },
    {
     "name": "stderr",
     "output_type": "stream",
     "text": [
      "100%|██████████| 1/1 [00:39<00:00, 39.51s/it]\n"
     ]
    },
    {
     "name": "stdout",
     "output_type": "stream",
     "text": [
      "{'epoch': 10, 'train_loss': 0.7315433025360107, 'val_loss': 0.6470640301704407}\n",
      "Model saved at epoch 10, val_loss: 0.6470640301704407\n"
     ]
    },
    {
     "name": "stderr",
     "output_type": "stream",
     "text": [
      "100%|██████████| 1/1 [00:38<00:00, 38.72s/it]\n"
     ]
    },
    {
     "name": "stdout",
     "output_type": "stream",
     "text": [
      "{'epoch': 11, 'train_loss': 0.7211588025093079, 'val_loss': 0.6354414820671082}\n",
      "Model saved at epoch 11, val_loss: 0.6354414820671082\n"
     ]
    },
    {
     "name": "stderr",
     "output_type": "stream",
     "text": [
      "100%|██████████| 1/1 [00:35<00:00, 35.87s/it]\n"
     ]
    },
    {
     "name": "stdout",
     "output_type": "stream",
     "text": [
      "{'epoch': 12, 'train_loss': 0.708203136920929, 'val_loss': 0.6347847580909729}\n",
      "Model saved at epoch 12, val_loss: 0.6347847580909729\n"
     ]
    },
    {
     "name": "stderr",
     "output_type": "stream",
     "text": [
      "100%|██████████| 1/1 [00:30<00:00, 30.02s/it]\n"
     ]
    },
    {
     "name": "stdout",
     "output_type": "stream",
     "text": [
      "{'epoch': 13, 'train_loss': 0.6935576796531677, 'val_loss': 0.6403273344039917}\n"
     ]
    },
    {
     "name": "stderr",
     "output_type": "stream",
     "text": [
      "100%|██████████| 1/1 [00:29<00:00, 29.82s/it]\n"
     ]
    },
    {
     "name": "stdout",
     "output_type": "stream",
     "text": [
      "{'epoch': 14, 'train_loss': 0.6886283159255981, 'val_loss': 0.6563809514045715}\n"
     ]
    },
    {
     "name": "stderr",
     "output_type": "stream",
     "text": [
      "100%|██████████| 1/1 [00:30<00:00, 30.06s/it]\n"
     ]
    },
    {
     "name": "stdout",
     "output_type": "stream",
     "text": [
      "{'epoch': 15, 'train_loss': 0.6796246767044067, 'val_loss': 0.6963930130004883}\n"
     ]
    },
    {
     "name": "stderr",
     "output_type": "stream",
     "text": [
      "100%|██████████| 1/1 [00:29<00:00, 29.88s/it]\n"
     ]
    },
    {
     "name": "stdout",
     "output_type": "stream",
     "text": [
      "{'epoch': 16, 'train_loss': 0.6647419929504395, 'val_loss': 0.6976496577262878}\n"
     ]
    },
    {
     "name": "stderr",
     "output_type": "stream",
     "text": [
      "100%|██████████| 1/1 [00:29<00:00, 29.60s/it]\n"
     ]
    },
    {
     "name": "stdout",
     "output_type": "stream",
     "text": [
      "{'epoch': 17, 'train_loss': 0.6568018198013306, 'val_loss': 0.67569500207901}\n"
     ]
    },
    {
     "name": "stderr",
     "output_type": "stream",
     "text": [
      "100%|██████████| 1/1 [00:29<00:00, 29.62s/it]\n"
     ]
    },
    {
     "name": "stdout",
     "output_type": "stream",
     "text": [
      "{'epoch': 18, 'train_loss': 0.6512738466262817, 'val_loss': 0.6709840893745422}\n"
     ]
    },
    {
     "name": "stderr",
     "output_type": "stream",
     "text": [
      "100%|██████████| 1/1 [00:29<00:00, 29.65s/it]\n"
     ]
    },
    {
     "name": "stdout",
     "output_type": "stream",
     "text": [
      "{'epoch': 19, 'train_loss': 0.6444740891456604, 'val_loss': 0.684826672077179}\n"
     ]
    },
    {
     "name": "stderr",
     "output_type": "stream",
     "text": [
      "100%|██████████| 1/1 [00:29<00:00, 29.70s/it]\n"
     ]
    },
    {
     "name": "stdout",
     "output_type": "stream",
     "text": [
      "{'epoch': 20, 'train_loss': 0.6381586790084839, 'val_loss': 0.689124345779419}\n"
     ]
    },
    {
     "name": "stderr",
     "output_type": "stream",
     "text": [
      "100%|██████████| 1/1 [00:29<00:00, 29.75s/it]\n"
     ]
    },
    {
     "name": "stdout",
     "output_type": "stream",
     "text": [
      "{'epoch': 21, 'train_loss': 0.6304693222045898, 'val_loss': 0.6847600936889648}\n"
     ]
    },
    {
     "name": "stderr",
     "output_type": "stream",
     "text": [
      "100%|██████████| 1/1 [00:29<00:00, 29.83s/it]\n"
     ]
    },
    {
     "name": "stdout",
     "output_type": "stream",
     "text": [
      "{'epoch': 22, 'train_loss': 0.6266589164733887, 'val_loss': 0.6771689057350159}\n"
     ]
    },
    {
     "name": "stderr",
     "output_type": "stream",
     "text": [
      "100%|██████████| 1/1 [00:29<00:00, 29.74s/it]\n"
     ]
    },
    {
     "name": "stdout",
     "output_type": "stream",
     "text": [
      "{'epoch': 23, 'train_loss': 0.6193190813064575, 'val_loss': 0.6682742834091187}\n"
     ]
    },
    {
     "name": "stderr",
     "output_type": "stream",
     "text": [
      "100%|██████████| 1/1 [00:29<00:00, 29.99s/it]\n"
     ]
    },
    {
     "name": "stdout",
     "output_type": "stream",
     "text": [
      "{'epoch': 24, 'train_loss': 0.6145834922790527, 'val_loss': 0.6592832207679749}\n"
     ]
    },
    {
     "name": "stderr",
     "output_type": "stream",
     "text": [
      "100%|██████████| 1/1 [00:29<00:00, 29.79s/it]\n"
     ]
    },
    {
     "name": "stdout",
     "output_type": "stream",
     "text": [
      "{'epoch': 25, 'train_loss': 0.6106619834899902, 'val_loss': 0.650810182094574}\n"
     ]
    },
    {
     "name": "stderr",
     "output_type": "stream",
     "text": [
      "100%|██████████| 1/1 [00:29<00:00, 29.76s/it]\n"
     ]
    },
    {
     "name": "stdout",
     "output_type": "stream",
     "text": [
      "{'epoch': 26, 'train_loss': 0.6077152490615845, 'val_loss': 0.6390623450279236}\n"
     ]
    },
    {
     "name": "stderr",
     "output_type": "stream",
     "text": [
      "100%|██████████| 1/1 [00:29<00:00, 29.81s/it]\n"
     ]
    },
    {
     "name": "stdout",
     "output_type": "stream",
     "text": [
      "{'epoch': 27, 'train_loss': 0.601283073425293, 'val_loss': 0.6285349726676941}\n",
      "Model saved at epoch 27, val_loss: 0.6285349726676941\n"
     ]
    },
    {
     "name": "stderr",
     "output_type": "stream",
     "text": [
      "100%|██████████| 1/1 [00:29<00:00, 29.81s/it]\n"
     ]
    },
    {
     "name": "stdout",
     "output_type": "stream",
     "text": [
      "{'epoch': 28, 'train_loss': 0.5974946618080139, 'val_loss': 0.6211463809013367}\n",
      "Model saved at epoch 28, val_loss: 0.6211463809013367\n"
     ]
    },
    {
     "name": "stderr",
     "output_type": "stream",
     "text": [
      "100%|██████████| 1/1 [00:29<00:00, 29.59s/it]\n"
     ]
    },
    {
     "name": "stdout",
     "output_type": "stream",
     "text": [
      "{'epoch': 29, 'train_loss': 0.5967226028442383, 'val_loss': 0.615733802318573}\n",
      "Model saved at epoch 29, val_loss: 0.615733802318573\n"
     ]
    },
    {
     "name": "stderr",
     "output_type": "stream",
     "text": [
      "100%|██████████| 1/1 [00:29<00:00, 29.58s/it]\n"
     ]
    },
    {
     "name": "stdout",
     "output_type": "stream",
     "text": [
      "{'epoch': 30, 'train_loss': 0.5912095308303833, 'val_loss': 0.6105242371559143}\n",
      "Model saved at epoch 30, val_loss: 0.6105242371559143\n"
     ]
    },
    {
     "name": "stderr",
     "output_type": "stream",
     "text": [
      "100%|██████████| 1/1 [00:29<00:00, 29.60s/it]\n"
     ]
    },
    {
     "name": "stdout",
     "output_type": "stream",
     "text": [
      "{'epoch': 31, 'train_loss': 0.5879970192909241, 'val_loss': 0.6054723858833313}\n",
      "Model saved at epoch 31, val_loss: 0.6054723858833313\n"
     ]
    },
    {
     "name": "stderr",
     "output_type": "stream",
     "text": [
      "100%|██████████| 1/1 [00:29<00:00, 29.66s/it]\n"
     ]
    },
    {
     "name": "stdout",
     "output_type": "stream",
     "text": [
      "{'epoch': 32, 'train_loss': 0.5842812657356262, 'val_loss': 0.6008486747741699}\n",
      "Model saved at epoch 32, val_loss: 0.6008486747741699\n"
     ]
    },
    {
     "name": "stderr",
     "output_type": "stream",
     "text": [
      "100%|██████████| 1/1 [00:30<00:00, 30.15s/it]\n"
     ]
    },
    {
     "name": "stdout",
     "output_type": "stream",
     "text": [
      "{'epoch': 33, 'train_loss': 0.5819677710533142, 'val_loss': 0.5966256856918335}\n",
      "Model saved at epoch 33, val_loss: 0.5966256856918335\n"
     ]
    },
    {
     "name": "stderr",
     "output_type": "stream",
     "text": [
      "100%|██████████| 1/1 [00:29<00:00, 29.55s/it]\n"
     ]
    },
    {
     "name": "stdout",
     "output_type": "stream",
     "text": [
      "{'epoch': 34, 'train_loss': 0.5785409212112427, 'val_loss': 0.5924381613731384}\n",
      "Model saved at epoch 34, val_loss: 0.5924381613731384\n"
     ]
    },
    {
     "name": "stderr",
     "output_type": "stream",
     "text": [
      "100%|██████████| 1/1 [00:29<00:00, 29.47s/it]\n"
     ]
    },
    {
     "name": "stdout",
     "output_type": "stream",
     "text": [
      "{'epoch': 35, 'train_loss': 0.5759872198104858, 'val_loss': 0.588283896446228}\n",
      "Model saved at epoch 35, val_loss: 0.588283896446228\n"
     ]
    },
    {
     "name": "stderr",
     "output_type": "stream",
     "text": [
      "100%|██████████| 1/1 [00:29<00:00, 29.65s/it]\n"
     ]
    },
    {
     "name": "stdout",
     "output_type": "stream",
     "text": [
      "{'epoch': 36, 'train_loss': 0.5726929306983948, 'val_loss': 0.5841537714004517}\n",
      "Model saved at epoch 36, val_loss: 0.5841537714004517\n"
     ]
    },
    {
     "name": "stderr",
     "output_type": "stream",
     "text": [
      "100%|██████████| 1/1 [00:29<00:00, 29.56s/it]\n"
     ]
    },
    {
     "name": "stdout",
     "output_type": "stream",
     "text": [
      "{'epoch': 37, 'train_loss': 0.5696883797645569, 'val_loss': 0.5800882577896118}\n",
      "Model saved at epoch 37, val_loss: 0.5800882577896118\n"
     ]
    },
    {
     "name": "stderr",
     "output_type": "stream",
     "text": [
      "100%|██████████| 1/1 [00:29<00:00, 29.62s/it]\n"
     ]
    },
    {
     "name": "stdout",
     "output_type": "stream",
     "text": [
      "{'epoch': 38, 'train_loss': 0.5669289231300354, 'val_loss': 0.5761675834655762}\n",
      "Model saved at epoch 38, val_loss: 0.5761675834655762\n"
     ]
    },
    {
     "name": "stderr",
     "output_type": "stream",
     "text": [
      "100%|██████████| 1/1 [00:29<00:00, 29.61s/it]\n"
     ]
    },
    {
     "name": "stdout",
     "output_type": "stream",
     "text": [
      "{'epoch': 39, 'train_loss': 0.5647851824760437, 'val_loss': 0.5725721716880798}\n",
      "Model saved at epoch 39, val_loss: 0.5725721716880798\n"
     ]
    },
    {
     "name": "stderr",
     "output_type": "stream",
     "text": [
      "100%|██████████| 1/1 [00:29<00:00, 29.52s/it]\n"
     ]
    },
    {
     "name": "stdout",
     "output_type": "stream",
     "text": [
      "{'epoch': 40, 'train_loss': 0.5644711256027222, 'val_loss': 0.5693520903587341}\n",
      "Model saved at epoch 40, val_loss: 0.5693520903587341\n"
     ]
    },
    {
     "name": "stderr",
     "output_type": "stream",
     "text": [
      "100%|██████████| 1/1 [00:29<00:00, 29.73s/it]\n"
     ]
    },
    {
     "name": "stdout",
     "output_type": "stream",
     "text": [
      "{'epoch': 41, 'train_loss': 0.559907078742981, 'val_loss': 0.5661208629608154}\n",
      "Model saved at epoch 41, val_loss: 0.5661208629608154\n"
     ]
    },
    {
     "name": "stderr",
     "output_type": "stream",
     "text": [
      "100%|██████████| 1/1 [00:29<00:00, 29.51s/it]\n"
     ]
    },
    {
     "name": "stdout",
     "output_type": "stream",
     "text": [
      "{'epoch': 42, 'train_loss': 0.5576798319816589, 'val_loss': 0.5630660057067871}\n",
      "Model saved at epoch 42, val_loss: 0.5630660057067871\n"
     ]
    },
    {
     "name": "stderr",
     "output_type": "stream",
     "text": [
      "100%|██████████| 1/1 [00:29<00:00, 29.83s/it]\n"
     ]
    },
    {
     "name": "stdout",
     "output_type": "stream",
     "text": [
      "{'epoch': 43, 'train_loss': 0.5557718873023987, 'val_loss': 0.5602511167526245}\n",
      "Model saved at epoch 43, val_loss: 0.5602511167526245\n"
     ]
    },
    {
     "name": "stderr",
     "output_type": "stream",
     "text": [
      "100%|██████████| 1/1 [00:29<00:00, 29.61s/it]\n"
     ]
    },
    {
     "name": "stdout",
     "output_type": "stream",
     "text": [
      "{'epoch': 44, 'train_loss': 0.5537248253822327, 'val_loss': 0.5577045679092407}\n",
      "Model saved at epoch 44, val_loss: 0.5577045679092407\n"
     ]
    },
    {
     "name": "stderr",
     "output_type": "stream",
     "text": [
      "100%|██████████| 1/1 [00:29<00:00, 29.70s/it]\n"
     ]
    },
    {
     "name": "stdout",
     "output_type": "stream",
     "text": [
      "{'epoch': 45, 'train_loss': 0.5524011254310608, 'val_loss': 0.5554431676864624}\n",
      "Model saved at epoch 45, val_loss: 0.5554431676864624\n"
     ]
    },
    {
     "name": "stderr",
     "output_type": "stream",
     "text": [
      "100%|██████████| 1/1 [00:29<00:00, 29.81s/it]\n"
     ]
    },
    {
     "name": "stdout",
     "output_type": "stream",
     "text": [
      "{'epoch': 46, 'train_loss': 0.5504438281059265, 'val_loss': 0.5532936453819275}\n",
      "Model saved at epoch 46, val_loss: 0.5532936453819275\n"
     ]
    },
    {
     "name": "stderr",
     "output_type": "stream",
     "text": [
      "100%|██████████| 1/1 [00:29<00:00, 29.56s/it]\n"
     ]
    },
    {
     "name": "stdout",
     "output_type": "stream",
     "text": [
      "{'epoch': 47, 'train_loss': 0.5488656163215637, 'val_loss': 0.5514654517173767}\n",
      "Model saved at epoch 47, val_loss: 0.5514654517173767\n"
     ]
    },
    {
     "name": "stderr",
     "output_type": "stream",
     "text": [
      "100%|██████████| 1/1 [00:29<00:00, 29.45s/it]\n"
     ]
    },
    {
     "name": "stdout",
     "output_type": "stream",
     "text": [
      "{'epoch': 48, 'train_loss': 0.5470008850097656, 'val_loss': 0.5496166944503784}\n",
      "Model saved at epoch 48, val_loss: 0.5496166944503784\n"
     ]
    },
    {
     "name": "stderr",
     "output_type": "stream",
     "text": [
      "100%|██████████| 1/1 [00:29<00:00, 29.56s/it]\n"
     ]
    },
    {
     "name": "stdout",
     "output_type": "stream",
     "text": [
      "{'epoch': 49, 'train_loss': 0.5466821193695068, 'val_loss': 0.5480538606643677}\n",
      "Model saved at epoch 49, val_loss: 0.5480538606643677\n"
     ]
    },
    {
     "name": "stderr",
     "output_type": "stream",
     "text": [
      "100%|██████████| 1/1 [00:29<00:00, 29.57s/it]\n"
     ]
    },
    {
     "name": "stdout",
     "output_type": "stream",
     "text": [
      "{'epoch': 50, 'train_loss': 0.5457179546356201, 'val_loss': 0.5465207099914551}\n",
      "Model saved at epoch 50, val_loss: 0.5465207099914551\n"
     ]
    },
    {
     "name": "stderr",
     "output_type": "stream",
     "text": [
      "100%|██████████| 1/1 [00:29<00:00, 29.49s/it]\n"
     ]
    },
    {
     "name": "stdout",
     "output_type": "stream",
     "text": [
      "{'epoch': 51, 'train_loss': 0.5437873601913452, 'val_loss': 0.544998824596405}\n",
      "Model saved at epoch 51, val_loss: 0.544998824596405\n"
     ]
    },
    {
     "name": "stderr",
     "output_type": "stream",
     "text": [
      "100%|██████████| 1/1 [00:30<00:00, 30.19s/it]\n"
     ]
    },
    {
     "name": "stdout",
     "output_type": "stream",
     "text": [
      "{'epoch': 52, 'train_loss': 0.5431753396987915, 'val_loss': 0.5436098575592041}\n",
      "Model saved at epoch 52, val_loss: 0.5436098575592041\n"
     ]
    },
    {
     "name": "stderr",
     "output_type": "stream",
     "text": [
      "100%|██████████| 1/1 [00:29<00:00, 29.63s/it]\n"
     ]
    },
    {
     "name": "stdout",
     "output_type": "stream",
     "text": [
      "{'epoch': 53, 'train_loss': 0.5411357283592224, 'val_loss': 0.5420998334884644}\n",
      "Model saved at epoch 53, val_loss: 0.5420998334884644\n"
     ]
    },
    {
     "name": "stderr",
     "output_type": "stream",
     "text": [
      "100%|██████████| 1/1 [00:29<00:00, 29.61s/it]\n"
     ]
    },
    {
     "name": "stdout",
     "output_type": "stream",
     "text": [
      "{'epoch': 54, 'train_loss': 0.5401890873908997, 'val_loss': 0.5407492518424988}\n",
      "Model saved at epoch 54, val_loss: 0.5407492518424988\n"
     ]
    },
    {
     "name": "stderr",
     "output_type": "stream",
     "text": [
      "100%|██████████| 1/1 [00:29<00:00, 29.66s/it]\n"
     ]
    },
    {
     "name": "stdout",
     "output_type": "stream",
     "text": [
      "{'epoch': 55, 'train_loss': 0.5396156311035156, 'val_loss': 0.5395828485488892}\n",
      "Model saved at epoch 55, val_loss: 0.5395828485488892\n"
     ]
    },
    {
     "name": "stderr",
     "output_type": "stream",
     "text": [
      "100%|██████████| 1/1 [00:29<00:00, 29.60s/it]\n"
     ]
    },
    {
     "name": "stdout",
     "output_type": "stream",
     "text": [
      "{'epoch': 56, 'train_loss': 0.5382166504859924, 'val_loss': 0.5386209487915039}\n",
      "Model saved at epoch 56, val_loss: 0.5386209487915039\n"
     ]
    },
    {
     "name": "stderr",
     "output_type": "stream",
     "text": [
      "100%|██████████| 1/1 [00:29<00:00, 29.47s/it]\n"
     ]
    },
    {
     "name": "stdout",
     "output_type": "stream",
     "text": [
      "{'epoch': 57, 'train_loss': 0.5376737713813782, 'val_loss': 0.5378402471542358}\n",
      "Model saved at epoch 57, val_loss: 0.5378402471542358\n"
     ]
    },
    {
     "name": "stderr",
     "output_type": "stream",
     "text": [
      "100%|██████████| 1/1 [00:29<00:00, 29.51s/it]\n"
     ]
    },
    {
     "name": "stdout",
     "output_type": "stream",
     "text": [
      "{'epoch': 58, 'train_loss': 0.5367609262466431, 'val_loss': 0.5371078252792358}\n",
      "Model saved at epoch 58, val_loss: 0.5371078252792358\n"
     ]
    },
    {
     "name": "stderr",
     "output_type": "stream",
     "text": [
      "100%|██████████| 1/1 [00:29<00:00, 29.73s/it]\n"
     ]
    },
    {
     "name": "stdout",
     "output_type": "stream",
     "text": [
      "{'epoch': 59, 'train_loss': 0.5363219380378723, 'val_loss': 0.5363435745239258}\n",
      "Model saved at epoch 59, val_loss: 0.5363435745239258\n"
     ]
    },
    {
     "name": "stderr",
     "output_type": "stream",
     "text": [
      "100%|██████████| 1/1 [00:29<00:00, 29.74s/it]\n"
     ]
    },
    {
     "name": "stdout",
     "output_type": "stream",
     "text": [
      "{'epoch': 60, 'train_loss': 0.5352732539176941, 'val_loss': 0.5354821085929871}\n",
      "Model saved at epoch 60, val_loss: 0.5354821085929871\n"
     ]
    },
    {
     "name": "stderr",
     "output_type": "stream",
     "text": [
      "100%|██████████| 1/1 [00:29<00:00, 29.96s/it]\n"
     ]
    },
    {
     "name": "stdout",
     "output_type": "stream",
     "text": [
      "{'epoch': 61, 'train_loss': 0.5348397493362427, 'val_loss': 0.5345341563224792}\n",
      "Model saved at epoch 61, val_loss: 0.5345341563224792\n"
     ]
    },
    {
     "name": "stderr",
     "output_type": "stream",
     "text": [
      "100%|██████████| 1/1 [00:29<00:00, 29.61s/it]\n"
     ]
    },
    {
     "name": "stdout",
     "output_type": "stream",
     "text": [
      "{'epoch': 62, 'train_loss': 0.5341199636459351, 'val_loss': 0.5335695147514343}\n",
      "Model saved at epoch 62, val_loss: 0.5335695147514343\n"
     ]
    },
    {
     "name": "stderr",
     "output_type": "stream",
     "text": [
      "100%|██████████| 1/1 [00:29<00:00, 29.62s/it]\n"
     ]
    },
    {
     "name": "stdout",
     "output_type": "stream",
     "text": [
      "{'epoch': 63, 'train_loss': 0.5332762002944946, 'val_loss': 0.5327368974685669}\n",
      "Model saved at epoch 63, val_loss: 0.5327368974685669\n"
     ]
    },
    {
     "name": "stderr",
     "output_type": "stream",
     "text": [
      "100%|██████████| 1/1 [00:29<00:00, 29.57s/it]\n"
     ]
    },
    {
     "name": "stdout",
     "output_type": "stream",
     "text": [
      "{'epoch': 64, 'train_loss': 0.5328578948974609, 'val_loss': 0.5321544408798218}\n",
      "Model saved at epoch 64, val_loss: 0.5321544408798218\n"
     ]
    },
    {
     "name": "stderr",
     "output_type": "stream",
     "text": [
      "100%|██████████| 1/1 [00:29<00:00, 29.76s/it]\n"
     ]
    },
    {
     "name": "stdout",
     "output_type": "stream",
     "text": [
      "{'epoch': 65, 'train_loss': 0.5319772362709045, 'val_loss': 0.5315733551979065}\n",
      "Model saved at epoch 65, val_loss: 0.5315733551979065\n"
     ]
    },
    {
     "name": "stderr",
     "output_type": "stream",
     "text": [
      "100%|██████████| 1/1 [00:29<00:00, 29.50s/it]\n"
     ]
    },
    {
     "name": "stdout",
     "output_type": "stream",
     "text": [
      "{'epoch': 66, 'train_loss': 0.5317907333374023, 'val_loss': 0.5310472249984741}\n",
      "Model saved at epoch 66, val_loss: 0.5310472249984741\n"
     ]
    },
    {
     "name": "stderr",
     "output_type": "stream",
     "text": [
      "100%|██████████| 1/1 [00:29<00:00, 29.54s/it]\n"
     ]
    },
    {
     "name": "stdout",
     "output_type": "stream",
     "text": [
      "{'epoch': 67, 'train_loss': 0.5306298732757568, 'val_loss': 0.5305555462837219}\n",
      "Model saved at epoch 67, val_loss: 0.5305555462837219\n"
     ]
    },
    {
     "name": "stderr",
     "output_type": "stream",
     "text": [
      "100%|██████████| 1/1 [00:29<00:00, 29.53s/it]\n"
     ]
    },
    {
     "name": "stdout",
     "output_type": "stream",
     "text": [
      "{'epoch': 68, 'train_loss': 0.5302661061286926, 'val_loss': 0.5301129817962646}\n",
      "Model saved at epoch 68, val_loss: 0.5301129817962646\n"
     ]
    },
    {
     "name": "stderr",
     "output_type": "stream",
     "text": [
      "100%|██████████| 1/1 [00:29<00:00, 29.76s/it]\n"
     ]
    },
    {
     "name": "stdout",
     "output_type": "stream",
     "text": [
      "{'epoch': 69, 'train_loss': 0.5298645496368408, 'val_loss': 0.5298143625259399}\n",
      "Model saved at epoch 69, val_loss: 0.5298143625259399\n"
     ]
    },
    {
     "name": "stderr",
     "output_type": "stream",
     "text": [
      "100%|██████████| 1/1 [00:29<00:00, 29.88s/it]\n"
     ]
    },
    {
     "name": "stdout",
     "output_type": "stream",
     "text": [
      "{'epoch': 70, 'train_loss': 0.5298923254013062, 'val_loss': 0.529598593711853}\n",
      "Model saved at epoch 70, val_loss: 0.529598593711853\n"
     ]
    },
    {
     "name": "stderr",
     "output_type": "stream",
     "text": [
      "100%|██████████| 1/1 [00:29<00:00, 29.65s/it]\n"
     ]
    },
    {
     "name": "stdout",
     "output_type": "stream",
     "text": [
      "{'epoch': 71, 'train_loss': 0.5288488268852234, 'val_loss': 0.5293056964874268}\n",
      "Model saved at epoch 71, val_loss: 0.5293056964874268\n"
     ]
    },
    {
     "name": "stderr",
     "output_type": "stream",
     "text": [
      "100%|██████████| 1/1 [00:29<00:00, 29.57s/it]\n"
     ]
    },
    {
     "name": "stdout",
     "output_type": "stream",
     "text": [
      "{'epoch': 72, 'train_loss': 0.5295147895812988, 'val_loss': 0.5291252136230469}\n",
      "Model saved at epoch 72, val_loss: 0.5291252136230469\n"
     ]
    },
    {
     "name": "stderr",
     "output_type": "stream",
     "text": [
      "100%|██████████| 1/1 [00:29<00:00, 29.58s/it]\n"
     ]
    },
    {
     "name": "stdout",
     "output_type": "stream",
     "text": [
      "{'epoch': 73, 'train_loss': 0.5281302332878113, 'val_loss': 0.528865396976471}\n",
      "Model saved at epoch 73, val_loss: 0.528865396976471\n"
     ]
    },
    {
     "name": "stderr",
     "output_type": "stream",
     "text": [
      "100%|██████████| 1/1 [00:29<00:00, 29.74s/it]\n"
     ]
    },
    {
     "name": "stdout",
     "output_type": "stream",
     "text": [
      "{'epoch': 74, 'train_loss': 0.5275752544403076, 'val_loss': 0.5285676717758179}\n",
      "Model saved at epoch 74, val_loss: 0.5285676717758179\n"
     ]
    },
    {
     "name": "stderr",
     "output_type": "stream",
     "text": [
      "100%|██████████| 1/1 [00:29<00:00, 29.76s/it]\n"
     ]
    },
    {
     "name": "stdout",
     "output_type": "stream",
     "text": [
      "{'epoch': 75, 'train_loss': 0.5272321701049805, 'val_loss': 0.5283032655715942}\n",
      "Model saved at epoch 75, val_loss: 0.5283032655715942\n"
     ]
    },
    {
     "name": "stderr",
     "output_type": "stream",
     "text": [
      "100%|██████████| 1/1 [00:29<00:00, 29.57s/it]\n"
     ]
    },
    {
     "name": "stdout",
     "output_type": "stream",
     "text": [
      "{'epoch': 76, 'train_loss': 0.5271674394607544, 'val_loss': 0.5281221866607666}\n",
      "Model saved at epoch 76, val_loss: 0.5281221866607666\n"
     ]
    },
    {
     "name": "stderr",
     "output_type": "stream",
     "text": [
      "100%|██████████| 1/1 [00:29<00:00, 29.48s/it]\n"
     ]
    },
    {
     "name": "stdout",
     "output_type": "stream",
     "text": [
      "{'epoch': 77, 'train_loss': 0.5260985493659973, 'val_loss': 0.5278968214988708}\n",
      "Model saved at epoch 77, val_loss: 0.5278968214988708\n"
     ]
    },
    {
     "name": "stderr",
     "output_type": "stream",
     "text": [
      "100%|██████████| 1/1 [00:29<00:00, 29.96s/it]\n"
     ]
    },
    {
     "name": "stdout",
     "output_type": "stream",
     "text": [
      "{'epoch': 78, 'train_loss': 0.5259406566619873, 'val_loss': 0.5276662707328796}\n",
      "Model saved at epoch 78, val_loss: 0.5276662707328796\n"
     ]
    },
    {
     "name": "stderr",
     "output_type": "stream",
     "text": [
      "100%|██████████| 1/1 [00:29<00:00, 29.64s/it]\n"
     ]
    },
    {
     "name": "stdout",
     "output_type": "stream",
     "text": [
      "{'epoch': 79, 'train_loss': 0.5259298086166382, 'val_loss': 0.527465283870697}\n",
      "Model saved at epoch 79, val_loss: 0.527465283870697\n"
     ]
    },
    {
     "name": "stderr",
     "output_type": "stream",
     "text": [
      "100%|██████████| 1/1 [00:30<00:00, 30.27s/it]\n"
     ]
    },
    {
     "name": "stdout",
     "output_type": "stream",
     "text": [
      "{'epoch': 80, 'train_loss': 0.5254793167114258, 'val_loss': 0.5272982716560364}\n",
      "Model saved at epoch 80, val_loss: 0.5272982716560364\n"
     ]
    },
    {
     "name": "stderr",
     "output_type": "stream",
     "text": [
      "100%|██████████| 1/1 [00:29<00:00, 29.65s/it]\n"
     ]
    },
    {
     "name": "stdout",
     "output_type": "stream",
     "text": [
      "{'epoch': 81, 'train_loss': 0.524333119392395, 'val_loss': 0.5271586775779724}\n",
      "Model saved at epoch 81, val_loss: 0.5271586775779724\n"
     ]
    },
    {
     "name": "stderr",
     "output_type": "stream",
     "text": [
      "100%|██████████| 1/1 [00:30<00:00, 30.09s/it]\n"
     ]
    },
    {
     "name": "stdout",
     "output_type": "stream",
     "text": [
      "{'epoch': 82, 'train_loss': 0.5270789861679077, 'val_loss': 0.5267952084541321}\n",
      "Model saved at epoch 82, val_loss: 0.5267952084541321\n"
     ]
    },
    {
     "name": "stderr",
     "output_type": "stream",
     "text": [
      "100%|██████████| 1/1 [00:29<00:00, 29.74s/it]\n"
     ]
    },
    {
     "name": "stdout",
     "output_type": "stream",
     "text": [
      "{'epoch': 83, 'train_loss': 0.5266185998916626, 'val_loss': 0.526297926902771}\n",
      "Model saved at epoch 83, val_loss: 0.526297926902771\n"
     ]
    },
    {
     "name": "stderr",
     "output_type": "stream",
     "text": [
      "100%|██████████| 1/1 [00:29<00:00, 29.74s/it]\n"
     ]
    },
    {
     "name": "stdout",
     "output_type": "stream",
     "text": [
      "{'epoch': 84, 'train_loss': 0.5247071981430054, 'val_loss': 0.5257595777511597}\n",
      "Model saved at epoch 84, val_loss: 0.5257595777511597\n"
     ]
    },
    {
     "name": "stderr",
     "output_type": "stream",
     "text": [
      "100%|██████████| 1/1 [00:29<00:00, 29.50s/it]\n"
     ]
    },
    {
     "name": "stdout",
     "output_type": "stream",
     "text": [
      "{'epoch': 85, 'train_loss': 0.5251723527908325, 'val_loss': 0.5253893733024597}\n",
      "Model saved at epoch 85, val_loss: 0.5253893733024597\n"
     ]
    },
    {
     "name": "stderr",
     "output_type": "stream",
     "text": [
      "100%|██████████| 1/1 [00:29<00:00, 29.58s/it]\n"
     ]
    },
    {
     "name": "stdout",
     "output_type": "stream",
     "text": [
      "{'epoch': 86, 'train_loss': 0.5248496532440186, 'val_loss': 0.5250434279441833}\n",
      "Model saved at epoch 86, val_loss: 0.5250434279441833\n"
     ]
    },
    {
     "name": "stderr",
     "output_type": "stream",
     "text": [
      "100%|██████████| 1/1 [00:29<00:00, 29.75s/it]\n"
     ]
    },
    {
     "name": "stdout",
     "output_type": "stream",
     "text": [
      "{'epoch': 87, 'train_loss': 0.5243903398513794, 'val_loss': 0.5246058702468872}\n",
      "Model saved at epoch 87, val_loss: 0.5246058702468872\n"
     ]
    },
    {
     "name": "stderr",
     "output_type": "stream",
     "text": [
      "100%|██████████| 1/1 [00:29<00:00, 29.73s/it]\n"
     ]
    },
    {
     "name": "stdout",
     "output_type": "stream",
     "text": [
      "{'epoch': 88, 'train_loss': 0.5242964029312134, 'val_loss': 0.5242103338241577}\n",
      "Model saved at epoch 88, val_loss: 0.5242103338241577\n"
     ]
    },
    {
     "name": "stderr",
     "output_type": "stream",
     "text": [
      "100%|██████████| 1/1 [00:29<00:00, 29.91s/it]\n"
     ]
    },
    {
     "name": "stdout",
     "output_type": "stream",
     "text": [
      "{'epoch': 89, 'train_loss': 0.5236587524414062, 'val_loss': 0.5238298177719116}\n",
      "Model saved at epoch 89, val_loss: 0.5238298177719116\n"
     ]
    },
    {
     "name": "stderr",
     "output_type": "stream",
     "text": [
      "100%|██████████| 1/1 [00:29<00:00, 29.52s/it]\n"
     ]
    },
    {
     "name": "stdout",
     "output_type": "stream",
     "text": [
      "{'epoch': 90, 'train_loss': 0.5249167680740356, 'val_loss': 0.523541271686554}\n",
      "Model saved at epoch 90, val_loss: 0.523541271686554\n"
     ]
    },
    {
     "name": "stderr",
     "output_type": "stream",
     "text": [
      "100%|██████████| 1/1 [00:29<00:00, 29.53s/it]\n"
     ]
    },
    {
     "name": "stdout",
     "output_type": "stream",
     "text": [
      "{'epoch': 91, 'train_loss': 0.5233462452888489, 'val_loss': 0.5231240391731262}\n",
      "Model saved at epoch 91, val_loss: 0.5231240391731262\n"
     ]
    },
    {
     "name": "stderr",
     "output_type": "stream",
     "text": [
      "100%|██████████| 1/1 [00:29<00:00, 29.54s/it]\n"
     ]
    },
    {
     "name": "stdout",
     "output_type": "stream",
     "text": [
      "{'epoch': 92, 'train_loss': 0.5231229066848755, 'val_loss': 0.5227711796760559}\n",
      "Model saved at epoch 92, val_loss: 0.5227711796760559\n"
     ]
    },
    {
     "name": "stderr",
     "output_type": "stream",
     "text": [
      "100%|██████████| 1/1 [00:29<00:00, 29.47s/it]\n"
     ]
    },
    {
     "name": "stdout",
     "output_type": "stream",
     "text": [
      "{'epoch': 93, 'train_loss': 0.5230998396873474, 'val_loss': 0.5225046277046204}\n",
      "Model saved at epoch 93, val_loss: 0.5225046277046204\n"
     ]
    },
    {
     "name": "stderr",
     "output_type": "stream",
     "text": [
      "100%|██████████| 1/1 [00:29<00:00, 29.86s/it]\n"
     ]
    },
    {
     "name": "stdout",
     "output_type": "stream",
     "text": [
      "{'epoch': 94, 'train_loss': 0.5228769183158875, 'val_loss': 0.5222724676132202}\n",
      "Model saved at epoch 94, val_loss: 0.5222724676132202\n"
     ]
    },
    {
     "name": "stderr",
     "output_type": "stream",
     "text": [
      "  0%|          | 0/1 [00:00<?, ?it/s]"
     ]
    }
   ],
   "source": [
    "val_loss_best = 100000\n",
    "\n",
    "for epoch in range(my_parameters['n_epochs']):\n",
    "    model.train()\n",
    "    train_loss = 0.0\n",
    "    \n",
    "    for images, labels in tqdm(train_loader):\n",
    "        images = images.to(device)\n",
    "        labels = labels.to(device)\n",
    "        \n",
    "        # Forward pass\n",
    "        outputs = model(images)\n",
    "        loss = criterion(outputs, labels)\n",
    "        \n",
    "        # Backward and optimize\n",
    "        optimizer.zero_grad()\n",
    "        loss.backward()\n",
    "        optimizer.step()\n",
    "        \n",
    "        train_loss += loss.item() * images.size(0)\n",
    "    \n",
    "    train_loss_mean = train_loss / len(train_loader.dataset)\n",
    "\n",
    "\n",
    "    model.eval()\n",
    "    val_loss = 0\n",
    "\n",
    "    with torch.no_grad():\n",
    "        for images, labels in val_loader:\n",
    "            images = images.to(device)\n",
    "            labels = labels.to(device)\n",
    "            \n",
    "            outputs = model(images)\n",
    "            loss = criterion(outputs, labels)\n",
    "            \n",
    "            val_loss += loss.item() * images.size(0)\n",
    "\n",
    "    val_loss_mean = val_loss / len(val_loader.dataset)\n",
    "    dict = {'train_loss': train_loss_mean, 'epoch': epoch, 'val_loss': val_loss_mean}\n",
    "    mylogger.log(dict)\n",
    "\n",
    "    if val_loss_mean < val_loss_best:\n",
    "        val_loss_best = val_loss_mean\n",
    "        torch.save(model.state_dict(), 'model.pth')\n",
    "        print(f'Model saved at epoch {epoch}, val_loss: {val_loss_mean}')"
   ]
  },
  {
   "cell_type": "code",
   "execution_count": null,
   "metadata": {},
   "outputs": [],
   "source": [
    "wandb.finish()"
   ]
  },
  {
   "cell_type": "markdown",
   "metadata": {},
   "source": [
    "# Test"
   ]
  },
  {
   "cell_type": "code",
   "execution_count": null,
   "metadata": {},
   "outputs": [],
   "source": [
    "def save_image(image, path):\n",
    "    \"\"\"Save a tensor as an image.\"\"\"\n",
    "    image = image.squeeze().cpu().numpy()\n",
    "    plt.imsave(path, image, cmap='gray')\n",
    "\n",
    "def test_model(model, test_loader, device='cuda'):\n",
    "    # model.eval()  # Set the model to evaluation mode\n",
    "    with torch.no_grad():  # Turn off gradients to speed up this part\n",
    "        for i, (images, labels) in enumerate(test_loader):\n",
    "            images = images.to(device)\n",
    "            labels = labels.to(device)\n",
    "\n",
    "            # Forward pass\n",
    "            outputs = model(images)\n",
    "            outputs = torch.sigmoid(outputs)  # Apply sigmoid to get values between 0 and 1\n",
    "            outputs = outputs > 0.5  # Threshold the probabilities to create a binary mask\n",
    "            \n",
    "            # Save output images\n",
    "            for idx, output in enumerate(outputs):\n",
    "                save_path = f'g:/DL_Data_raw/version0/inference/tests_inference5/002_ou_DongYing_{i*test_loader.batch_size + idx + 13635}_roi_selected.png'\n",
    "                save_image(output, save_path)\n",
    "\n",
    "            print(f'Processed batch {i+1}/{len(test_loader)}')\n"
   ]
  },
  {
   "cell_type": "code",
   "execution_count": null,
   "metadata": {},
   "outputs": [],
   "source": [
    "# Test the model\n",
    "model = smp.Unet(\n",
    "    encoder_name=\"efficientnet-b2\",        # choose encoder, e.g. mobilenet_v2 or efficientnet-b7\n",
    "    encoder_weights=\"imagenet\",     # use `imagenet` pre-trained weights for encoder initialization\n",
    "    in_channels=1,                  # model input channels (1 for gray-scale images, 3 for RGB, etc.)\n",
    "    classes=1,                      # model output channels (number of classes in your dataset)\n",
    ")\n",
    "model.load_state_dict(torch.load('model.pth'))\n",
    "model = model.to(device)\n",
    "test_model(model, test_loader)"
   ]
  },
  {
   "cell_type": "code",
   "execution_count": null,
   "metadata": {},
   "outputs": [],
   "source": [
    "from API_functions import file_compare as fc\n",
    "%matplotlib qt\n",
    "\n",
    "db = fc.ImageDatabase()\n",
    "# image_processor.add_result('pre_processed', tpi.user_threshold(image_processor.image, 160))\n",
    "zoom = fc.ZoomRegion(350, 450, 100, 200)\n",
    "db.add_additional_folder('f:/3.Experimental_Data/DL_Data_raw/tests/', 'test_set')\n",
    "db.add_additional_folder('f:/3.Experimental_Data/DL_Data_raw/tests_inference4/', 'test_inference')\n",
    "db.add_additional_folder('f:/3.Experimental_Data/DL_Data_raw/test_labels/', 'test_labels')\n",
    "image_processor = db.get_image_processor('002_ou_DongYing_13636_roi_selected.png')\n",
    "image_processor.show_images('test_set', 'test_inference', 'test_labels', zoom_region=zoom)"
   ]
  }
 ],
 "metadata": {
  "kernelspec": {
   "display_name": "dpln39",
   "language": "python",
   "name": "python3"
  },
  "language_info": {
   "codemirror_mode": {
    "name": "ipython",
    "version": 3
   },
   "file_extension": ".py",
   "mimetype": "text/x-python",
   "name": "python",
   "nbconvert_exporter": "python",
   "pygments_lexer": "ipython3",
   "version": "3.9.18"
  }
 },
 "nbformat": 4,
 "nbformat_minor": 2
}
