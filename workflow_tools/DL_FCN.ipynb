{
 "cells": [
  {
   "cell_type": "markdown",
   "id": "e35c911c",
   "metadata": {},
   "source": [
    "# Semantic Segmentation with DeepLabV3+ on Grayscale Images"
   ]
  },
  {
   "cell_type": "markdown",
   "id": "5e277864",
   "metadata": {},
   "source": [
    "This notebook demonstrates how to train a semantic segmentation model using DeepLabV3+ on grayscale images. We'll use the `segmentation_models_pytorch` library, which provides pre-implemented models and utilities for semantic segmentation tasks."
   ]
  },
  {
   "cell_type": "markdown",
   "id": "76cf4fc1",
   "metadata": {},
   "source": [
    "## 1. Prerequisites\n"
   ]
  },
  {
   "cell_type": "code",
   "execution_count": 1,
   "id": "b85aae35",
   "metadata": {},
   "outputs": [],
   "source": [
    "import os\n",
    "import numpy as np\n",
    "from PIL import Image\n",
    "import matplotlib.pyplot as plt\n",
    "\n",
    "import torch\n",
    "import torch.nn as nn\n",
    "from torch.utils.data import Dataset, DataLoader\n",
    "import torchvision.transforms as transforms\n",
    "\n",
    "import segmentation_models_pytorch as smp"
   ]
  },
  {
   "cell_type": "markdown",
   "id": "0ac85b39",
   "metadata": {},
   "source": [
    "## 3. Dataset Preparation\n",
    "\n",
    "We'll create a custom dataset class to handle grayscale images and their corresponding masks."
   ]
  },
  {
   "cell_type": "code",
   "execution_count": null,
   "id": "063b2296",
   "metadata": {},
   "outputs": [],
   "source": [
    "class GrayscaleSegmentationDataset(Dataset):\n",
    "    def __init__(self, image_dir, mask_dir, transform=None):\n",
    "        self.image_dir = image_dir\n",
    "        self.mask_dir = mask_dir\n",
    "        self.transform = transform\n",
    "        self.images = os.listdir(image_dir)\n",
    "        \n",
    "    def __len__(self):\n",
    "        return len(self.images)\n",
    "    \n",
    "    def __getitem__(self, idx):\n",
    "        img_name = self.images[idx]\n",
    "        img_path = os.path.join(self.image_dir, img_name)\n",
    "        mask_path = os.path.join(self.mask_dir, img_name)\n",
    "        \n",
    "        image = Image.open(img_path).convert('L')\n",
    "        mask = Image.open(mask_path).convert('L')\n",
    "        \n",
    "        if self.transform:\n",
    "            image = self.transform(image)\n",
    "            mask = self.transform(mask)\n",
    "        \n",
    "        return image, mask.long()"
   ]
  },
  {
   "cell_type": "markdown",
   "id": "67c5a892",
   "metadata": {},
   "source": [
    "## 4. DataLoader Setup\n",
    "\n",
    "Define the transformations and create DataLoader instances for training and validation."
   ]
  },
  {
   "cell_type": "code",
   "execution_count": null,
   "id": "c3ec7381",
   "metadata": {},
   "outputs": [],
   "source": [
    "# Define transformations\n",
    "transform = transforms.Compose([\n",
    "    transforms.Resize((256, 256)),\n",
    "    transforms.ToTensor(),\n",
    "])\n",
    "\n",
    "# Directories\n",
    "train_image_dir = 'path/to/train/images'\n",
    "train_mask_dir = 'path/to/train/masks'\n",
    "val_image_dir = 'path/to/val/images'\n",
    "val_mask_dir = 'path/to/val/masks'\n",
    "\n",
    "# Datasets\n",
    "train_dataset = GrayscaleSegmentationDataset(train_image_dir, train_mask_dir, transform)\n",
    "val_dataset = GrayscaleSegmentationDataset(val_image_dir, val_mask_dir, transform)\n",
    "\n",
    "# DataLoaders\n",
    "train_loader = DataLoader(train_dataset, batch_size=8, shuffle=True)\n",
    "val_loader = DataLoader(val_dataset, batch_size=8, shuffle=False)"
   ]
  },
  {
   "cell_type": "markdown",
   "id": "8c4027b3",
   "metadata": {},
   "source": [
    "## 5. Model Initialization\n",
    "\n",
    "Initialize the DeepLabV3+ model with `in_channels=1` for grayscale images."
   ]
  },
  {
   "cell_type": "code",
   "execution_count": null,
   "id": "649176ff",
   "metadata": {},
   "outputs": [],
   "source": [
    "# Specify the number of classes (including background)\n",
    "num_classes = 2  # Change this based on your dataset\n",
    "\n",
    "# Initialize model\n",
    "model = smp.DeepLabV3Plus(\n",
    "    encoder_name='resnet34',        # Choose encoder, e.g., resnet34\n",
    "    encoder_weights=None,           # Use None to train from scratch\n",
    "    in_channels=1,                  # Grayscale images have 1 channel\n",
    "    classes=num_classes,            # Number of segmentation classes\n",
    ")"
   ]
  },
  {
   "cell_type": "markdown",
   "id": "201c9a6f",
   "metadata": {},
   "source": [
    "## 6. Training Setup\n",
    "\n",
    "Define the loss function, optimizer, and learning rate scheduler."
   ]
  },
  {
   "cell_type": "code",
   "execution_count": null,
   "id": "1d43a90f",
   "metadata": {},
   "outputs": [],
   "source": [
    "# Loss function\n",
    "criterion = nn.CrossEntropyLoss()\n",
    "\n",
    "# Optimizer\n",
    "optimizer = torch.optim.Adam(model.parameters(), lr=0.001)\n",
    "\n",
    "# Learning rate scheduler\n",
    "scheduler = torch.optim.lr_scheduler.StepLR(optimizer, step_size=10, gamma=0.1)\n",
    "\n",
    "# Move model to GPU if available\n",
    "device = torch.device('cuda' if torch.cuda.is_available() else 'cpu')\n",
    "model.to(device)"
   ]
  },
  {
   "cell_type": "markdown",
   "id": "7179bf5d",
   "metadata": {},
   "source": [
    "## 7. Training Loop\n",
    "\n",
    "Implement the training loop."
   ]
  },
  {
   "cell_type": "code",
   "execution_count": null,
   "id": "d84d0960",
   "metadata": {},
   "outputs": [],
   "source": [
    "num_epochs = 25\n",
    "\n",
    "for epoch in range(num_epochs):\n",
    "    model.train()\n",
    "    epoch_loss = 0\n",
    "\n",
    "    for images, masks in train_loader:\n",
    "        images = images.to(device)\n",
    "        masks = masks.to(device)\n",
    "\n",
    "        # Forward pass\n",
    "        outputs = model(images)\n",
    "        loss = criterion(outputs, masks.squeeze(1))\n",
    "\n",
    "        # Backward and optimize\n",
    "        optimizer.zero_grad()\n",
    "        loss.backward()\n",
    "        optimizer.step()\n",
    "\n",
    "        epoch_loss += loss.item()\n",
    "\n",
    "    # Adjust learning rate\n",
    "    scheduler.step()\n",
    "\n",
    "    print(f'Epoch [{epoch+1}/{num_epochs}], Loss: {epoch_loss/len(train_loader):.4f}')"
   ]
  },
  {
   "cell_type": "markdown",
   "id": "b8f7675a",
   "metadata": {},
   "source": [
    "## 8. Validation\n",
    "\n",
    "Evaluate the model on the validation set."
   ]
  },
  {
   "cell_type": "code",
   "execution_count": null,
   "id": "8d8409e1",
   "metadata": {},
   "outputs": [],
   "source": [
    "model.eval()\n",
    "with torch.no_grad():\n",
    "    total = 0\n",
    "    correct = 0\n",
    "    for images, masks in val_loader:\n",
    "        images = images.to(device)\n",
    "        masks = masks.to(device)\n",
    "\n",
    "        outputs = model(images)\n",
    "        _, predicted = torch.max(outputs.data, 1)\n",
    "        total += masks.nelement()\n",
    "        correct += (predicted == masks.squeeze(1)).sum().item()\n",
    "\n",
    "    print(f'Validation Accuracy: {100 * correct / total:.2f}%')"
   ]
  },
  {
   "cell_type": "markdown",
   "id": "aebbe7da",
   "metadata": {},
   "source": [
    "## 9. Saving the Model\n",
    "\n",
    "Save the trained model for future use."
   ]
  },
  {
   "cell_type": "code",
   "execution_count": null,
   "id": "0efb49e1",
   "metadata": {},
   "outputs": [],
   "source": [
    "model_path = 'deeplabv3plus_grayscale.pth'\n",
    "torch.save(model.state_dict(), model_path)\n",
    "print(f'Model saved to {model_path}')"
   ]
  },
  {
   "cell_type": "markdown",
   "id": "59ff82e0",
   "metadata": {},
   "source": [
    "## 10. Conclusion\n",
    "\n",
    "You've successfully trained a DeepLabV3+ semantic segmentation model on grayscale images. You can now use this model for inference or further fine-tuning.\n",
    "\n",
    "**References:**\n",
    "\n",
    "- [segmentation_models_pytorch Documentation](https://smp.readthedocs.io/en/latest/models.html#deeplabv3plus)"
   ]
  }
 ],
 "metadata": {
  "kernelspec": {
   "display_name": "dpln39",
   "language": "python",
   "name": "python3"
  },
  "language_info": {
   "codemirror_mode": {
    "name": "ipython",
    "version": 3
   },
   "file_extension": ".py",
   "mimetype": "text/x-python",
   "name": "python",
   "nbconvert_exporter": "python",
   "pygments_lexer": "ipython3",
   "version": "3.9.18"
  }
 },
 "nbformat": 4,
 "nbformat_minor": 5
}
